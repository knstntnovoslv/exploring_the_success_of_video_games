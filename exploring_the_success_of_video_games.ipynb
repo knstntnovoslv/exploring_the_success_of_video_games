{
 "cells": [
  {
   "cell_type": "markdown",
   "metadata": {},
   "source": [
    "Цель проекта:  Выявить определяющие успешность игры закономерности"
   ]
  },
  {
   "cell_type": "markdown",
   "metadata": {},
   "source": [
    "Описание данных:\n",
    "1. Name — название игры\n",
    "2. Platform — платформа\n",
    "3. Year_of_Release — год выпуска\n",
    "4. Genre — жанр игры\n",
    "5. NA_sales — продажи в Северной Америке (миллионы проданных копий)\n",
    "6. EU_sales — продажи в Европе (миллионы проданных копий)\n",
    "7. JP_sales — продажи в Японии (миллионы проданных копий)\n",
    "8. Other_sales — продажи в других странах (миллионы проданных копий)\n",
    "9. Critic_Score — оценка критиков (максимум 100)\n",
    "10. User_Score — оценка пользователей (максимум 10)\n",
    "11. Rating — рейтинг от организации ESRB (англ. Entertainment Software Rating Board). Эта ассоциация определяет рейтинг компьютерных игр и присваивает им подходящую возрастную категорию."
   ]
  },
  {
   "cell_type": "code",
   "execution_count": 1,
   "metadata": {},
   "outputs": [],
   "source": [
    "import pandas as pd\n",
    "import matplotlib.pyplot as plt\n",
    "from scipy import stats as st"
   ]
  },
  {
   "cell_type": "code",
   "execution_count": 2,
   "metadata": {},
   "outputs": [
    {
     "data": {
      "text/html": [
       "<div>\n",
       "<style scoped>\n",
       "    .dataframe tbody tr th:only-of-type {\n",
       "        vertical-align: middle;\n",
       "    }\n",
       "\n",
       "    .dataframe tbody tr th {\n",
       "        vertical-align: top;\n",
       "    }\n",
       "\n",
       "    .dataframe thead th {\n",
       "        text-align: right;\n",
       "    }\n",
       "</style>\n",
       "<table border=\"1\" class=\"dataframe\">\n",
       "  <thead>\n",
       "    <tr style=\"text-align: right;\">\n",
       "      <th></th>\n",
       "      <th>Name</th>\n",
       "      <th>Platform</th>\n",
       "      <th>Year_of_Release</th>\n",
       "      <th>Genre</th>\n",
       "      <th>NA_sales</th>\n",
       "      <th>EU_sales</th>\n",
       "      <th>JP_sales</th>\n",
       "      <th>Other_sales</th>\n",
       "      <th>Critic_Score</th>\n",
       "      <th>User_Score</th>\n",
       "      <th>Rating</th>\n",
       "    </tr>\n",
       "  </thead>\n",
       "  <tbody>\n",
       "    <tr>\n",
       "      <td>0</td>\n",
       "      <td>Wii Sports</td>\n",
       "      <td>Wii</td>\n",
       "      <td>2006.0</td>\n",
       "      <td>Sports</td>\n",
       "      <td>41.36</td>\n",
       "      <td>28.96</td>\n",
       "      <td>3.77</td>\n",
       "      <td>8.45</td>\n",
       "      <td>76.0</td>\n",
       "      <td>8</td>\n",
       "      <td>E</td>\n",
       "    </tr>\n",
       "    <tr>\n",
       "      <td>1</td>\n",
       "      <td>Super Mario Bros.</td>\n",
       "      <td>NES</td>\n",
       "      <td>1985.0</td>\n",
       "      <td>Platform</td>\n",
       "      <td>29.08</td>\n",
       "      <td>3.58</td>\n",
       "      <td>6.81</td>\n",
       "      <td>0.77</td>\n",
       "      <td>NaN</td>\n",
       "      <td>NaN</td>\n",
       "      <td>NaN</td>\n",
       "    </tr>\n",
       "    <tr>\n",
       "      <td>2</td>\n",
       "      <td>Mario Kart Wii</td>\n",
       "      <td>Wii</td>\n",
       "      <td>2008.0</td>\n",
       "      <td>Racing</td>\n",
       "      <td>15.68</td>\n",
       "      <td>12.76</td>\n",
       "      <td>3.79</td>\n",
       "      <td>3.29</td>\n",
       "      <td>82.0</td>\n",
       "      <td>8.3</td>\n",
       "      <td>E</td>\n",
       "    </tr>\n",
       "    <tr>\n",
       "      <td>3</td>\n",
       "      <td>Wii Sports Resort</td>\n",
       "      <td>Wii</td>\n",
       "      <td>2009.0</td>\n",
       "      <td>Sports</td>\n",
       "      <td>15.61</td>\n",
       "      <td>10.93</td>\n",
       "      <td>3.28</td>\n",
       "      <td>2.95</td>\n",
       "      <td>80.0</td>\n",
       "      <td>8</td>\n",
       "      <td>E</td>\n",
       "    </tr>\n",
       "    <tr>\n",
       "      <td>4</td>\n",
       "      <td>Pokemon Red/Pokemon Blue</td>\n",
       "      <td>GB</td>\n",
       "      <td>1996.0</td>\n",
       "      <td>Role-Playing</td>\n",
       "      <td>11.27</td>\n",
       "      <td>8.89</td>\n",
       "      <td>10.22</td>\n",
       "      <td>1.00</td>\n",
       "      <td>NaN</td>\n",
       "      <td>NaN</td>\n",
       "      <td>NaN</td>\n",
       "    </tr>\n",
       "    <tr>\n",
       "      <td>...</td>\n",
       "      <td>...</td>\n",
       "      <td>...</td>\n",
       "      <td>...</td>\n",
       "      <td>...</td>\n",
       "      <td>...</td>\n",
       "      <td>...</td>\n",
       "      <td>...</td>\n",
       "      <td>...</td>\n",
       "      <td>...</td>\n",
       "      <td>...</td>\n",
       "      <td>...</td>\n",
       "    </tr>\n",
       "    <tr>\n",
       "      <td>16710</td>\n",
       "      <td>Samurai Warriors: Sanada Maru</td>\n",
       "      <td>PS3</td>\n",
       "      <td>2016.0</td>\n",
       "      <td>Action</td>\n",
       "      <td>0.00</td>\n",
       "      <td>0.00</td>\n",
       "      <td>0.01</td>\n",
       "      <td>0.00</td>\n",
       "      <td>NaN</td>\n",
       "      <td>NaN</td>\n",
       "      <td>NaN</td>\n",
       "    </tr>\n",
       "    <tr>\n",
       "      <td>16711</td>\n",
       "      <td>LMA Manager 2007</td>\n",
       "      <td>X360</td>\n",
       "      <td>2006.0</td>\n",
       "      <td>Sports</td>\n",
       "      <td>0.00</td>\n",
       "      <td>0.01</td>\n",
       "      <td>0.00</td>\n",
       "      <td>0.00</td>\n",
       "      <td>NaN</td>\n",
       "      <td>NaN</td>\n",
       "      <td>NaN</td>\n",
       "    </tr>\n",
       "    <tr>\n",
       "      <td>16712</td>\n",
       "      <td>Haitaka no Psychedelica</td>\n",
       "      <td>PSV</td>\n",
       "      <td>2016.0</td>\n",
       "      <td>Adventure</td>\n",
       "      <td>0.00</td>\n",
       "      <td>0.00</td>\n",
       "      <td>0.01</td>\n",
       "      <td>0.00</td>\n",
       "      <td>NaN</td>\n",
       "      <td>NaN</td>\n",
       "      <td>NaN</td>\n",
       "    </tr>\n",
       "    <tr>\n",
       "      <td>16713</td>\n",
       "      <td>Spirits &amp; Spells</td>\n",
       "      <td>GBA</td>\n",
       "      <td>2003.0</td>\n",
       "      <td>Platform</td>\n",
       "      <td>0.01</td>\n",
       "      <td>0.00</td>\n",
       "      <td>0.00</td>\n",
       "      <td>0.00</td>\n",
       "      <td>NaN</td>\n",
       "      <td>NaN</td>\n",
       "      <td>NaN</td>\n",
       "    </tr>\n",
       "    <tr>\n",
       "      <td>16714</td>\n",
       "      <td>Winning Post 8 2016</td>\n",
       "      <td>PSV</td>\n",
       "      <td>2016.0</td>\n",
       "      <td>Simulation</td>\n",
       "      <td>0.00</td>\n",
       "      <td>0.00</td>\n",
       "      <td>0.01</td>\n",
       "      <td>0.00</td>\n",
       "      <td>NaN</td>\n",
       "      <td>NaN</td>\n",
       "      <td>NaN</td>\n",
       "    </tr>\n",
       "  </tbody>\n",
       "</table>\n",
       "<p>16715 rows × 11 columns</p>\n",
       "</div>"
      ],
      "text/plain": [
       "                                Name Platform  Year_of_Release         Genre  \\\n",
       "0                         Wii Sports      Wii           2006.0        Sports   \n",
       "1                  Super Mario Bros.      NES           1985.0      Platform   \n",
       "2                     Mario Kart Wii      Wii           2008.0        Racing   \n",
       "3                  Wii Sports Resort      Wii           2009.0        Sports   \n",
       "4           Pokemon Red/Pokemon Blue       GB           1996.0  Role-Playing   \n",
       "...                              ...      ...              ...           ...   \n",
       "16710  Samurai Warriors: Sanada Maru      PS3           2016.0        Action   \n",
       "16711               LMA Manager 2007     X360           2006.0        Sports   \n",
       "16712        Haitaka no Psychedelica      PSV           2016.0     Adventure   \n",
       "16713               Spirits & Spells      GBA           2003.0      Platform   \n",
       "16714            Winning Post 8 2016      PSV           2016.0    Simulation   \n",
       "\n",
       "       NA_sales  EU_sales  JP_sales  Other_sales  Critic_Score User_Score  \\\n",
       "0         41.36     28.96      3.77         8.45          76.0          8   \n",
       "1         29.08      3.58      6.81         0.77           NaN        NaN   \n",
       "2         15.68     12.76      3.79         3.29          82.0        8.3   \n",
       "3         15.61     10.93      3.28         2.95          80.0          8   \n",
       "4         11.27      8.89     10.22         1.00           NaN        NaN   \n",
       "...         ...       ...       ...          ...           ...        ...   \n",
       "16710      0.00      0.00      0.01         0.00           NaN        NaN   \n",
       "16711      0.00      0.01      0.00         0.00           NaN        NaN   \n",
       "16712      0.00      0.00      0.01         0.00           NaN        NaN   \n",
       "16713      0.01      0.00      0.00         0.00           NaN        NaN   \n",
       "16714      0.00      0.00      0.01         0.00           NaN        NaN   \n",
       "\n",
       "      Rating  \n",
       "0          E  \n",
       "1        NaN  \n",
       "2          E  \n",
       "3          E  \n",
       "4        NaN  \n",
       "...      ...  \n",
       "16710    NaN  \n",
       "16711    NaN  \n",
       "16712    NaN  \n",
       "16713    NaN  \n",
       "16714    NaN  \n",
       "\n",
       "[16715 rows x 11 columns]"
      ]
     },
     "execution_count": 2,
     "metadata": {},
     "output_type": "execute_result"
    }
   ],
   "source": [
    "df =pd.read_csv('/datasets/games.csv')\n",
    "df"
   ]
  },
  {
   "cell_type": "code",
   "execution_count": 3,
   "metadata": {},
   "outputs": [
    {
     "data": {
      "text/html": [
       "<div>\n",
       "<style scoped>\n",
       "    .dataframe tbody tr th:only-of-type {\n",
       "        vertical-align: middle;\n",
       "    }\n",
       "\n",
       "    .dataframe tbody tr th {\n",
       "        vertical-align: top;\n",
       "    }\n",
       "\n",
       "    .dataframe thead th {\n",
       "        text-align: right;\n",
       "    }\n",
       "</style>\n",
       "<table border=\"1\" class=\"dataframe\">\n",
       "  <thead>\n",
       "    <tr style=\"text-align: right;\">\n",
       "      <th></th>\n",
       "      <th>name</th>\n",
       "      <th>platform</th>\n",
       "      <th>year_of_release</th>\n",
       "      <th>genre</th>\n",
       "      <th>na_sales</th>\n",
       "      <th>eu_sales</th>\n",
       "      <th>jp_sales</th>\n",
       "      <th>other_sales</th>\n",
       "      <th>critic_score</th>\n",
       "      <th>user_score</th>\n",
       "      <th>rating</th>\n",
       "    </tr>\n",
       "  </thead>\n",
       "  <tbody>\n",
       "    <tr>\n",
       "      <td>0</td>\n",
       "      <td>Wii Sports</td>\n",
       "      <td>Wii</td>\n",
       "      <td>2006.0</td>\n",
       "      <td>Sports</td>\n",
       "      <td>41.36</td>\n",
       "      <td>28.96</td>\n",
       "      <td>3.77</td>\n",
       "      <td>8.45</td>\n",
       "      <td>76.0</td>\n",
       "      <td>8</td>\n",
       "      <td>E</td>\n",
       "    </tr>\n",
       "    <tr>\n",
       "      <td>1</td>\n",
       "      <td>Super Mario Bros.</td>\n",
       "      <td>NES</td>\n",
       "      <td>1985.0</td>\n",
       "      <td>Platform</td>\n",
       "      <td>29.08</td>\n",
       "      <td>3.58</td>\n",
       "      <td>6.81</td>\n",
       "      <td>0.77</td>\n",
       "      <td>NaN</td>\n",
       "      <td>NaN</td>\n",
       "      <td>NaN</td>\n",
       "    </tr>\n",
       "    <tr>\n",
       "      <td>2</td>\n",
       "      <td>Mario Kart Wii</td>\n",
       "      <td>Wii</td>\n",
       "      <td>2008.0</td>\n",
       "      <td>Racing</td>\n",
       "      <td>15.68</td>\n",
       "      <td>12.76</td>\n",
       "      <td>3.79</td>\n",
       "      <td>3.29</td>\n",
       "      <td>82.0</td>\n",
       "      <td>8.3</td>\n",
       "      <td>E</td>\n",
       "    </tr>\n",
       "    <tr>\n",
       "      <td>3</td>\n",
       "      <td>Wii Sports Resort</td>\n",
       "      <td>Wii</td>\n",
       "      <td>2009.0</td>\n",
       "      <td>Sports</td>\n",
       "      <td>15.61</td>\n",
       "      <td>10.93</td>\n",
       "      <td>3.28</td>\n",
       "      <td>2.95</td>\n",
       "      <td>80.0</td>\n",
       "      <td>8</td>\n",
       "      <td>E</td>\n",
       "    </tr>\n",
       "    <tr>\n",
       "      <td>4</td>\n",
       "      <td>Pokemon Red/Pokemon Blue</td>\n",
       "      <td>GB</td>\n",
       "      <td>1996.0</td>\n",
       "      <td>Role-Playing</td>\n",
       "      <td>11.27</td>\n",
       "      <td>8.89</td>\n",
       "      <td>10.22</td>\n",
       "      <td>1.00</td>\n",
       "      <td>NaN</td>\n",
       "      <td>NaN</td>\n",
       "      <td>NaN</td>\n",
       "    </tr>\n",
       "    <tr>\n",
       "      <td>...</td>\n",
       "      <td>...</td>\n",
       "      <td>...</td>\n",
       "      <td>...</td>\n",
       "      <td>...</td>\n",
       "      <td>...</td>\n",
       "      <td>...</td>\n",
       "      <td>...</td>\n",
       "      <td>...</td>\n",
       "      <td>...</td>\n",
       "      <td>...</td>\n",
       "      <td>...</td>\n",
       "    </tr>\n",
       "    <tr>\n",
       "      <td>16710</td>\n",
       "      <td>Samurai Warriors: Sanada Maru</td>\n",
       "      <td>PS3</td>\n",
       "      <td>2016.0</td>\n",
       "      <td>Action</td>\n",
       "      <td>0.00</td>\n",
       "      <td>0.00</td>\n",
       "      <td>0.01</td>\n",
       "      <td>0.00</td>\n",
       "      <td>NaN</td>\n",
       "      <td>NaN</td>\n",
       "      <td>NaN</td>\n",
       "    </tr>\n",
       "    <tr>\n",
       "      <td>16711</td>\n",
       "      <td>LMA Manager 2007</td>\n",
       "      <td>X360</td>\n",
       "      <td>2006.0</td>\n",
       "      <td>Sports</td>\n",
       "      <td>0.00</td>\n",
       "      <td>0.01</td>\n",
       "      <td>0.00</td>\n",
       "      <td>0.00</td>\n",
       "      <td>NaN</td>\n",
       "      <td>NaN</td>\n",
       "      <td>NaN</td>\n",
       "    </tr>\n",
       "    <tr>\n",
       "      <td>16712</td>\n",
       "      <td>Haitaka no Psychedelica</td>\n",
       "      <td>PSV</td>\n",
       "      <td>2016.0</td>\n",
       "      <td>Adventure</td>\n",
       "      <td>0.00</td>\n",
       "      <td>0.00</td>\n",
       "      <td>0.01</td>\n",
       "      <td>0.00</td>\n",
       "      <td>NaN</td>\n",
       "      <td>NaN</td>\n",
       "      <td>NaN</td>\n",
       "    </tr>\n",
       "    <tr>\n",
       "      <td>16713</td>\n",
       "      <td>Spirits &amp; Spells</td>\n",
       "      <td>GBA</td>\n",
       "      <td>2003.0</td>\n",
       "      <td>Platform</td>\n",
       "      <td>0.01</td>\n",
       "      <td>0.00</td>\n",
       "      <td>0.00</td>\n",
       "      <td>0.00</td>\n",
       "      <td>NaN</td>\n",
       "      <td>NaN</td>\n",
       "      <td>NaN</td>\n",
       "    </tr>\n",
       "    <tr>\n",
       "      <td>16714</td>\n",
       "      <td>Winning Post 8 2016</td>\n",
       "      <td>PSV</td>\n",
       "      <td>2016.0</td>\n",
       "      <td>Simulation</td>\n",
       "      <td>0.00</td>\n",
       "      <td>0.00</td>\n",
       "      <td>0.01</td>\n",
       "      <td>0.00</td>\n",
       "      <td>NaN</td>\n",
       "      <td>NaN</td>\n",
       "      <td>NaN</td>\n",
       "    </tr>\n",
       "  </tbody>\n",
       "</table>\n",
       "<p>16715 rows × 11 columns</p>\n",
       "</div>"
      ],
      "text/plain": [
       "                                name platform  year_of_release         genre  \\\n",
       "0                         Wii Sports      Wii           2006.0        Sports   \n",
       "1                  Super Mario Bros.      NES           1985.0      Platform   \n",
       "2                     Mario Kart Wii      Wii           2008.0        Racing   \n",
       "3                  Wii Sports Resort      Wii           2009.0        Sports   \n",
       "4           Pokemon Red/Pokemon Blue       GB           1996.0  Role-Playing   \n",
       "...                              ...      ...              ...           ...   \n",
       "16710  Samurai Warriors: Sanada Maru      PS3           2016.0        Action   \n",
       "16711               LMA Manager 2007     X360           2006.0        Sports   \n",
       "16712        Haitaka no Psychedelica      PSV           2016.0     Adventure   \n",
       "16713               Spirits & Spells      GBA           2003.0      Platform   \n",
       "16714            Winning Post 8 2016      PSV           2016.0    Simulation   \n",
       "\n",
       "       na_sales  eu_sales  jp_sales  other_sales  critic_score user_score  \\\n",
       "0         41.36     28.96      3.77         8.45          76.0          8   \n",
       "1         29.08      3.58      6.81         0.77           NaN        NaN   \n",
       "2         15.68     12.76      3.79         3.29          82.0        8.3   \n",
       "3         15.61     10.93      3.28         2.95          80.0          8   \n",
       "4         11.27      8.89     10.22         1.00           NaN        NaN   \n",
       "...         ...       ...       ...          ...           ...        ...   \n",
       "16710      0.00      0.00      0.01         0.00           NaN        NaN   \n",
       "16711      0.00      0.01      0.00         0.00           NaN        NaN   \n",
       "16712      0.00      0.00      0.01         0.00           NaN        NaN   \n",
       "16713      0.01      0.00      0.00         0.00           NaN        NaN   \n",
       "16714      0.00      0.00      0.01         0.00           NaN        NaN   \n",
       "\n",
       "      rating  \n",
       "0          E  \n",
       "1        NaN  \n",
       "2          E  \n",
       "3          E  \n",
       "4        NaN  \n",
       "...      ...  \n",
       "16710    NaN  \n",
       "16711    NaN  \n",
       "16712    NaN  \n",
       "16713    NaN  \n",
       "16714    NaN  \n",
       "\n",
       "[16715 rows x 11 columns]"
      ]
     },
     "execution_count": 3,
     "metadata": {},
     "output_type": "execute_result"
    }
   ],
   "source": [
    "names = ['name', 'platform', 'year_of_release', 'genre', 'na_sales', 'eu_sales', 'jp_sales', 'other_sales', 'critic_score',\n",
    "             'user_score', 'rating']\n",
    "df.set_axis(names, axis='columns',inplace=True)\n",
    "df"
   ]
  },
  {
   "cell_type": "markdown",
   "metadata": {},
   "source": [
    "Обработка пропусков"
   ]
  },
  {
   "cell_type": "code",
   "execution_count": 4,
   "metadata": {},
   "outputs": [
    {
     "data": {
      "text/plain": [
       "name                  2\n",
       "platform              0\n",
       "year_of_release     269\n",
       "genre                 2\n",
       "na_sales              0\n",
       "eu_sales              0\n",
       "jp_sales              0\n",
       "other_sales           0\n",
       "critic_score       8578\n",
       "user_score         6701\n",
       "rating             6766\n",
       "dtype: int64"
      ]
     },
     "execution_count": 4,
     "metadata": {},
     "output_type": "execute_result"
    }
   ],
   "source": [
    "df.isna().sum()"
   ]
  },
  {
   "cell_type": "markdown",
   "metadata": {},
   "source": [
    "Мы не можем определить год релиза игры, кроме того этих данных мало, поэтому можно удалить строки, где значения столбца year_of_release пустые, то же самое в столбце name"
   ]
  },
  {
   "cell_type": "code",
   "execution_count": 5,
   "metadata": {},
   "outputs": [
    {
     "data": {
      "text/plain": [
       "name                  0\n",
       "platform              0\n",
       "year_of_release       0\n",
       "genre                 0\n",
       "na_sales              0\n",
       "eu_sales              0\n",
       "jp_sales              0\n",
       "other_sales           0\n",
       "critic_score       8461\n",
       "user_score         6605\n",
       "rating             6676\n",
       "dtype: int64"
      ]
     },
     "execution_count": 5,
     "metadata": {},
     "output_type": "execute_result"
    }
   ],
   "source": [
    "df.dropna(subset=['year_of_release', 'name'], inplace=True)\n",
    "df = df.reset_index(drop=True)\n",
    "df.isna().sum()"
   ]
  },
  {
   "cell_type": "markdown",
   "metadata": {},
   "source": [
    "Можем заменить данные в столбцах с рейтингом на средние значения в этих столбцах, заметим, что оценки критиков почти всегда(с точностью до порядка) совпадают с оценкой пользователей, посчитаем среднее в столбце critic_score, заменим там пустые значения средним, кроме того, заменим этим же значением, деленым на 10, с добавленной единицей, пустые значения в столбце user_score"
   ]
  },
  {
   "cell_type": "code",
   "execution_count": 6,
   "metadata": {},
   "outputs": [
    {
     "data": {
      "text/plain": [
       "name                  0\n",
       "platform              0\n",
       "year_of_release       0\n",
       "genre                 0\n",
       "na_sales              0\n",
       "eu_sales              0\n",
       "jp_sales              0\n",
       "other_sales           0\n",
       "critic_score       8461\n",
       "user_score         6605\n",
       "rating             6676\n",
       "dtype: int64"
      ]
     },
     "execution_count": 6,
     "metadata": {},
     "output_type": "execute_result"
    }
   ],
   "source": [
    "df.isna().sum()"
   ]
  },
  {
   "cell_type": "markdown",
   "metadata": {},
   "source": [
    "Пустые значения в столбце с возрастным ограничением мы не можем корректно заменить"
   ]
  },
  {
   "cell_type": "markdown",
   "metadata": {},
   "source": [
    "Пропуски могли возникнуть из-за ошибки выгрузки(в столбце name), в столбцах critic_score и user_score из-за того, что игры выпускались давно и оценки в те времена еще не проводились, либо если игру выпустили недавно, то оценки тоже еще не провелись, либо игра не достаточно популярная для того чтобы ее оценивать"
   ]
  },
  {
   "cell_type": "markdown",
   "metadata": {},
   "source": [
    "Обработаем типы данных"
   ]
  },
  {
   "cell_type": "code",
   "execution_count": 7,
   "metadata": {},
   "outputs": [
    {
     "name": "stdout",
     "output_type": "stream",
     "text": [
      "<class 'pandas.core.frame.DataFrame'>\n",
      "RangeIndex: 16444 entries, 0 to 16443\n",
      "Data columns (total 11 columns):\n",
      "name               16444 non-null object\n",
      "platform           16444 non-null object\n",
      "year_of_release    16444 non-null float64\n",
      "genre              16444 non-null object\n",
      "na_sales           16444 non-null float64\n",
      "eu_sales           16444 non-null float64\n",
      "jp_sales           16444 non-null float64\n",
      "other_sales        16444 non-null float64\n",
      "critic_score       7983 non-null float64\n",
      "user_score         9839 non-null object\n",
      "rating             9768 non-null object\n",
      "dtypes: float64(6), object(5)\n",
      "memory usage: 1.4+ MB\n"
     ]
    }
   ],
   "source": [
    "df.info()"
   ]
  },
  {
   "cell_type": "markdown",
   "metadata": {},
   "source": [
    "Обработка столбца user_score. Там присутствует аббревиатура tbd(to be decided или to be determined), она значит, что решение еще не принято, заменим его по такому же принципу, как заменяли пустые значения"
   ]
  },
  {
   "cell_type": "code",
   "execution_count": 8,
   "metadata": {},
   "outputs": [],
   "source": [
    "df = df.loc[df['user_score'] != 'tbd']"
   ]
  },
  {
   "cell_type": "markdown",
   "metadata": {},
   "source": [
    "Приведение данных столбца user_score к вещественному типу"
   ]
  },
  {
   "cell_type": "code",
   "execution_count": 9,
   "metadata": {},
   "outputs": [],
   "source": [
    "df['user_score'] = df['user_score'].astype('float')"
   ]
  },
  {
   "cell_type": "markdown",
   "metadata": {},
   "source": [
    "Нужно привести к временному типу столбец year_of_release"
   ]
  },
  {
   "cell_type": "code",
   "execution_count": 10,
   "metadata": {},
   "outputs": [
    {
     "data": {
      "text/html": [
       "<div>\n",
       "<style scoped>\n",
       "    .dataframe tbody tr th:only-of-type {\n",
       "        vertical-align: middle;\n",
       "    }\n",
       "\n",
       "    .dataframe tbody tr th {\n",
       "        vertical-align: top;\n",
       "    }\n",
       "\n",
       "    .dataframe thead th {\n",
       "        text-align: right;\n",
       "    }\n",
       "</style>\n",
       "<table border=\"1\" class=\"dataframe\">\n",
       "  <thead>\n",
       "    <tr style=\"text-align: right;\">\n",
       "      <th></th>\n",
       "      <th>name</th>\n",
       "      <th>platform</th>\n",
       "      <th>year_of_release</th>\n",
       "      <th>genre</th>\n",
       "      <th>na_sales</th>\n",
       "      <th>eu_sales</th>\n",
       "      <th>jp_sales</th>\n",
       "      <th>other_sales</th>\n",
       "      <th>critic_score</th>\n",
       "      <th>user_score</th>\n",
       "      <th>rating</th>\n",
       "    </tr>\n",
       "  </thead>\n",
       "  <tbody>\n",
       "    <tr>\n",
       "      <td>0</td>\n",
       "      <td>Wii Sports</td>\n",
       "      <td>Wii</td>\n",
       "      <td>2006</td>\n",
       "      <td>Sports</td>\n",
       "      <td>41.36</td>\n",
       "      <td>28.96</td>\n",
       "      <td>3.77</td>\n",
       "      <td>8.45</td>\n",
       "      <td>76.0</td>\n",
       "      <td>8.0</td>\n",
       "      <td>E</td>\n",
       "    </tr>\n",
       "    <tr>\n",
       "      <td>1</td>\n",
       "      <td>Super Mario Bros.</td>\n",
       "      <td>NES</td>\n",
       "      <td>1985</td>\n",
       "      <td>Platform</td>\n",
       "      <td>29.08</td>\n",
       "      <td>3.58</td>\n",
       "      <td>6.81</td>\n",
       "      <td>0.77</td>\n",
       "      <td>NaN</td>\n",
       "      <td>NaN</td>\n",
       "      <td>NaN</td>\n",
       "    </tr>\n",
       "    <tr>\n",
       "      <td>2</td>\n",
       "      <td>Mario Kart Wii</td>\n",
       "      <td>Wii</td>\n",
       "      <td>2008</td>\n",
       "      <td>Racing</td>\n",
       "      <td>15.68</td>\n",
       "      <td>12.76</td>\n",
       "      <td>3.79</td>\n",
       "      <td>3.29</td>\n",
       "      <td>82.0</td>\n",
       "      <td>8.3</td>\n",
       "      <td>E</td>\n",
       "    </tr>\n",
       "    <tr>\n",
       "      <td>3</td>\n",
       "      <td>Wii Sports Resort</td>\n",
       "      <td>Wii</td>\n",
       "      <td>2009</td>\n",
       "      <td>Sports</td>\n",
       "      <td>15.61</td>\n",
       "      <td>10.93</td>\n",
       "      <td>3.28</td>\n",
       "      <td>2.95</td>\n",
       "      <td>80.0</td>\n",
       "      <td>8.0</td>\n",
       "      <td>E</td>\n",
       "    </tr>\n",
       "    <tr>\n",
       "      <td>4</td>\n",
       "      <td>Pokemon Red/Pokemon Blue</td>\n",
       "      <td>GB</td>\n",
       "      <td>1996</td>\n",
       "      <td>Role-Playing</td>\n",
       "      <td>11.27</td>\n",
       "      <td>8.89</td>\n",
       "      <td>10.22</td>\n",
       "      <td>1.00</td>\n",
       "      <td>NaN</td>\n",
       "      <td>NaN</td>\n",
       "      <td>NaN</td>\n",
       "    </tr>\n",
       "    <tr>\n",
       "      <td>...</td>\n",
       "      <td>...</td>\n",
       "      <td>...</td>\n",
       "      <td>...</td>\n",
       "      <td>...</td>\n",
       "      <td>...</td>\n",
       "      <td>...</td>\n",
       "      <td>...</td>\n",
       "      <td>...</td>\n",
       "      <td>...</td>\n",
       "      <td>...</td>\n",
       "      <td>...</td>\n",
       "    </tr>\n",
       "    <tr>\n",
       "      <td>16439</td>\n",
       "      <td>Samurai Warriors: Sanada Maru</td>\n",
       "      <td>PS3</td>\n",
       "      <td>2016</td>\n",
       "      <td>Action</td>\n",
       "      <td>0.00</td>\n",
       "      <td>0.00</td>\n",
       "      <td>0.01</td>\n",
       "      <td>0.00</td>\n",
       "      <td>NaN</td>\n",
       "      <td>NaN</td>\n",
       "      <td>NaN</td>\n",
       "    </tr>\n",
       "    <tr>\n",
       "      <td>16440</td>\n",
       "      <td>LMA Manager 2007</td>\n",
       "      <td>X360</td>\n",
       "      <td>2006</td>\n",
       "      <td>Sports</td>\n",
       "      <td>0.00</td>\n",
       "      <td>0.01</td>\n",
       "      <td>0.00</td>\n",
       "      <td>0.00</td>\n",
       "      <td>NaN</td>\n",
       "      <td>NaN</td>\n",
       "      <td>NaN</td>\n",
       "    </tr>\n",
       "    <tr>\n",
       "      <td>16441</td>\n",
       "      <td>Haitaka no Psychedelica</td>\n",
       "      <td>PSV</td>\n",
       "      <td>2016</td>\n",
       "      <td>Adventure</td>\n",
       "      <td>0.00</td>\n",
       "      <td>0.00</td>\n",
       "      <td>0.01</td>\n",
       "      <td>0.00</td>\n",
       "      <td>NaN</td>\n",
       "      <td>NaN</td>\n",
       "      <td>NaN</td>\n",
       "    </tr>\n",
       "    <tr>\n",
       "      <td>16442</td>\n",
       "      <td>Spirits &amp; Spells</td>\n",
       "      <td>GBA</td>\n",
       "      <td>2003</td>\n",
       "      <td>Platform</td>\n",
       "      <td>0.01</td>\n",
       "      <td>0.00</td>\n",
       "      <td>0.00</td>\n",
       "      <td>0.00</td>\n",
       "      <td>NaN</td>\n",
       "      <td>NaN</td>\n",
       "      <td>NaN</td>\n",
       "    </tr>\n",
       "    <tr>\n",
       "      <td>16443</td>\n",
       "      <td>Winning Post 8 2016</td>\n",
       "      <td>PSV</td>\n",
       "      <td>2016</td>\n",
       "      <td>Simulation</td>\n",
       "      <td>0.00</td>\n",
       "      <td>0.00</td>\n",
       "      <td>0.01</td>\n",
       "      <td>0.00</td>\n",
       "      <td>NaN</td>\n",
       "      <td>NaN</td>\n",
       "      <td>NaN</td>\n",
       "    </tr>\n",
       "  </tbody>\n",
       "</table>\n",
       "<p>14068 rows × 11 columns</p>\n",
       "</div>"
      ],
      "text/plain": [
       "                                name platform  year_of_release         genre  \\\n",
       "0                         Wii Sports      Wii             2006        Sports   \n",
       "1                  Super Mario Bros.      NES             1985      Platform   \n",
       "2                     Mario Kart Wii      Wii             2008        Racing   \n",
       "3                  Wii Sports Resort      Wii             2009        Sports   \n",
       "4           Pokemon Red/Pokemon Blue       GB             1996  Role-Playing   \n",
       "...                              ...      ...              ...           ...   \n",
       "16439  Samurai Warriors: Sanada Maru      PS3             2016        Action   \n",
       "16440               LMA Manager 2007     X360             2006        Sports   \n",
       "16441        Haitaka no Psychedelica      PSV             2016     Adventure   \n",
       "16442               Spirits & Spells      GBA             2003      Platform   \n",
       "16443            Winning Post 8 2016      PSV             2016    Simulation   \n",
       "\n",
       "       na_sales  eu_sales  jp_sales  other_sales  critic_score  user_score  \\\n",
       "0         41.36     28.96      3.77         8.45          76.0         8.0   \n",
       "1         29.08      3.58      6.81         0.77           NaN         NaN   \n",
       "2         15.68     12.76      3.79         3.29          82.0         8.3   \n",
       "3         15.61     10.93      3.28         2.95          80.0         8.0   \n",
       "4         11.27      8.89     10.22         1.00           NaN         NaN   \n",
       "...         ...       ...       ...          ...           ...         ...   \n",
       "16439      0.00      0.00      0.01         0.00           NaN         NaN   \n",
       "16440      0.00      0.01      0.00         0.00           NaN         NaN   \n",
       "16441      0.00      0.00      0.01         0.00           NaN         NaN   \n",
       "16442      0.01      0.00      0.00         0.00           NaN         NaN   \n",
       "16443      0.00      0.00      0.01         0.00           NaN         NaN   \n",
       "\n",
       "      rating  \n",
       "0          E  \n",
       "1        NaN  \n",
       "2          E  \n",
       "3          E  \n",
       "4        NaN  \n",
       "...      ...  \n",
       "16439    NaN  \n",
       "16440    NaN  \n",
       "16441    NaN  \n",
       "16442    NaN  \n",
       "16443    NaN  \n",
       "\n",
       "[14068 rows x 11 columns]"
      ]
     },
     "execution_count": 10,
     "metadata": {},
     "output_type": "execute_result"
    }
   ],
   "source": [
    "df['year_of_release'] = pd.to_datetime(df['year_of_release'], format='%Y').dt.year\n",
    "df"
   ]
  },
  {
   "cell_type": "markdown",
   "metadata": {},
   "source": [
    "Округлим до одной цифры после запятой значения столбца critic_score"
   ]
  },
  {
   "cell_type": "code",
   "execution_count": 11,
   "metadata": {},
   "outputs": [
    {
     "data": {
      "text/html": [
       "<div>\n",
       "<style scoped>\n",
       "    .dataframe tbody tr th:only-of-type {\n",
       "        vertical-align: middle;\n",
       "    }\n",
       "\n",
       "    .dataframe tbody tr th {\n",
       "        vertical-align: top;\n",
       "    }\n",
       "\n",
       "    .dataframe thead th {\n",
       "        text-align: right;\n",
       "    }\n",
       "</style>\n",
       "<table border=\"1\" class=\"dataframe\">\n",
       "  <thead>\n",
       "    <tr style=\"text-align: right;\">\n",
       "      <th></th>\n",
       "      <th>name</th>\n",
       "      <th>platform</th>\n",
       "      <th>year_of_release</th>\n",
       "      <th>genre</th>\n",
       "      <th>na_sales</th>\n",
       "      <th>eu_sales</th>\n",
       "      <th>jp_sales</th>\n",
       "      <th>other_sales</th>\n",
       "      <th>critic_score</th>\n",
       "      <th>user_score</th>\n",
       "      <th>rating</th>\n",
       "    </tr>\n",
       "  </thead>\n",
       "  <tbody>\n",
       "    <tr>\n",
       "      <td>0</td>\n",
       "      <td>Wii Sports</td>\n",
       "      <td>Wii</td>\n",
       "      <td>2006</td>\n",
       "      <td>Sports</td>\n",
       "      <td>41.36</td>\n",
       "      <td>28.96</td>\n",
       "      <td>3.77</td>\n",
       "      <td>8.45</td>\n",
       "      <td>76.0</td>\n",
       "      <td>8.0</td>\n",
       "      <td>E</td>\n",
       "    </tr>\n",
       "    <tr>\n",
       "      <td>1</td>\n",
       "      <td>Super Mario Bros.</td>\n",
       "      <td>NES</td>\n",
       "      <td>1985</td>\n",
       "      <td>Platform</td>\n",
       "      <td>29.08</td>\n",
       "      <td>3.58</td>\n",
       "      <td>6.81</td>\n",
       "      <td>0.77</td>\n",
       "      <td>NaN</td>\n",
       "      <td>NaN</td>\n",
       "      <td>NaN</td>\n",
       "    </tr>\n",
       "    <tr>\n",
       "      <td>2</td>\n",
       "      <td>Mario Kart Wii</td>\n",
       "      <td>Wii</td>\n",
       "      <td>2008</td>\n",
       "      <td>Racing</td>\n",
       "      <td>15.68</td>\n",
       "      <td>12.76</td>\n",
       "      <td>3.79</td>\n",
       "      <td>3.29</td>\n",
       "      <td>82.0</td>\n",
       "      <td>8.3</td>\n",
       "      <td>E</td>\n",
       "    </tr>\n",
       "    <tr>\n",
       "      <td>3</td>\n",
       "      <td>Wii Sports Resort</td>\n",
       "      <td>Wii</td>\n",
       "      <td>2009</td>\n",
       "      <td>Sports</td>\n",
       "      <td>15.61</td>\n",
       "      <td>10.93</td>\n",
       "      <td>3.28</td>\n",
       "      <td>2.95</td>\n",
       "      <td>80.0</td>\n",
       "      <td>8.0</td>\n",
       "      <td>E</td>\n",
       "    </tr>\n",
       "    <tr>\n",
       "      <td>4</td>\n",
       "      <td>Pokemon Red/Pokemon Blue</td>\n",
       "      <td>GB</td>\n",
       "      <td>1996</td>\n",
       "      <td>Role-Playing</td>\n",
       "      <td>11.27</td>\n",
       "      <td>8.89</td>\n",
       "      <td>10.22</td>\n",
       "      <td>1.00</td>\n",
       "      <td>NaN</td>\n",
       "      <td>NaN</td>\n",
       "      <td>NaN</td>\n",
       "    </tr>\n",
       "    <tr>\n",
       "      <td>...</td>\n",
       "      <td>...</td>\n",
       "      <td>...</td>\n",
       "      <td>...</td>\n",
       "      <td>...</td>\n",
       "      <td>...</td>\n",
       "      <td>...</td>\n",
       "      <td>...</td>\n",
       "      <td>...</td>\n",
       "      <td>...</td>\n",
       "      <td>...</td>\n",
       "      <td>...</td>\n",
       "    </tr>\n",
       "    <tr>\n",
       "      <td>16439</td>\n",
       "      <td>Samurai Warriors: Sanada Maru</td>\n",
       "      <td>PS3</td>\n",
       "      <td>2016</td>\n",
       "      <td>Action</td>\n",
       "      <td>0.00</td>\n",
       "      <td>0.00</td>\n",
       "      <td>0.01</td>\n",
       "      <td>0.00</td>\n",
       "      <td>NaN</td>\n",
       "      <td>NaN</td>\n",
       "      <td>NaN</td>\n",
       "    </tr>\n",
       "    <tr>\n",
       "      <td>16440</td>\n",
       "      <td>LMA Manager 2007</td>\n",
       "      <td>X360</td>\n",
       "      <td>2006</td>\n",
       "      <td>Sports</td>\n",
       "      <td>0.00</td>\n",
       "      <td>0.01</td>\n",
       "      <td>0.00</td>\n",
       "      <td>0.00</td>\n",
       "      <td>NaN</td>\n",
       "      <td>NaN</td>\n",
       "      <td>NaN</td>\n",
       "    </tr>\n",
       "    <tr>\n",
       "      <td>16441</td>\n",
       "      <td>Haitaka no Psychedelica</td>\n",
       "      <td>PSV</td>\n",
       "      <td>2016</td>\n",
       "      <td>Adventure</td>\n",
       "      <td>0.00</td>\n",
       "      <td>0.00</td>\n",
       "      <td>0.01</td>\n",
       "      <td>0.00</td>\n",
       "      <td>NaN</td>\n",
       "      <td>NaN</td>\n",
       "      <td>NaN</td>\n",
       "    </tr>\n",
       "    <tr>\n",
       "      <td>16442</td>\n",
       "      <td>Spirits &amp; Spells</td>\n",
       "      <td>GBA</td>\n",
       "      <td>2003</td>\n",
       "      <td>Platform</td>\n",
       "      <td>0.01</td>\n",
       "      <td>0.00</td>\n",
       "      <td>0.00</td>\n",
       "      <td>0.00</td>\n",
       "      <td>NaN</td>\n",
       "      <td>NaN</td>\n",
       "      <td>NaN</td>\n",
       "    </tr>\n",
       "    <tr>\n",
       "      <td>16443</td>\n",
       "      <td>Winning Post 8 2016</td>\n",
       "      <td>PSV</td>\n",
       "      <td>2016</td>\n",
       "      <td>Simulation</td>\n",
       "      <td>0.00</td>\n",
       "      <td>0.00</td>\n",
       "      <td>0.01</td>\n",
       "      <td>0.00</td>\n",
       "      <td>NaN</td>\n",
       "      <td>NaN</td>\n",
       "      <td>NaN</td>\n",
       "    </tr>\n",
       "  </tbody>\n",
       "</table>\n",
       "<p>14068 rows × 11 columns</p>\n",
       "</div>"
      ],
      "text/plain": [
       "                                name platform  year_of_release         genre  \\\n",
       "0                         Wii Sports      Wii             2006        Sports   \n",
       "1                  Super Mario Bros.      NES             1985      Platform   \n",
       "2                     Mario Kart Wii      Wii             2008        Racing   \n",
       "3                  Wii Sports Resort      Wii             2009        Sports   \n",
       "4           Pokemon Red/Pokemon Blue       GB             1996  Role-Playing   \n",
       "...                              ...      ...              ...           ...   \n",
       "16439  Samurai Warriors: Sanada Maru      PS3             2016        Action   \n",
       "16440               LMA Manager 2007     X360             2006        Sports   \n",
       "16441        Haitaka no Psychedelica      PSV             2016     Adventure   \n",
       "16442               Spirits & Spells      GBA             2003      Platform   \n",
       "16443            Winning Post 8 2016      PSV             2016    Simulation   \n",
       "\n",
       "       na_sales  eu_sales  jp_sales  other_sales  critic_score  user_score  \\\n",
       "0         41.36     28.96      3.77         8.45          76.0         8.0   \n",
       "1         29.08      3.58      6.81         0.77           NaN         NaN   \n",
       "2         15.68     12.76      3.79         3.29          82.0         8.3   \n",
       "3         15.61     10.93      3.28         2.95          80.0         8.0   \n",
       "4         11.27      8.89     10.22         1.00           NaN         NaN   \n",
       "...         ...       ...       ...          ...           ...         ...   \n",
       "16439      0.00      0.00      0.01         0.00           NaN         NaN   \n",
       "16440      0.00      0.01      0.00         0.00           NaN         NaN   \n",
       "16441      0.00      0.00      0.01         0.00           NaN         NaN   \n",
       "16442      0.01      0.00      0.00         0.00           NaN         NaN   \n",
       "16443      0.00      0.00      0.01         0.00           NaN         NaN   \n",
       "\n",
       "      rating  \n",
       "0          E  \n",
       "1        NaN  \n",
       "2          E  \n",
       "3          E  \n",
       "4        NaN  \n",
       "...      ...  \n",
       "16439    NaN  \n",
       "16440    NaN  \n",
       "16441    NaN  \n",
       "16442    NaN  \n",
       "16443    NaN  \n",
       "\n",
       "[14068 rows x 11 columns]"
      ]
     },
     "execution_count": 11,
     "metadata": {},
     "output_type": "execute_result"
    }
   ],
   "source": [
    "df['critic_score'] = round(df['critic_score'], 1)\n",
    "df"
   ]
  },
  {
   "cell_type": "markdown",
   "metadata": {},
   "source": [
    "Проверка на дубликаты"
   ]
  },
  {
   "cell_type": "code",
   "execution_count": 12,
   "metadata": {},
   "outputs": [
    {
     "data": {
      "text/plain": [
       "0"
      ]
     },
     "execution_count": 12,
     "metadata": {},
     "output_type": "execute_result"
    }
   ],
   "source": [
    "df.duplicated().sum()"
   ]
  },
  {
   "cell_type": "markdown",
   "metadata": {},
   "source": [
    "В таблице отсутсвуют дубликаты"
   ]
  },
  {
   "cell_type": "markdown",
   "metadata": {},
   "source": [
    "Расчет суммарных продаж"
   ]
  },
  {
   "cell_type": "code",
   "execution_count": 13,
   "metadata": {},
   "outputs": [
    {
     "data": {
      "text/html": [
       "<div>\n",
       "<style scoped>\n",
       "    .dataframe tbody tr th:only-of-type {\n",
       "        vertical-align: middle;\n",
       "    }\n",
       "\n",
       "    .dataframe tbody tr th {\n",
       "        vertical-align: top;\n",
       "    }\n",
       "\n",
       "    .dataframe thead th {\n",
       "        text-align: right;\n",
       "    }\n",
       "</style>\n",
       "<table border=\"1\" class=\"dataframe\">\n",
       "  <thead>\n",
       "    <tr style=\"text-align: right;\">\n",
       "      <th></th>\n",
       "      <th>name</th>\n",
       "      <th>platform</th>\n",
       "      <th>year_of_release</th>\n",
       "      <th>genre</th>\n",
       "      <th>na_sales</th>\n",
       "      <th>eu_sales</th>\n",
       "      <th>jp_sales</th>\n",
       "      <th>other_sales</th>\n",
       "      <th>critic_score</th>\n",
       "      <th>user_score</th>\n",
       "      <th>rating</th>\n",
       "      <th>sum_sales</th>\n",
       "    </tr>\n",
       "  </thead>\n",
       "  <tbody>\n",
       "    <tr>\n",
       "      <td>0</td>\n",
       "      <td>Wii Sports</td>\n",
       "      <td>Wii</td>\n",
       "      <td>2006</td>\n",
       "      <td>Sports</td>\n",
       "      <td>41.36</td>\n",
       "      <td>28.96</td>\n",
       "      <td>3.77</td>\n",
       "      <td>8.45</td>\n",
       "      <td>76.0</td>\n",
       "      <td>8.0</td>\n",
       "      <td>E</td>\n",
       "      <td>82.54</td>\n",
       "    </tr>\n",
       "    <tr>\n",
       "      <td>1</td>\n",
       "      <td>Super Mario Bros.</td>\n",
       "      <td>NES</td>\n",
       "      <td>1985</td>\n",
       "      <td>Platform</td>\n",
       "      <td>29.08</td>\n",
       "      <td>3.58</td>\n",
       "      <td>6.81</td>\n",
       "      <td>0.77</td>\n",
       "      <td>NaN</td>\n",
       "      <td>NaN</td>\n",
       "      <td>NaN</td>\n",
       "      <td>40.24</td>\n",
       "    </tr>\n",
       "    <tr>\n",
       "      <td>2</td>\n",
       "      <td>Mario Kart Wii</td>\n",
       "      <td>Wii</td>\n",
       "      <td>2008</td>\n",
       "      <td>Racing</td>\n",
       "      <td>15.68</td>\n",
       "      <td>12.76</td>\n",
       "      <td>3.79</td>\n",
       "      <td>3.29</td>\n",
       "      <td>82.0</td>\n",
       "      <td>8.3</td>\n",
       "      <td>E</td>\n",
       "      <td>35.52</td>\n",
       "    </tr>\n",
       "    <tr>\n",
       "      <td>3</td>\n",
       "      <td>Wii Sports Resort</td>\n",
       "      <td>Wii</td>\n",
       "      <td>2009</td>\n",
       "      <td>Sports</td>\n",
       "      <td>15.61</td>\n",
       "      <td>10.93</td>\n",
       "      <td>3.28</td>\n",
       "      <td>2.95</td>\n",
       "      <td>80.0</td>\n",
       "      <td>8.0</td>\n",
       "      <td>E</td>\n",
       "      <td>32.77</td>\n",
       "    </tr>\n",
       "    <tr>\n",
       "      <td>4</td>\n",
       "      <td>Pokemon Red/Pokemon Blue</td>\n",
       "      <td>GB</td>\n",
       "      <td>1996</td>\n",
       "      <td>Role-Playing</td>\n",
       "      <td>11.27</td>\n",
       "      <td>8.89</td>\n",
       "      <td>10.22</td>\n",
       "      <td>1.00</td>\n",
       "      <td>NaN</td>\n",
       "      <td>NaN</td>\n",
       "      <td>NaN</td>\n",
       "      <td>31.38</td>\n",
       "    </tr>\n",
       "    <tr>\n",
       "      <td>...</td>\n",
       "      <td>...</td>\n",
       "      <td>...</td>\n",
       "      <td>...</td>\n",
       "      <td>...</td>\n",
       "      <td>...</td>\n",
       "      <td>...</td>\n",
       "      <td>...</td>\n",
       "      <td>...</td>\n",
       "      <td>...</td>\n",
       "      <td>...</td>\n",
       "      <td>...</td>\n",
       "      <td>...</td>\n",
       "    </tr>\n",
       "    <tr>\n",
       "      <td>16439</td>\n",
       "      <td>Samurai Warriors: Sanada Maru</td>\n",
       "      <td>PS3</td>\n",
       "      <td>2016</td>\n",
       "      <td>Action</td>\n",
       "      <td>0.00</td>\n",
       "      <td>0.00</td>\n",
       "      <td>0.01</td>\n",
       "      <td>0.00</td>\n",
       "      <td>NaN</td>\n",
       "      <td>NaN</td>\n",
       "      <td>NaN</td>\n",
       "      <td>0.01</td>\n",
       "    </tr>\n",
       "    <tr>\n",
       "      <td>16440</td>\n",
       "      <td>LMA Manager 2007</td>\n",
       "      <td>X360</td>\n",
       "      <td>2006</td>\n",
       "      <td>Sports</td>\n",
       "      <td>0.00</td>\n",
       "      <td>0.01</td>\n",
       "      <td>0.00</td>\n",
       "      <td>0.00</td>\n",
       "      <td>NaN</td>\n",
       "      <td>NaN</td>\n",
       "      <td>NaN</td>\n",
       "      <td>0.01</td>\n",
       "    </tr>\n",
       "    <tr>\n",
       "      <td>16441</td>\n",
       "      <td>Haitaka no Psychedelica</td>\n",
       "      <td>PSV</td>\n",
       "      <td>2016</td>\n",
       "      <td>Adventure</td>\n",
       "      <td>0.00</td>\n",
       "      <td>0.00</td>\n",
       "      <td>0.01</td>\n",
       "      <td>0.00</td>\n",
       "      <td>NaN</td>\n",
       "      <td>NaN</td>\n",
       "      <td>NaN</td>\n",
       "      <td>0.01</td>\n",
       "    </tr>\n",
       "    <tr>\n",
       "      <td>16442</td>\n",
       "      <td>Spirits &amp; Spells</td>\n",
       "      <td>GBA</td>\n",
       "      <td>2003</td>\n",
       "      <td>Platform</td>\n",
       "      <td>0.01</td>\n",
       "      <td>0.00</td>\n",
       "      <td>0.00</td>\n",
       "      <td>0.00</td>\n",
       "      <td>NaN</td>\n",
       "      <td>NaN</td>\n",
       "      <td>NaN</td>\n",
       "      <td>0.01</td>\n",
       "    </tr>\n",
       "    <tr>\n",
       "      <td>16443</td>\n",
       "      <td>Winning Post 8 2016</td>\n",
       "      <td>PSV</td>\n",
       "      <td>2016</td>\n",
       "      <td>Simulation</td>\n",
       "      <td>0.00</td>\n",
       "      <td>0.00</td>\n",
       "      <td>0.01</td>\n",
       "      <td>0.00</td>\n",
       "      <td>NaN</td>\n",
       "      <td>NaN</td>\n",
       "      <td>NaN</td>\n",
       "      <td>0.01</td>\n",
       "    </tr>\n",
       "  </tbody>\n",
       "</table>\n",
       "<p>14068 rows × 12 columns</p>\n",
       "</div>"
      ],
      "text/plain": [
       "                                name platform  year_of_release         genre  \\\n",
       "0                         Wii Sports      Wii             2006        Sports   \n",
       "1                  Super Mario Bros.      NES             1985      Platform   \n",
       "2                     Mario Kart Wii      Wii             2008        Racing   \n",
       "3                  Wii Sports Resort      Wii             2009        Sports   \n",
       "4           Pokemon Red/Pokemon Blue       GB             1996  Role-Playing   \n",
       "...                              ...      ...              ...           ...   \n",
       "16439  Samurai Warriors: Sanada Maru      PS3             2016        Action   \n",
       "16440               LMA Manager 2007     X360             2006        Sports   \n",
       "16441        Haitaka no Psychedelica      PSV             2016     Adventure   \n",
       "16442               Spirits & Spells      GBA             2003      Platform   \n",
       "16443            Winning Post 8 2016      PSV             2016    Simulation   \n",
       "\n",
       "       na_sales  eu_sales  jp_sales  other_sales  critic_score  user_score  \\\n",
       "0         41.36     28.96      3.77         8.45          76.0         8.0   \n",
       "1         29.08      3.58      6.81         0.77           NaN         NaN   \n",
       "2         15.68     12.76      3.79         3.29          82.0         8.3   \n",
       "3         15.61     10.93      3.28         2.95          80.0         8.0   \n",
       "4         11.27      8.89     10.22         1.00           NaN         NaN   \n",
       "...         ...       ...       ...          ...           ...         ...   \n",
       "16439      0.00      0.00      0.01         0.00           NaN         NaN   \n",
       "16440      0.00      0.01      0.00         0.00           NaN         NaN   \n",
       "16441      0.00      0.00      0.01         0.00           NaN         NaN   \n",
       "16442      0.01      0.00      0.00         0.00           NaN         NaN   \n",
       "16443      0.00      0.00      0.01         0.00           NaN         NaN   \n",
       "\n",
       "      rating  sum_sales  \n",
       "0          E      82.54  \n",
       "1        NaN      40.24  \n",
       "2          E      35.52  \n",
       "3          E      32.77  \n",
       "4        NaN      31.38  \n",
       "...      ...        ...  \n",
       "16439    NaN       0.01  \n",
       "16440    NaN       0.01  \n",
       "16441    NaN       0.01  \n",
       "16442    NaN       0.01  \n",
       "16443    NaN       0.01  \n",
       "\n",
       "[14068 rows x 12 columns]"
      ]
     },
     "execution_count": 13,
     "metadata": {},
     "output_type": "execute_result"
    }
   ],
   "source": [
    "df['sum_sales'] = df['na_sales'] + df['eu_sales'] + df['jp_sales'] + df['other_sales']\n",
    "df"
   ]
  },
  {
   "cell_type": "markdown",
   "metadata": {},
   "source": [
    "Количество игр по годам"
   ]
  },
  {
   "cell_type": "code",
   "execution_count": 14,
   "metadata": {},
   "outputs": [
    {
     "data": {
      "text/html": [
       "<div>\n",
       "<style scoped>\n",
       "    .dataframe tbody tr th:only-of-type {\n",
       "        vertical-align: middle;\n",
       "    }\n",
       "\n",
       "    .dataframe tbody tr th {\n",
       "        vertical-align: top;\n",
       "    }\n",
       "\n",
       "    .dataframe thead th {\n",
       "        text-align: right;\n",
       "    }\n",
       "</style>\n",
       "<table border=\"1\" class=\"dataframe\">\n",
       "  <thead>\n",
       "    <tr style=\"text-align: right;\">\n",
       "      <th></th>\n",
       "      <th>name</th>\n",
       "    </tr>\n",
       "    <tr>\n",
       "      <th>year_of_release</th>\n",
       "      <th></th>\n",
       "    </tr>\n",
       "  </thead>\n",
       "  <tbody>\n",
       "    <tr>\n",
       "      <td>1980</td>\n",
       "      <td>9</td>\n",
       "    </tr>\n",
       "    <tr>\n",
       "      <td>1981</td>\n",
       "      <td>46</td>\n",
       "    </tr>\n",
       "    <tr>\n",
       "      <td>1982</td>\n",
       "      <td>36</td>\n",
       "    </tr>\n",
       "    <tr>\n",
       "      <td>1983</td>\n",
       "      <td>17</td>\n",
       "    </tr>\n",
       "    <tr>\n",
       "      <td>1984</td>\n",
       "      <td>14</td>\n",
       "    </tr>\n",
       "    <tr>\n",
       "      <td>1985</td>\n",
       "      <td>14</td>\n",
       "    </tr>\n",
       "    <tr>\n",
       "      <td>1986</td>\n",
       "      <td>21</td>\n",
       "    </tr>\n",
       "    <tr>\n",
       "      <td>1987</td>\n",
       "      <td>16</td>\n",
       "    </tr>\n",
       "    <tr>\n",
       "      <td>1988</td>\n",
       "      <td>15</td>\n",
       "    </tr>\n",
       "    <tr>\n",
       "      <td>1989</td>\n",
       "      <td>17</td>\n",
       "    </tr>\n",
       "    <tr>\n",
       "      <td>1990</td>\n",
       "      <td>16</td>\n",
       "    </tr>\n",
       "    <tr>\n",
       "      <td>1991</td>\n",
       "      <td>41</td>\n",
       "    </tr>\n",
       "    <tr>\n",
       "      <td>1992</td>\n",
       "      <td>43</td>\n",
       "    </tr>\n",
       "    <tr>\n",
       "      <td>1993</td>\n",
       "      <td>60</td>\n",
       "    </tr>\n",
       "    <tr>\n",
       "      <td>1994</td>\n",
       "      <td>121</td>\n",
       "    </tr>\n",
       "    <tr>\n",
       "      <td>1995</td>\n",
       "      <td>219</td>\n",
       "    </tr>\n",
       "    <tr>\n",
       "      <td>1996</td>\n",
       "      <td>263</td>\n",
       "    </tr>\n",
       "    <tr>\n",
       "      <td>1997</td>\n",
       "      <td>288</td>\n",
       "    </tr>\n",
       "    <tr>\n",
       "      <td>1998</td>\n",
       "      <td>379</td>\n",
       "    </tr>\n",
       "    <tr>\n",
       "      <td>1999</td>\n",
       "      <td>330</td>\n",
       "    </tr>\n",
       "    <tr>\n",
       "      <td>2000</td>\n",
       "      <td>307</td>\n",
       "    </tr>\n",
       "    <tr>\n",
       "      <td>2001</td>\n",
       "      <td>400</td>\n",
       "    </tr>\n",
       "    <tr>\n",
       "      <td>2002</td>\n",
       "      <td>637</td>\n",
       "    </tr>\n",
       "    <tr>\n",
       "      <td>2003</td>\n",
       "      <td>680</td>\n",
       "    </tr>\n",
       "    <tr>\n",
       "      <td>2004</td>\n",
       "      <td>655</td>\n",
       "    </tr>\n",
       "    <tr>\n",
       "      <td>2005</td>\n",
       "      <td>818</td>\n",
       "    </tr>\n",
       "    <tr>\n",
       "      <td>2006</td>\n",
       "      <td>882</td>\n",
       "    </tr>\n",
       "    <tr>\n",
       "      <td>2007</td>\n",
       "      <td>1005</td>\n",
       "    </tr>\n",
       "    <tr>\n",
       "      <td>2008</td>\n",
       "      <td>1101</td>\n",
       "    </tr>\n",
       "    <tr>\n",
       "      <td>2009</td>\n",
       "      <td>1021</td>\n",
       "    </tr>\n",
       "    <tr>\n",
       "      <td>2010</td>\n",
       "      <td>924</td>\n",
       "    </tr>\n",
       "    <tr>\n",
       "      <td>2011</td>\n",
       "      <td>919</td>\n",
       "    </tr>\n",
       "    <tr>\n",
       "      <td>2012</td>\n",
       "      <td>629</td>\n",
       "    </tr>\n",
       "    <tr>\n",
       "      <td>2013</td>\n",
       "      <td>529</td>\n",
       "    </tr>\n",
       "    <tr>\n",
       "      <td>2014</td>\n",
       "      <td>560</td>\n",
       "    </tr>\n",
       "    <tr>\n",
       "      <td>2015</td>\n",
       "      <td>568</td>\n",
       "    </tr>\n",
       "    <tr>\n",
       "      <td>2016</td>\n",
       "      <td>468</td>\n",
       "    </tr>\n",
       "  </tbody>\n",
       "</table>\n",
       "</div>"
      ],
      "text/plain": [
       "                 name\n",
       "year_of_release      \n",
       "1980                9\n",
       "1981               46\n",
       "1982               36\n",
       "1983               17\n",
       "1984               14\n",
       "1985               14\n",
       "1986               21\n",
       "1987               16\n",
       "1988               15\n",
       "1989               17\n",
       "1990               16\n",
       "1991               41\n",
       "1992               43\n",
       "1993               60\n",
       "1994              121\n",
       "1995              219\n",
       "1996              263\n",
       "1997              288\n",
       "1998              379\n",
       "1999              330\n",
       "2000              307\n",
       "2001              400\n",
       "2002              637\n",
       "2003              680\n",
       "2004              655\n",
       "2005              818\n",
       "2006              882\n",
       "2007             1005\n",
       "2008             1101\n",
       "2009             1021\n",
       "2010              924\n",
       "2011              919\n",
       "2012              629\n",
       "2013              529\n",
       "2014              560\n",
       "2015              568\n",
       "2016              468"
      ]
     },
     "execution_count": 14,
     "metadata": {},
     "output_type": "execute_result"
    }
   ],
   "source": [
    "df.groupby('year_of_release').agg({'name': 'count'})"
   ]
  },
  {
   "cell_type": "markdown",
   "metadata": {},
   "source": [
    "Для построения прогноза определенно не нужны данные за все периоды, необходимы данные максимум за последние 5-7 лет"
   ]
  },
  {
   "cell_type": "markdown",
   "metadata": {},
   "source": [
    "Исследование как менялись продажи по платформам"
   ]
  },
  {
   "cell_type": "code",
   "execution_count": 15,
   "metadata": {},
   "outputs": [
    {
     "data": {
      "text/html": [
       "<div>\n",
       "<style scoped>\n",
       "    .dataframe tbody tr th:only-of-type {\n",
       "        vertical-align: middle;\n",
       "    }\n",
       "\n",
       "    .dataframe tbody tr th {\n",
       "        vertical-align: top;\n",
       "    }\n",
       "\n",
       "    .dataframe thead th {\n",
       "        text-align: right;\n",
       "    }\n",
       "</style>\n",
       "<table border=\"1\" class=\"dataframe\">\n",
       "  <thead>\n",
       "    <tr style=\"text-align: right;\">\n",
       "      <th></th>\n",
       "      <th>sum_sales</th>\n",
       "    </tr>\n",
       "    <tr>\n",
       "      <th>platform</th>\n",
       "      <th></th>\n",
       "    </tr>\n",
       "  </thead>\n",
       "  <tbody>\n",
       "    <tr>\n",
       "      <td>2600</td>\n",
       "      <td>86.48</td>\n",
       "    </tr>\n",
       "    <tr>\n",
       "      <td>3DO</td>\n",
       "      <td>0.10</td>\n",
       "    </tr>\n",
       "    <tr>\n",
       "      <td>3DS</td>\n",
       "      <td>253.24</td>\n",
       "    </tr>\n",
       "    <tr>\n",
       "      <td>DC</td>\n",
       "      <td>15.95</td>\n",
       "    </tr>\n",
       "    <tr>\n",
       "      <td>DS</td>\n",
       "      <td>655.36</td>\n",
       "    </tr>\n",
       "    <tr>\n",
       "      <td>GB</td>\n",
       "      <td>254.43</td>\n",
       "    </tr>\n",
       "    <tr>\n",
       "      <td>GBA</td>\n",
       "      <td>263.70</td>\n",
       "    </tr>\n",
       "    <tr>\n",
       "      <td>GC</td>\n",
       "      <td>185.68</td>\n",
       "    </tr>\n",
       "    <tr>\n",
       "      <td>GEN</td>\n",
       "      <td>28.35</td>\n",
       "    </tr>\n",
       "    <tr>\n",
       "      <td>GG</td>\n",
       "      <td>0.04</td>\n",
       "    </tr>\n",
       "    <tr>\n",
       "      <td>N64</td>\n",
       "      <td>218.01</td>\n",
       "    </tr>\n",
       "    <tr>\n",
       "      <td>NES</td>\n",
       "      <td>251.05</td>\n",
       "    </tr>\n",
       "    <tr>\n",
       "      <td>NG</td>\n",
       "      <td>1.44</td>\n",
       "    </tr>\n",
       "    <tr>\n",
       "      <td>PC</td>\n",
       "      <td>252.25</td>\n",
       "    </tr>\n",
       "    <tr>\n",
       "      <td>PCFX</td>\n",
       "      <td>0.03</td>\n",
       "    </tr>\n",
       "    <tr>\n",
       "      <td>PS</td>\n",
       "      <td>714.26</td>\n",
       "    </tr>\n",
       "    <tr>\n",
       "      <td>PS2</td>\n",
       "      <td>1171.19</td>\n",
       "    </tr>\n",
       "    <tr>\n",
       "      <td>PS3</td>\n",
       "      <td>921.09</td>\n",
       "    </tr>\n",
       "    <tr>\n",
       "      <td>PS4</td>\n",
       "      <td>314.00</td>\n",
       "    </tr>\n",
       "    <tr>\n",
       "      <td>PSP</td>\n",
       "      <td>273.11</td>\n",
       "    </tr>\n",
       "    <tr>\n",
       "      <td>PSV</td>\n",
       "      <td>53.50</td>\n",
       "    </tr>\n",
       "    <tr>\n",
       "      <td>SAT</td>\n",
       "      <td>33.59</td>\n",
       "    </tr>\n",
       "    <tr>\n",
       "      <td>SCD</td>\n",
       "      <td>1.86</td>\n",
       "    </tr>\n",
       "    <tr>\n",
       "      <td>SNES</td>\n",
       "      <td>200.04</td>\n",
       "    </tr>\n",
       "    <tr>\n",
       "      <td>TG16</td>\n",
       "      <td>0.16</td>\n",
       "    </tr>\n",
       "    <tr>\n",
       "      <td>WS</td>\n",
       "      <td>1.42</td>\n",
       "    </tr>\n",
       "    <tr>\n",
       "      <td>Wii</td>\n",
       "      <td>791.91</td>\n",
       "    </tr>\n",
       "    <tr>\n",
       "      <td>WiiU</td>\n",
       "      <td>81.79</td>\n",
       "    </tr>\n",
       "    <tr>\n",
       "      <td>X360</td>\n",
       "      <td>948.74</td>\n",
       "    </tr>\n",
       "    <tr>\n",
       "      <td>XB</td>\n",
       "      <td>236.38</td>\n",
       "    </tr>\n",
       "    <tr>\n",
       "      <td>XOne</td>\n",
       "      <td>158.77</td>\n",
       "    </tr>\n",
       "  </tbody>\n",
       "</table>\n",
       "</div>"
      ],
      "text/plain": [
       "          sum_sales\n",
       "platform           \n",
       "2600          86.48\n",
       "3DO            0.10\n",
       "3DS          253.24\n",
       "DC            15.95\n",
       "DS           655.36\n",
       "GB           254.43\n",
       "GBA          263.70\n",
       "GC           185.68\n",
       "GEN           28.35\n",
       "GG             0.04\n",
       "N64          218.01\n",
       "NES          251.05\n",
       "NG             1.44\n",
       "PC           252.25\n",
       "PCFX           0.03\n",
       "PS           714.26\n",
       "PS2         1171.19\n",
       "PS3          921.09\n",
       "PS4          314.00\n",
       "PSP          273.11\n",
       "PSV           53.50\n",
       "SAT           33.59\n",
       "SCD            1.86\n",
       "SNES         200.04\n",
       "TG16           0.16\n",
       "WS             1.42\n",
       "Wii          791.91\n",
       "WiiU          81.79\n",
       "X360         948.74\n",
       "XB           236.38\n",
       "XOne         158.77"
      ]
     },
     "execution_count": 15,
     "metadata": {},
     "output_type": "execute_result"
    }
   ],
   "source": [
    "alpha = df.groupby('platform').agg({'sum_sales':'sum'})\n",
    "alpha"
   ]
  },
  {
   "cell_type": "markdown",
   "metadata": {},
   "source": [
    "Выберем наиболее популярные платформы, популярными будем считать платформы, на которых продажи выше, чем 1.5 среднего"
   ]
  },
  {
   "cell_type": "code",
   "execution_count": 16,
   "metadata": {},
   "outputs": [
    {
     "data": {
      "text/html": [
       "<div>\n",
       "<style scoped>\n",
       "    .dataframe tbody tr th:only-of-type {\n",
       "        vertical-align: middle;\n",
       "    }\n",
       "\n",
       "    .dataframe tbody tr th {\n",
       "        vertical-align: top;\n",
       "    }\n",
       "\n",
       "    .dataframe thead th {\n",
       "        text-align: right;\n",
       "    }\n",
       "</style>\n",
       "<table border=\"1\" class=\"dataframe\">\n",
       "  <thead>\n",
       "    <tr style=\"text-align: right;\">\n",
       "      <th></th>\n",
       "      <th>sum_sales</th>\n",
       "    </tr>\n",
       "    <tr>\n",
       "      <th>platform</th>\n",
       "      <th></th>\n",
       "    </tr>\n",
       "  </thead>\n",
       "  <tbody>\n",
       "    <tr>\n",
       "      <td>DS</td>\n",
       "      <td>655.36</td>\n",
       "    </tr>\n",
       "    <tr>\n",
       "      <td>PS</td>\n",
       "      <td>714.26</td>\n",
       "    </tr>\n",
       "    <tr>\n",
       "      <td>PS2</td>\n",
       "      <td>1171.19</td>\n",
       "    </tr>\n",
       "    <tr>\n",
       "      <td>PS3</td>\n",
       "      <td>921.09</td>\n",
       "    </tr>\n",
       "    <tr>\n",
       "      <td>Wii</td>\n",
       "      <td>791.91</td>\n",
       "    </tr>\n",
       "    <tr>\n",
       "      <td>X360</td>\n",
       "      <td>948.74</td>\n",
       "    </tr>\n",
       "  </tbody>\n",
       "</table>\n",
       "</div>"
      ],
      "text/plain": [
       "          sum_sales\n",
       "platform           \n",
       "DS           655.36\n",
       "PS           714.26\n",
       "PS2         1171.19\n",
       "PS3          921.09\n",
       "Wii          791.91\n",
       "X360         948.74"
      ]
     },
     "execution_count": 16,
     "metadata": {},
     "output_type": "execute_result"
    }
   ],
   "source": [
    "mean_for_sales = alpha['sum_sales'].mean()\n",
    "alpha = alpha.query('sum_sales > @mean_for_sales*1.5')\n",
    "alpha"
   ]
  },
  {
   "cell_type": "code",
   "execution_count": 17,
   "metadata": {},
   "outputs": [
    {
     "data": {
      "text/html": [
       "<div>\n",
       "<style scoped>\n",
       "    .dataframe tbody tr th:only-of-type {\n",
       "        vertical-align: middle;\n",
       "    }\n",
       "\n",
       "    .dataframe tbody tr th {\n",
       "        vertical-align: top;\n",
       "    }\n",
       "\n",
       "    .dataframe thead th {\n",
       "        text-align: right;\n",
       "    }\n",
       "</style>\n",
       "<table border=\"1\" class=\"dataframe\">\n",
       "  <thead>\n",
       "    <tr style=\"text-align: right;\">\n",
       "      <th></th>\n",
       "      <th>name</th>\n",
       "      <th>platform</th>\n",
       "      <th>year_of_release</th>\n",
       "      <th>genre</th>\n",
       "      <th>na_sales</th>\n",
       "      <th>eu_sales</th>\n",
       "      <th>jp_sales</th>\n",
       "      <th>other_sales</th>\n",
       "      <th>critic_score</th>\n",
       "      <th>user_score</th>\n",
       "      <th>rating</th>\n",
       "      <th>sum_sales</th>\n",
       "    </tr>\n",
       "  </thead>\n",
       "  <tbody>\n",
       "    <tr>\n",
       "      <td>0</td>\n",
       "      <td>Wii Sports</td>\n",
       "      <td>Wii</td>\n",
       "      <td>2006</td>\n",
       "      <td>Sports</td>\n",
       "      <td>41.36</td>\n",
       "      <td>28.96</td>\n",
       "      <td>3.77</td>\n",
       "      <td>8.45</td>\n",
       "      <td>76.0</td>\n",
       "      <td>8.0</td>\n",
       "      <td>E</td>\n",
       "      <td>82.54</td>\n",
       "    </tr>\n",
       "    <tr>\n",
       "      <td>2</td>\n",
       "      <td>Mario Kart Wii</td>\n",
       "      <td>Wii</td>\n",
       "      <td>2008</td>\n",
       "      <td>Racing</td>\n",
       "      <td>15.68</td>\n",
       "      <td>12.76</td>\n",
       "      <td>3.79</td>\n",
       "      <td>3.29</td>\n",
       "      <td>82.0</td>\n",
       "      <td>8.3</td>\n",
       "      <td>E</td>\n",
       "      <td>35.52</td>\n",
       "    </tr>\n",
       "    <tr>\n",
       "      <td>3</td>\n",
       "      <td>Wii Sports Resort</td>\n",
       "      <td>Wii</td>\n",
       "      <td>2009</td>\n",
       "      <td>Sports</td>\n",
       "      <td>15.61</td>\n",
       "      <td>10.93</td>\n",
       "      <td>3.28</td>\n",
       "      <td>2.95</td>\n",
       "      <td>80.0</td>\n",
       "      <td>8.0</td>\n",
       "      <td>E</td>\n",
       "      <td>32.77</td>\n",
       "    </tr>\n",
       "    <tr>\n",
       "      <td>6</td>\n",
       "      <td>New Super Mario Bros.</td>\n",
       "      <td>DS</td>\n",
       "      <td>2006</td>\n",
       "      <td>Platform</td>\n",
       "      <td>11.28</td>\n",
       "      <td>9.14</td>\n",
       "      <td>6.50</td>\n",
       "      <td>2.88</td>\n",
       "      <td>89.0</td>\n",
       "      <td>8.5</td>\n",
       "      <td>E</td>\n",
       "      <td>29.80</td>\n",
       "    </tr>\n",
       "    <tr>\n",
       "      <td>7</td>\n",
       "      <td>Wii Play</td>\n",
       "      <td>Wii</td>\n",
       "      <td>2006</td>\n",
       "      <td>Misc</td>\n",
       "      <td>13.96</td>\n",
       "      <td>9.18</td>\n",
       "      <td>2.93</td>\n",
       "      <td>2.84</td>\n",
       "      <td>58.0</td>\n",
       "      <td>6.6</td>\n",
       "      <td>E</td>\n",
       "      <td>28.91</td>\n",
       "    </tr>\n",
       "    <tr>\n",
       "      <td>...</td>\n",
       "      <td>...</td>\n",
       "      <td>...</td>\n",
       "      <td>...</td>\n",
       "      <td>...</td>\n",
       "      <td>...</td>\n",
       "      <td>...</td>\n",
       "      <td>...</td>\n",
       "      <td>...</td>\n",
       "      <td>...</td>\n",
       "      <td>...</td>\n",
       "      <td>...</td>\n",
       "      <td>...</td>\n",
       "    </tr>\n",
       "    <tr>\n",
       "      <td>16420</td>\n",
       "      <td>Dynasty Warriors: Eiketsuden</td>\n",
       "      <td>PS3</td>\n",
       "      <td>2016</td>\n",
       "      <td>Action</td>\n",
       "      <td>0.00</td>\n",
       "      <td>0.00</td>\n",
       "      <td>0.01</td>\n",
       "      <td>0.00</td>\n",
       "      <td>NaN</td>\n",
       "      <td>NaN</td>\n",
       "      <td>NaN</td>\n",
       "      <td>0.01</td>\n",
       "    </tr>\n",
       "    <tr>\n",
       "      <td>16429</td>\n",
       "      <td>Mezase!! Tsuri Master DS</td>\n",
       "      <td>DS</td>\n",
       "      <td>2009</td>\n",
       "      <td>Sports</td>\n",
       "      <td>0.00</td>\n",
       "      <td>0.00</td>\n",
       "      <td>0.01</td>\n",
       "      <td>0.00</td>\n",
       "      <td>NaN</td>\n",
       "      <td>NaN</td>\n",
       "      <td>NaN</td>\n",
       "      <td>0.01</td>\n",
       "    </tr>\n",
       "    <tr>\n",
       "      <td>16438</td>\n",
       "      <td>SCORE International Baja 1000: The Official Game</td>\n",
       "      <td>PS2</td>\n",
       "      <td>2008</td>\n",
       "      <td>Racing</td>\n",
       "      <td>0.00</td>\n",
       "      <td>0.00</td>\n",
       "      <td>0.00</td>\n",
       "      <td>0.00</td>\n",
       "      <td>NaN</td>\n",
       "      <td>NaN</td>\n",
       "      <td>NaN</td>\n",
       "      <td>0.00</td>\n",
       "    </tr>\n",
       "    <tr>\n",
       "      <td>16439</td>\n",
       "      <td>Samurai Warriors: Sanada Maru</td>\n",
       "      <td>PS3</td>\n",
       "      <td>2016</td>\n",
       "      <td>Action</td>\n",
       "      <td>0.00</td>\n",
       "      <td>0.00</td>\n",
       "      <td>0.01</td>\n",
       "      <td>0.00</td>\n",
       "      <td>NaN</td>\n",
       "      <td>NaN</td>\n",
       "      <td>NaN</td>\n",
       "      <td>0.01</td>\n",
       "    </tr>\n",
       "    <tr>\n",
       "      <td>16440</td>\n",
       "      <td>LMA Manager 2007</td>\n",
       "      <td>X360</td>\n",
       "      <td>2006</td>\n",
       "      <td>Sports</td>\n",
       "      <td>0.00</td>\n",
       "      <td>0.01</td>\n",
       "      <td>0.00</td>\n",
       "      <td>0.00</td>\n",
       "      <td>NaN</td>\n",
       "      <td>NaN</td>\n",
       "      <td>NaN</td>\n",
       "      <td>0.01</td>\n",
       "    </tr>\n",
       "  </tbody>\n",
       "</table>\n",
       "<p>7640 rows × 12 columns</p>\n",
       "</div>"
      ],
      "text/plain": [
       "                                                   name platform  \\\n",
       "0                                            Wii Sports      Wii   \n",
       "2                                        Mario Kart Wii      Wii   \n",
       "3                                     Wii Sports Resort      Wii   \n",
       "6                                 New Super Mario Bros.       DS   \n",
       "7                                              Wii Play      Wii   \n",
       "...                                                 ...      ...   \n",
       "16420                      Dynasty Warriors: Eiketsuden      PS3   \n",
       "16429                          Mezase!! Tsuri Master DS       DS   \n",
       "16438  SCORE International Baja 1000: The Official Game      PS2   \n",
       "16439                     Samurai Warriors: Sanada Maru      PS3   \n",
       "16440                                  LMA Manager 2007     X360   \n",
       "\n",
       "       year_of_release     genre  na_sales  eu_sales  jp_sales  other_sales  \\\n",
       "0                 2006    Sports     41.36     28.96      3.77         8.45   \n",
       "2                 2008    Racing     15.68     12.76      3.79         3.29   \n",
       "3                 2009    Sports     15.61     10.93      3.28         2.95   \n",
       "6                 2006  Platform     11.28      9.14      6.50         2.88   \n",
       "7                 2006      Misc     13.96      9.18      2.93         2.84   \n",
       "...                ...       ...       ...       ...       ...          ...   \n",
       "16420             2016    Action      0.00      0.00      0.01         0.00   \n",
       "16429             2009    Sports      0.00      0.00      0.01         0.00   \n",
       "16438             2008    Racing      0.00      0.00      0.00         0.00   \n",
       "16439             2016    Action      0.00      0.00      0.01         0.00   \n",
       "16440             2006    Sports      0.00      0.01      0.00         0.00   \n",
       "\n",
       "       critic_score  user_score rating  sum_sales  \n",
       "0              76.0         8.0      E      82.54  \n",
       "2              82.0         8.3      E      35.52  \n",
       "3              80.0         8.0      E      32.77  \n",
       "6              89.0         8.5      E      29.80  \n",
       "7              58.0         6.6      E      28.91  \n",
       "...             ...         ...    ...        ...  \n",
       "16420           NaN         NaN    NaN       0.01  \n",
       "16429           NaN         NaN    NaN       0.01  \n",
       "16438           NaN         NaN    NaN       0.00  \n",
       "16439           NaN         NaN    NaN       0.01  \n",
       "16440           NaN         NaN    NaN       0.01  \n",
       "\n",
       "[7640 rows x 12 columns]"
      ]
     },
     "execution_count": 17,
     "metadata": {},
     "output_type": "execute_result"
    }
   ],
   "source": [
    "data_for_platform = df.query('platform in @alpha.index')\n",
    "data_for_platform"
   ]
  },
  {
   "cell_type": "code",
   "execution_count": 18,
   "metadata": {},
   "outputs": [
    {
     "data": {
      "text/html": [
       "<div>\n",
       "<style scoped>\n",
       "    .dataframe tbody tr th:only-of-type {\n",
       "        vertical-align: middle;\n",
       "    }\n",
       "\n",
       "    .dataframe tbody tr th {\n",
       "        vertical-align: top;\n",
       "    }\n",
       "\n",
       "    .dataframe thead th {\n",
       "        text-align: right;\n",
       "    }\n",
       "</style>\n",
       "<table border=\"1\" class=\"dataframe\">\n",
       "  <thead>\n",
       "    <tr style=\"text-align: right;\">\n",
       "      <th></th>\n",
       "      <th>platform</th>\n",
       "      <th>year_of_release</th>\n",
       "      <th>sum_sales</th>\n",
       "    </tr>\n",
       "  </thead>\n",
       "  <tbody>\n",
       "    <tr>\n",
       "      <td>0</td>\n",
       "      <td>DS</td>\n",
       "      <td>1985</td>\n",
       "      <td>0.02</td>\n",
       "    </tr>\n",
       "    <tr>\n",
       "      <td>1</td>\n",
       "      <td>DS</td>\n",
       "      <td>2004</td>\n",
       "      <td>17.23</td>\n",
       "    </tr>\n",
       "    <tr>\n",
       "      <td>2</td>\n",
       "      <td>DS</td>\n",
       "      <td>2005</td>\n",
       "      <td>128.68</td>\n",
       "    </tr>\n",
       "    <tr>\n",
       "      <td>3</td>\n",
       "      <td>DS</td>\n",
       "      <td>2006</td>\n",
       "      <td>114.93</td>\n",
       "    </tr>\n",
       "    <tr>\n",
       "      <td>4</td>\n",
       "      <td>DS</td>\n",
       "      <td>2007</td>\n",
       "      <td>121.23</td>\n",
       "    </tr>\n",
       "    <tr>\n",
       "      <td>...</td>\n",
       "      <td>...</td>\n",
       "      <td>...</td>\n",
       "      <td>...</td>\n",
       "    </tr>\n",
       "    <tr>\n",
       "      <td>61</td>\n",
       "      <td>X360</td>\n",
       "      <td>2012</td>\n",
       "      <td>99.57</td>\n",
       "    </tr>\n",
       "    <tr>\n",
       "      <td>62</td>\n",
       "      <td>X360</td>\n",
       "      <td>2013</td>\n",
       "      <td>88.57</td>\n",
       "    </tr>\n",
       "    <tr>\n",
       "      <td>63</td>\n",
       "      <td>X360</td>\n",
       "      <td>2014</td>\n",
       "      <td>33.77</td>\n",
       "    </tr>\n",
       "    <tr>\n",
       "      <td>64</td>\n",
       "      <td>X360</td>\n",
       "      <td>2015</td>\n",
       "      <td>11.87</td>\n",
       "    </tr>\n",
       "    <tr>\n",
       "      <td>65</td>\n",
       "      <td>X360</td>\n",
       "      <td>2016</td>\n",
       "      <td>1.22</td>\n",
       "    </tr>\n",
       "  </tbody>\n",
       "</table>\n",
       "<p>66 rows × 3 columns</p>\n",
       "</div>"
      ],
      "text/plain": [
       "   platform  year_of_release  sum_sales\n",
       "0        DS             1985       0.02\n",
       "1        DS             2004      17.23\n",
       "2        DS             2005     128.68\n",
       "3        DS             2006     114.93\n",
       "4        DS             2007     121.23\n",
       "..      ...              ...        ...\n",
       "61     X360             2012      99.57\n",
       "62     X360             2013      88.57\n",
       "63     X360             2014      33.77\n",
       "64     X360             2015      11.87\n",
       "65     X360             2016       1.22\n",
       "\n",
       "[66 rows x 3 columns]"
      ]
     },
     "execution_count": 18,
     "metadata": {},
     "output_type": "execute_result"
    }
   ],
   "source": [
    "data_for_platform_grouped = data_for_platform.groupby(['platform', 'year_of_release'],as_index=False).agg({'sum_sales':'sum'})\n",
    "data_for_platform_grouped"
   ]
  },
  {
   "cell_type": "code",
   "execution_count": 19,
   "metadata": {
    "scrolled": true
   },
   "outputs": [
    {
     "data": {
      "image/png": "[encoded data removed]",
      "text/plain": [
       "<Figure size 432x288 with 1 Axes>"
      ]
     },
     "metadata": {
      "needs_background": "light"
     },
     "output_type": "display_data"
    },
    {
     "data": {
      "image/png": "[encoded data removed]",
      "text/plain": [
       "<Figure size 432x288 with 1 Axes>"
      ]
     },
     "metadata": {
      "needs_background": "light"
     },
     "output_type": "display_data"
    },
    {
     "data": {
      "image/png": "[encoded data removed]",
      "text/plain": [
       "<Figure size 432x288 with 1 Axes>"
      ]
     },
     "metadata": {
      "needs_background": "light"
     },
     "output_type": "display_data"
    },
    {
     "data": {
      "image/png": "[encoded data removed]",
      "text/plain": [
       "<Figure size 432x288 with 1 Axes>"
      ]
     },
     "metadata": {
      "needs_background": "light"
     },
     "output_type": "display_data"
    },
    {
     "data": {
      "image/png": "[encoded data removed]",
      "text/plain": [
       "<Figure size 432x288 with 1 Axes>"
      ]
     },
     "metadata": {
      "needs_background": "light"
     },
     "output_type": "display_data"
    },
    {
     "data": {
      "image/png": "[encoded data removed]",
      "text/plain": [
       "<Figure size 432x288 with 1 Axes>"
      ]
     },
     "metadata": {
      "needs_background": "light"
     },
     "output_type": "display_data"
    }
   ],
   "source": [
    "for platform in data_for_platform_grouped['platform'].unique():\n",
    "    table = data_for_platform_grouped.query('platform == @platform')\n",
    "    table.plot(x='year_of_release', y='sum_sales', title=platform)\n",
    "    plt.show()"
   ]
  },
  {
   "cell_type": "markdown",
   "metadata": {},
   "source": [
    "Исходя из графиков можно сказать, что платформы популярны в течение 10 лет, актуальным будем считать срок 5 лет. В дальнейшем будем анализировать данные только за последние 5 лет"
   ]
  },
  {
   "cell_type": "code",
   "execution_count": 20,
   "metadata": {},
   "outputs": [
    {
     "data": {
      "text/html": [
       "<div>\n",
       "<style scoped>\n",
       "    .dataframe tbody tr th:only-of-type {\n",
       "        vertical-align: middle;\n",
       "    }\n",
       "\n",
       "    .dataframe tbody tr th {\n",
       "        vertical-align: top;\n",
       "    }\n",
       "\n",
       "    .dataframe thead th {\n",
       "        text-align: right;\n",
       "    }\n",
       "</style>\n",
       "<table border=\"1\" class=\"dataframe\">\n",
       "  <thead>\n",
       "    <tr style=\"text-align: right;\">\n",
       "      <th></th>\n",
       "      <th>name</th>\n",
       "      <th>platform</th>\n",
       "      <th>year_of_release</th>\n",
       "      <th>genre</th>\n",
       "      <th>na_sales</th>\n",
       "      <th>eu_sales</th>\n",
       "      <th>jp_sales</th>\n",
       "      <th>other_sales</th>\n",
       "      <th>critic_score</th>\n",
       "      <th>user_score</th>\n",
       "      <th>rating</th>\n",
       "      <th>sum_sales</th>\n",
       "    </tr>\n",
       "  </thead>\n",
       "  <tbody>\n",
       "    <tr>\n",
       "      <td>0</td>\n",
       "      <td>Grand Theft Auto V</td>\n",
       "      <td>PS3</td>\n",
       "      <td>2013</td>\n",
       "      <td>Action</td>\n",
       "      <td>7.02</td>\n",
       "      <td>9.09</td>\n",
       "      <td>0.98</td>\n",
       "      <td>3.96</td>\n",
       "      <td>97.0</td>\n",
       "      <td>8.2</td>\n",
       "      <td>M</td>\n",
       "      <td>21.05</td>\n",
       "    </tr>\n",
       "    <tr>\n",
       "      <td>1</td>\n",
       "      <td>Grand Theft Auto V</td>\n",
       "      <td>X360</td>\n",
       "      <td>2013</td>\n",
       "      <td>Action</td>\n",
       "      <td>9.66</td>\n",
       "      <td>5.14</td>\n",
       "      <td>0.06</td>\n",
       "      <td>1.41</td>\n",
       "      <td>97.0</td>\n",
       "      <td>8.1</td>\n",
       "      <td>M</td>\n",
       "      <td>16.27</td>\n",
       "    </tr>\n",
       "    <tr>\n",
       "      <td>2</td>\n",
       "      <td>Call of Duty: Modern Warfare 3</td>\n",
       "      <td>X360</td>\n",
       "      <td>2011</td>\n",
       "      <td>Shooter</td>\n",
       "      <td>9.04</td>\n",
       "      <td>4.24</td>\n",
       "      <td>0.13</td>\n",
       "      <td>1.32</td>\n",
       "      <td>88.0</td>\n",
       "      <td>3.4</td>\n",
       "      <td>M</td>\n",
       "      <td>14.73</td>\n",
       "    </tr>\n",
       "    <tr>\n",
       "      <td>3</td>\n",
       "      <td>Call of Duty: Black Ops 3</td>\n",
       "      <td>PS4</td>\n",
       "      <td>2015</td>\n",
       "      <td>Shooter</td>\n",
       "      <td>6.03</td>\n",
       "      <td>5.86</td>\n",
       "      <td>0.36</td>\n",
       "      <td>2.38</td>\n",
       "      <td>NaN</td>\n",
       "      <td>NaN</td>\n",
       "      <td>NaN</td>\n",
       "      <td>14.63</td>\n",
       "    </tr>\n",
       "    <tr>\n",
       "      <td>4</td>\n",
       "      <td>Pokemon X/Pokemon Y</td>\n",
       "      <td>3DS</td>\n",
       "      <td>2013</td>\n",
       "      <td>Role-Playing</td>\n",
       "      <td>5.28</td>\n",
       "      <td>4.19</td>\n",
       "      <td>4.35</td>\n",
       "      <td>0.78</td>\n",
       "      <td>NaN</td>\n",
       "      <td>NaN</td>\n",
       "      <td>NaN</td>\n",
       "      <td>14.60</td>\n",
       "    </tr>\n",
       "    <tr>\n",
       "      <td>...</td>\n",
       "      <td>...</td>\n",
       "      <td>...</td>\n",
       "      <td>...</td>\n",
       "      <td>...</td>\n",
       "      <td>...</td>\n",
       "      <td>...</td>\n",
       "      <td>...</td>\n",
       "      <td>...</td>\n",
       "      <td>...</td>\n",
       "      <td>...</td>\n",
       "      <td>...</td>\n",
       "      <td>...</td>\n",
       "    </tr>\n",
       "    <tr>\n",
       "      <td>3668</td>\n",
       "      <td>Strawberry Nauts</td>\n",
       "      <td>PSV</td>\n",
       "      <td>2016</td>\n",
       "      <td>Adventure</td>\n",
       "      <td>0.00</td>\n",
       "      <td>0.00</td>\n",
       "      <td>0.01</td>\n",
       "      <td>0.00</td>\n",
       "      <td>NaN</td>\n",
       "      <td>NaN</td>\n",
       "      <td>NaN</td>\n",
       "      <td>0.01</td>\n",
       "    </tr>\n",
       "    <tr>\n",
       "      <td>3669</td>\n",
       "      <td>Aiyoku no Eustia</td>\n",
       "      <td>PSV</td>\n",
       "      <td>2014</td>\n",
       "      <td>Misc</td>\n",
       "      <td>0.00</td>\n",
       "      <td>0.00</td>\n",
       "      <td>0.01</td>\n",
       "      <td>0.00</td>\n",
       "      <td>NaN</td>\n",
       "      <td>NaN</td>\n",
       "      <td>NaN</td>\n",
       "      <td>0.01</td>\n",
       "    </tr>\n",
       "    <tr>\n",
       "      <td>3670</td>\n",
       "      <td>Samurai Warriors: Sanada Maru</td>\n",
       "      <td>PS3</td>\n",
       "      <td>2016</td>\n",
       "      <td>Action</td>\n",
       "      <td>0.00</td>\n",
       "      <td>0.00</td>\n",
       "      <td>0.01</td>\n",
       "      <td>0.00</td>\n",
       "      <td>NaN</td>\n",
       "      <td>NaN</td>\n",
       "      <td>NaN</td>\n",
       "      <td>0.01</td>\n",
       "    </tr>\n",
       "    <tr>\n",
       "      <td>3671</td>\n",
       "      <td>Haitaka no Psychedelica</td>\n",
       "      <td>PSV</td>\n",
       "      <td>2016</td>\n",
       "      <td>Adventure</td>\n",
       "      <td>0.00</td>\n",
       "      <td>0.00</td>\n",
       "      <td>0.01</td>\n",
       "      <td>0.00</td>\n",
       "      <td>NaN</td>\n",
       "      <td>NaN</td>\n",
       "      <td>NaN</td>\n",
       "      <td>0.01</td>\n",
       "    </tr>\n",
       "    <tr>\n",
       "      <td>3672</td>\n",
       "      <td>Winning Post 8 2016</td>\n",
       "      <td>PSV</td>\n",
       "      <td>2016</td>\n",
       "      <td>Simulation</td>\n",
       "      <td>0.00</td>\n",
       "      <td>0.00</td>\n",
       "      <td>0.01</td>\n",
       "      <td>0.00</td>\n",
       "      <td>NaN</td>\n",
       "      <td>NaN</td>\n",
       "      <td>NaN</td>\n",
       "      <td>0.01</td>\n",
       "    </tr>\n",
       "  </tbody>\n",
       "</table>\n",
       "<p>3673 rows × 12 columns</p>\n",
       "</div>"
      ],
      "text/plain": [
       "                                name platform  year_of_release         genre  \\\n",
       "0                 Grand Theft Auto V      PS3             2013        Action   \n",
       "1                 Grand Theft Auto V     X360             2013        Action   \n",
       "2     Call of Duty: Modern Warfare 3     X360             2011       Shooter   \n",
       "3          Call of Duty: Black Ops 3      PS4             2015       Shooter   \n",
       "4                Pokemon X/Pokemon Y      3DS             2013  Role-Playing   \n",
       "...                              ...      ...              ...           ...   \n",
       "3668                Strawberry Nauts      PSV             2016     Adventure   \n",
       "3669                Aiyoku no Eustia      PSV             2014          Misc   \n",
       "3670   Samurai Warriors: Sanada Maru      PS3             2016        Action   \n",
       "3671         Haitaka no Psychedelica      PSV             2016     Adventure   \n",
       "3672             Winning Post 8 2016      PSV             2016    Simulation   \n",
       "\n",
       "      na_sales  eu_sales  jp_sales  other_sales  critic_score  user_score  \\\n",
       "0         7.02      9.09      0.98         3.96          97.0         8.2   \n",
       "1         9.66      5.14      0.06         1.41          97.0         8.1   \n",
       "2         9.04      4.24      0.13         1.32          88.0         3.4   \n",
       "3         6.03      5.86      0.36         2.38           NaN         NaN   \n",
       "4         5.28      4.19      4.35         0.78           NaN         NaN   \n",
       "...        ...       ...       ...          ...           ...         ...   \n",
       "3668      0.00      0.00      0.01         0.00           NaN         NaN   \n",
       "3669      0.00      0.00      0.01         0.00           NaN         NaN   \n",
       "3670      0.00      0.00      0.01         0.00           NaN         NaN   \n",
       "3671      0.00      0.00      0.01         0.00           NaN         NaN   \n",
       "3672      0.00      0.00      0.01         0.00           NaN         NaN   \n",
       "\n",
       "     rating  sum_sales  \n",
       "0         M      21.05  \n",
       "1         M      16.27  \n",
       "2         M      14.73  \n",
       "3       NaN      14.63  \n",
       "4       NaN      14.60  \n",
       "...     ...        ...  \n",
       "3668    NaN       0.01  \n",
       "3669    NaN       0.01  \n",
       "3670    NaN       0.01  \n",
       "3671    NaN       0.01  \n",
       "3672    NaN       0.01  \n",
       "\n",
       "[3673 rows x 12 columns]"
      ]
     },
     "execution_count": 20,
     "metadata": {},
     "output_type": "execute_result"
    }
   ],
   "source": [
    "data = df.query('year_of_release >= 2011')\n",
    "data = data.reset_index(drop=True)\n",
    "data"
   ]
  },
  {
   "cell_type": "markdown",
   "metadata": {},
   "source": [
    "Проверка на то, какие платформы лидируют по продажам"
   ]
  },
  {
   "cell_type": "code",
   "execution_count": 21,
   "metadata": {},
   "outputs": [
    {
     "data": {
      "text/html": [
       "<div>\n",
       "<style scoped>\n",
       "    .dataframe tbody tr th:only-of-type {\n",
       "        vertical-align: middle;\n",
       "    }\n",
       "\n",
       "    .dataframe tbody tr th {\n",
       "        vertical-align: top;\n",
       "    }\n",
       "\n",
       "    .dataframe thead th {\n",
       "        text-align: right;\n",
       "    }\n",
       "</style>\n",
       "<table border=\"1\" class=\"dataframe\">\n",
       "  <thead>\n",
       "    <tr style=\"text-align: right;\">\n",
       "      <th></th>\n",
       "      <th>platform</th>\n",
       "      <th>year_of_release</th>\n",
       "      <th>sum_sales</th>\n",
       "    </tr>\n",
       "  </thead>\n",
       "  <tbody>\n",
       "    <tr>\n",
       "      <td>0</td>\n",
       "      <td>3DS</td>\n",
       "      <td>2011</td>\n",
       "      <td>60.53</td>\n",
       "    </tr>\n",
       "    <tr>\n",
       "      <td>1</td>\n",
       "      <td>3DS</td>\n",
       "      <td>2012</td>\n",
       "      <td>51.01</td>\n",
       "    </tr>\n",
       "    <tr>\n",
       "      <td>2</td>\n",
       "      <td>3DS</td>\n",
       "      <td>2013</td>\n",
       "      <td>56.32</td>\n",
       "    </tr>\n",
       "    <tr>\n",
       "      <td>3</td>\n",
       "      <td>3DS</td>\n",
       "      <td>2014</td>\n",
       "      <td>43.07</td>\n",
       "    </tr>\n",
       "    <tr>\n",
       "      <td>4</td>\n",
       "      <td>3DS</td>\n",
       "      <td>2015</td>\n",
       "      <td>27.21</td>\n",
       "    </tr>\n",
       "    <tr>\n",
       "      <td>5</td>\n",
       "      <td>3DS</td>\n",
       "      <td>2016</td>\n",
       "      <td>15.10</td>\n",
       "    </tr>\n",
       "    <tr>\n",
       "      <td>6</td>\n",
       "      <td>DS</td>\n",
       "      <td>2011</td>\n",
       "      <td>13.48</td>\n",
       "    </tr>\n",
       "    <tr>\n",
       "      <td>7</td>\n",
       "      <td>DS</td>\n",
       "      <td>2012</td>\n",
       "      <td>10.28</td>\n",
       "    </tr>\n",
       "    <tr>\n",
       "      <td>8</td>\n",
       "      <td>DS</td>\n",
       "      <td>2013</td>\n",
       "      <td>0.97</td>\n",
       "    </tr>\n",
       "    <tr>\n",
       "      <td>9</td>\n",
       "      <td>PC</td>\n",
       "      <td>2011</td>\n",
       "      <td>34.55</td>\n",
       "    </tr>\n",
       "    <tr>\n",
       "      <td>10</td>\n",
       "      <td>PC</td>\n",
       "      <td>2012</td>\n",
       "      <td>23.22</td>\n",
       "    </tr>\n",
       "    <tr>\n",
       "      <td>11</td>\n",
       "      <td>PC</td>\n",
       "      <td>2013</td>\n",
       "      <td>12.38</td>\n",
       "    </tr>\n",
       "    <tr>\n",
       "      <td>12</td>\n",
       "      <td>PC</td>\n",
       "      <td>2014</td>\n",
       "      <td>13.25</td>\n",
       "    </tr>\n",
       "    <tr>\n",
       "      <td>13</td>\n",
       "      <td>PC</td>\n",
       "      <td>2015</td>\n",
       "      <td>8.49</td>\n",
       "    </tr>\n",
       "    <tr>\n",
       "      <td>14</td>\n",
       "      <td>PC</td>\n",
       "      <td>2016</td>\n",
       "      <td>5.22</td>\n",
       "    </tr>\n",
       "    <tr>\n",
       "      <td>15</td>\n",
       "      <td>PS2</td>\n",
       "      <td>2011</td>\n",
       "      <td>0.40</td>\n",
       "    </tr>\n",
       "    <tr>\n",
       "      <td>16</td>\n",
       "      <td>PS3</td>\n",
       "      <td>2011</td>\n",
       "      <td>154.14</td>\n",
       "    </tr>\n",
       "    <tr>\n",
       "      <td>17</td>\n",
       "      <td>PS3</td>\n",
       "      <td>2012</td>\n",
       "      <td>107.29</td>\n",
       "    </tr>\n",
       "    <tr>\n",
       "      <td>18</td>\n",
       "      <td>PS3</td>\n",
       "      <td>2013</td>\n",
       "      <td>113.24</td>\n",
       "    </tr>\n",
       "    <tr>\n",
       "      <td>19</td>\n",
       "      <td>PS3</td>\n",
       "      <td>2014</td>\n",
       "      <td>47.40</td>\n",
       "    </tr>\n",
       "    <tr>\n",
       "      <td>20</td>\n",
       "      <td>PS3</td>\n",
       "      <td>2015</td>\n",
       "      <td>16.30</td>\n",
       "    </tr>\n",
       "    <tr>\n",
       "      <td>21</td>\n",
       "      <td>PS3</td>\n",
       "      <td>2016</td>\n",
       "      <td>3.16</td>\n",
       "    </tr>\n",
       "    <tr>\n",
       "      <td>22</td>\n",
       "      <td>PS4</td>\n",
       "      <td>2013</td>\n",
       "      <td>25.99</td>\n",
       "    </tr>\n",
       "    <tr>\n",
       "      <td>23</td>\n",
       "      <td>PS4</td>\n",
       "      <td>2014</td>\n",
       "      <td>100.00</td>\n",
       "    </tr>\n",
       "    <tr>\n",
       "      <td>24</td>\n",
       "      <td>PS4</td>\n",
       "      <td>2015</td>\n",
       "      <td>118.86</td>\n",
       "    </tr>\n",
       "    <tr>\n",
       "      <td>25</td>\n",
       "      <td>PS4</td>\n",
       "      <td>2016</td>\n",
       "      <td>69.15</td>\n",
       "    </tr>\n",
       "    <tr>\n",
       "      <td>26</td>\n",
       "      <td>PSP</td>\n",
       "      <td>2011</td>\n",
       "      <td>16.72</td>\n",
       "    </tr>\n",
       "    <tr>\n",
       "      <td>27</td>\n",
       "      <td>PSP</td>\n",
       "      <td>2012</td>\n",
       "      <td>7.32</td>\n",
       "    </tr>\n",
       "    <tr>\n",
       "      <td>28</td>\n",
       "      <td>PSP</td>\n",
       "      <td>2013</td>\n",
       "      <td>3.14</td>\n",
       "    </tr>\n",
       "    <tr>\n",
       "      <td>29</td>\n",
       "      <td>PSP</td>\n",
       "      <td>2014</td>\n",
       "      <td>0.24</td>\n",
       "    </tr>\n",
       "    <tr>\n",
       "      <td>30</td>\n",
       "      <td>PSP</td>\n",
       "      <td>2015</td>\n",
       "      <td>0.12</td>\n",
       "    </tr>\n",
       "    <tr>\n",
       "      <td>31</td>\n",
       "      <td>PSV</td>\n",
       "      <td>2011</td>\n",
       "      <td>4.63</td>\n",
       "    </tr>\n",
       "    <tr>\n",
       "      <td>32</td>\n",
       "      <td>PSV</td>\n",
       "      <td>2012</td>\n",
       "      <td>16.19</td>\n",
       "    </tr>\n",
       "    <tr>\n",
       "      <td>33</td>\n",
       "      <td>PSV</td>\n",
       "      <td>2013</td>\n",
       "      <td>10.59</td>\n",
       "    </tr>\n",
       "    <tr>\n",
       "      <td>34</td>\n",
       "      <td>PSV</td>\n",
       "      <td>2014</td>\n",
       "      <td>11.90</td>\n",
       "    </tr>\n",
       "    <tr>\n",
       "      <td>35</td>\n",
       "      <td>PSV</td>\n",
       "      <td>2015</td>\n",
       "      <td>5.95</td>\n",
       "    </tr>\n",
       "    <tr>\n",
       "      <td>36</td>\n",
       "      <td>PSV</td>\n",
       "      <td>2016</td>\n",
       "      <td>4.24</td>\n",
       "    </tr>\n",
       "    <tr>\n",
       "      <td>37</td>\n",
       "      <td>Wii</td>\n",
       "      <td>2011</td>\n",
       "      <td>45.61</td>\n",
       "    </tr>\n",
       "    <tr>\n",
       "      <td>38</td>\n",
       "      <td>Wii</td>\n",
       "      <td>2012</td>\n",
       "      <td>21.08</td>\n",
       "    </tr>\n",
       "    <tr>\n",
       "      <td>39</td>\n",
       "      <td>Wii</td>\n",
       "      <td>2013</td>\n",
       "      <td>8.11</td>\n",
       "    </tr>\n",
       "    <tr>\n",
       "      <td>40</td>\n",
       "      <td>Wii</td>\n",
       "      <td>2014</td>\n",
       "      <td>2.61</td>\n",
       "    </tr>\n",
       "    <tr>\n",
       "      <td>41</td>\n",
       "      <td>Wii</td>\n",
       "      <td>2015</td>\n",
       "      <td>0.15</td>\n",
       "    </tr>\n",
       "    <tr>\n",
       "      <td>42</td>\n",
       "      <td>WiiU</td>\n",
       "      <td>2012</td>\n",
       "      <td>17.56</td>\n",
       "    </tr>\n",
       "    <tr>\n",
       "      <td>43</td>\n",
       "      <td>WiiU</td>\n",
       "      <td>2013</td>\n",
       "      <td>21.65</td>\n",
       "    </tr>\n",
       "    <tr>\n",
       "      <td>44</td>\n",
       "      <td>WiiU</td>\n",
       "      <td>2014</td>\n",
       "      <td>22.01</td>\n",
       "    </tr>\n",
       "    <tr>\n",
       "      <td>45</td>\n",
       "      <td>WiiU</td>\n",
       "      <td>2015</td>\n",
       "      <td>16.27</td>\n",
       "    </tr>\n",
       "    <tr>\n",
       "      <td>46</td>\n",
       "      <td>WiiU</td>\n",
       "      <td>2016</td>\n",
       "      <td>4.30</td>\n",
       "    </tr>\n",
       "    <tr>\n",
       "      <td>47</td>\n",
       "      <td>X360</td>\n",
       "      <td>2011</td>\n",
       "      <td>140.18</td>\n",
       "    </tr>\n",
       "    <tr>\n",
       "      <td>48</td>\n",
       "      <td>X360</td>\n",
       "      <td>2012</td>\n",
       "      <td>99.57</td>\n",
       "    </tr>\n",
       "    <tr>\n",
       "      <td>49</td>\n",
       "      <td>X360</td>\n",
       "      <td>2013</td>\n",
       "      <td>88.57</td>\n",
       "    </tr>\n",
       "    <tr>\n",
       "      <td>50</td>\n",
       "      <td>X360</td>\n",
       "      <td>2014</td>\n",
       "      <td>33.77</td>\n",
       "    </tr>\n",
       "    <tr>\n",
       "      <td>51</td>\n",
       "      <td>X360</td>\n",
       "      <td>2015</td>\n",
       "      <td>11.87</td>\n",
       "    </tr>\n",
       "    <tr>\n",
       "      <td>52</td>\n",
       "      <td>X360</td>\n",
       "      <td>2016</td>\n",
       "      <td>1.22</td>\n",
       "    </tr>\n",
       "    <tr>\n",
       "      <td>53</td>\n",
       "      <td>XOne</td>\n",
       "      <td>2013</td>\n",
       "      <td>18.96</td>\n",
       "    </tr>\n",
       "    <tr>\n",
       "      <td>54</td>\n",
       "      <td>XOne</td>\n",
       "      <td>2014</td>\n",
       "      <td>54.07</td>\n",
       "    </tr>\n",
       "    <tr>\n",
       "      <td>55</td>\n",
       "      <td>XOne</td>\n",
       "      <td>2015</td>\n",
       "      <td>59.92</td>\n",
       "    </tr>\n",
       "    <tr>\n",
       "      <td>56</td>\n",
       "      <td>XOne</td>\n",
       "      <td>2016</td>\n",
       "      <td>25.82</td>\n",
       "    </tr>\n",
       "  </tbody>\n",
       "</table>\n",
       "</div>"
      ],
      "text/plain": [
       "   platform  year_of_release  sum_sales\n",
       "0       3DS             2011      60.53\n",
       "1       3DS             2012      51.01\n",
       "2       3DS             2013      56.32\n",
       "3       3DS             2014      43.07\n",
       "4       3DS             2015      27.21\n",
       "5       3DS             2016      15.10\n",
       "6        DS             2011      13.48\n",
       "7        DS             2012      10.28\n",
       "8        DS             2013       0.97\n",
       "9        PC             2011      34.55\n",
       "10       PC             2012      23.22\n",
       "11       PC             2013      12.38\n",
       "12       PC             2014      13.25\n",
       "13       PC             2015       8.49\n",
       "14       PC             2016       5.22\n",
       "15      PS2             2011       0.40\n",
       "16      PS3             2011     154.14\n",
       "17      PS3             2012     107.29\n",
       "18      PS3             2013     113.24\n",
       "19      PS3             2014      47.40\n",
       "20      PS3             2015      16.30\n",
       "21      PS3             2016       3.16\n",
       "22      PS4             2013      25.99\n",
       "23      PS4             2014     100.00\n",
       "24      PS4             2015     118.86\n",
       "25      PS4             2016      69.15\n",
       "26      PSP             2011      16.72\n",
       "27      PSP             2012       7.32\n",
       "28      PSP             2013       3.14\n",
       "29      PSP             2014       0.24\n",
       "30      PSP             2015       0.12\n",
       "31      PSV             2011       4.63\n",
       "32      PSV             2012      16.19\n",
       "33      PSV             2013      10.59\n",
       "34      PSV             2014      11.90\n",
       "35      PSV             2015       5.95\n",
       "36      PSV             2016       4.24\n",
       "37      Wii             2011      45.61\n",
       "38      Wii             2012      21.08\n",
       "39      Wii             2013       8.11\n",
       "40      Wii             2014       2.61\n",
       "41      Wii             2015       0.15\n",
       "42     WiiU             2012      17.56\n",
       "43     WiiU             2013      21.65\n",
       "44     WiiU             2014      22.01\n",
       "45     WiiU             2015      16.27\n",
       "46     WiiU             2016       4.30\n",
       "47     X360             2011     140.18\n",
       "48     X360             2012      99.57\n",
       "49     X360             2013      88.57\n",
       "50     X360             2014      33.77\n",
       "51     X360             2015      11.87\n",
       "52     X360             2016       1.22\n",
       "53     XOne             2013      18.96\n",
       "54     XOne             2014      54.07\n",
       "55     XOne             2015      59.92\n",
       "56     XOne             2016      25.82"
      ]
     },
     "execution_count": 21,
     "metadata": {},
     "output_type": "execute_result"
    }
   ],
   "source": [
    "data_grouped = data.groupby(['platform', 'year_of_release'],as_index=False).agg({'sum_sales':'sum'})\n",
    "data_grouped"
   ]
  },
  {
   "cell_type": "markdown",
   "metadata": {},
   "source": [
    "Визуализация продаж"
   ]
  },
  {
   "cell_type": "code",
   "execution_count": 22,
   "metadata": {},
   "outputs": [
    {
     "name": "stderr",
     "output_type": "stream",
     "text": [
      "/opt/conda/lib/python3.7/site-packages/pandas/plotting/_matplotlib/core.py:1085: UserWarning: Attempting to set identical left == right == 2011.0 results in singular transformations; automatically expanding.\n",
      "  ax.set_xlim(left, right)\n"
     ]
    },
    {
     "data": {
      "image/png": "[encoded data removed]",
      "text/plain": [
       "<Figure size 432x288 with 1 Axes>"
      ]
     },
     "metadata": {
      "needs_background": "light"
     },
     "output_type": "display_data"
    },
    {
     "data": {
      "image/png": "[encoded data removed]",
      "text/plain": [
       "<Figure size 432x288 with 1 Axes>"
      ]
     },
     "metadata": {
      "needs_background": "light"
     },
     "output_type": "display_data"
    },
    {
     "data": {
      "image/png": "[encoded data removed]",
      "text/plain": [
       "<Figure size 432x288 with 1 Axes>"
      ]
     },
     "metadata": {
      "needs_background": "light"
     },
     "output_type": "display_data"
    },
    {
     "data": {
      "image/png": "[encoded data removed]",
      "text/plain": [
       "<Figure size 432x288 with 1 Axes>"
      ]
     },
     "metadata": {
      "needs_background": "light"
     },
     "output_type": "display_data"
    },
    {
     "data": {
      "image/png": "[encoded data removed]",
      "text/plain": [
       "<Figure size 432x288 with 1 Axes>"
      ]
     },
     "metadata": {
      "needs_background": "light"
     },
     "output_type": "display_data"
    },
    {
     "data": {
      "image/png": "[encoded data removed]",
      "text/plain": [
       "<Figure size 432x288 with 1 Axes>"
      ]
     },
     "metadata": {
      "needs_background": "light"
     },
     "output_type": "display_data"
    },
    {
     "data": {
      "image/png": "[encoded data removed]",
      "text/plain": [
       "<Figure size 432x288 with 1 Axes>"
      ]
     },
     "metadata": {
      "needs_background": "light"
     },
     "output_type": "display_data"
    },
    {
     "data": {
      "image/png": "[encoded data removed]",
      "text/plain": [
       "<Figure size 432x288 with 1 Axes>"
      ]
     },
     "metadata": {
      "needs_background": "light"
     },
     "output_type": "display_data"
    },
    {
     "data": {
      "image/png": "[encoded data removed]",
      "text/plain": [
       "<Figure size 432x288 with 1 Axes>"
      ]
     },
     "metadata": {
      "needs_background": "light"
     },
     "output_type": "display_data"
    },
    {
     "data": {
      "image/png": "[encoded data removed]",
      "text/plain": [
       "<Figure size 432x288 with 1 Axes>"
      ]
     },
     "metadata": {
      "needs_background": "light"
     },
     "output_type": "display_data"
    },
    {
     "data": {
      "image/png": "[encoded data removed]",
      "text/plain": [
       "<Figure size 432x288 with 1 Axes>"
      ]
     },
     "metadata": {
      "needs_background": "light"
     },
     "output_type": "display_data"
    },
    {
     "data": {
      "image/png": "[encoded data removed]",
      "text/plain": [
       "<Figure size 432x288 with 1 Axes>"
      ]
     },
     "metadata": {
      "needs_background": "light"
     },
     "output_type": "display_data"
    }
   ],
   "source": [
    "for platform in data_grouped['platform'].unique():\n",
    "    table = data_grouped.query('platform == @platform')\n",
    "    table.plot(x='year_of_release', y='sum_sales', title=platform)"
   ]
  },
  {
   "cell_type": "markdown",
   "metadata": {},
   "source": [
    "На всех графиках заметно снижение продаж, поэтому будем учитывать платформы, на которых суммарные продажи были большими до падения. Потенциально прибыльные платформы ps3, ps4, X360 и XOne"
   ]
  },
  {
   "cell_type": "markdown",
   "metadata": {},
   "source": [
    "Построение диаграммы размаха для потенциально прибыльных платформ по всем играм"
   ]
  },
  {
   "cell_type": "code",
   "execution_count": 23,
   "metadata": {},
   "outputs": [
    {
     "data": {
      "image/png": "[encoded data removed]",
      "text/plain": [
       "<Figure size 432x288 with 1 Axes>"
      ]
     },
     "metadata": {
      "needs_background": "light"
     },
     "output_type": "display_data"
    },
    {
     "data": {
      "image/png": "[encoded data removed]",
      "text/plain": [
       "<Figure size 432x288 with 1 Axes>"
      ]
     },
     "metadata": {
      "needs_background": "light"
     },
     "output_type": "display_data"
    },
    {
     "data": {
      "image/png": "[encoded data removed]",
      "text/plain": [
       "<Figure size 432x288 with 1 Axes>"
      ]
     },
     "metadata": {
      "needs_background": "light"
     },
     "output_type": "display_data"
    },
    {
     "data": {
      "image/png": "[encoded data removed]",
      "text/plain": [
       "<Figure size 432x288 with 1 Axes>"
      ]
     },
     "metadata": {
      "needs_background": "light"
     },
     "output_type": "display_data"
    },
    {
     "data": {
      "image/png": "[encoded data removed]",
      "text/plain": [
       "<Figure size 432x288 with 1 Axes>"
      ]
     },
     "metadata": {
      "needs_background": "light"
     },
     "output_type": "display_data"
    },
    {
     "data": {
      "image/png": "[encoded data removed]",
      "text/plain": [
       "<Figure size 432x288 with 1 Axes>"
      ]
     },
     "metadata": {
      "needs_background": "light"
     },
     "output_type": "display_data"
    },
    {
     "data": {
      "image/png": "[encoded data removed]",
      "text/plain": [
       "<Figure size 432x288 with 1 Axes>"
      ]
     },
     "metadata": {
      "needs_background": "light"
     },
     "output_type": "display_data"
    },
    {
     "data": {
      "image/png": "[encoded data removed]",
      "text/plain": [
       "<Figure size 432x288 with 1 Axes>"
      ]
     },
     "metadata": {
      "needs_background": "light"
     },
     "output_type": "display_data"
    },
    {
     "data": {
      "image/png": "[encoded data removed]",
      "text/plain": [
       "<Figure size 432x288 with 1 Axes>"
      ]
     },
     "metadata": {
      "needs_background": "light"
     },
     "output_type": "display_data"
    },
    {
     "data": {
      "image/png": "[encoded data removed]",
      "text/plain": [
       "<Figure size 432x288 with 1 Axes>"
      ]
     },
     "metadata": {
      "needs_background": "light"
     },
     "output_type": "display_data"
    },
    {
     "data": {
      "image/png": "[encoded data removed]",
      "text/plain": [
       "<Figure size 432x288 with 1 Axes>"
      ]
     },
     "metadata": {
      "needs_background": "light"
     },
     "output_type": "display_data"
    },
    {
     "data": {
      "image/png": "[encoded data removed]",
      "text/plain": [
       "<Figure size 432x288 with 1 Axes>"
      ]
     },
     "metadata": {
      "needs_background": "light"
     },
     "output_type": "display_data"
    }
   ],
   "source": [
    "for platform in data['platform'].unique():\n",
    "    table = data.loc[data['platform'] == platform, ['platform', 'sum_sales']]\n",
    "    table.boxplot()\n",
    "    plt.title = platform\n",
    "    plt.show()"
   ]
  },
  {
   "cell_type": "markdown",
   "metadata": {},
   "source": [
    "По диаграмме размаха можно сказать, что для каждой платформы есть выбросы, это топовые игры, для которых которых суммарные продажи очень большие. Для прогноза рекламной кампании мы не можем от них избавляться, ведь топовые игры приносят большую прибыль магазинам"
   ]
  },
  {
   "cell_type": "markdown",
   "metadata": {},
   "source": [
    "Зависимость продаж от отзывов пользователей и критиков"
   ]
  },
  {
   "cell_type": "markdown",
   "metadata": {},
   "source": [
    "Исследование для ps3"
   ]
  },
  {
   "cell_type": "code",
   "execution_count": 24,
   "metadata": {},
   "outputs": [
    {
     "data": {
      "text/html": [
       "<div>\n",
       "<style scoped>\n",
       "    .dataframe tbody tr th:only-of-type {\n",
       "        vertical-align: middle;\n",
       "    }\n",
       "\n",
       "    .dataframe tbody tr th {\n",
       "        vertical-align: top;\n",
       "    }\n",
       "\n",
       "    .dataframe thead th {\n",
       "        text-align: right;\n",
       "    }\n",
       "</style>\n",
       "<table border=\"1\" class=\"dataframe\">\n",
       "  <thead>\n",
       "    <tr style=\"text-align: right;\">\n",
       "      <th></th>\n",
       "      <th>critic_score</th>\n",
       "      <th>user_score</th>\n",
       "      <th>sum_sales</th>\n",
       "    </tr>\n",
       "  </thead>\n",
       "  <tbody>\n",
       "    <tr>\n",
       "      <td>0</td>\n",
       "      <td>97.0</td>\n",
       "      <td>8.2</td>\n",
       "      <td>21.05</td>\n",
       "    </tr>\n",
       "    <tr>\n",
       "      <td>5</td>\n",
       "      <td>83.0</td>\n",
       "      <td>5.3</td>\n",
       "      <td>13.79</td>\n",
       "    </tr>\n",
       "    <tr>\n",
       "      <td>7</td>\n",
       "      <td>88.0</td>\n",
       "      <td>3.2</td>\n",
       "      <td>13.33</td>\n",
       "    </tr>\n",
       "    <tr>\n",
       "      <td>16</td>\n",
       "      <td>71.0</td>\n",
       "      <td>2.6</td>\n",
       "      <td>9.36</td>\n",
       "    </tr>\n",
       "    <tr>\n",
       "      <td>21</td>\n",
       "      <td>88.0</td>\n",
       "      <td>6.6</td>\n",
       "      <td>8.17</td>\n",
       "    </tr>\n",
       "    <tr>\n",
       "      <td>...</td>\n",
       "      <td>...</td>\n",
       "      <td>...</td>\n",
       "      <td>...</td>\n",
       "    </tr>\n",
       "    <tr>\n",
       "      <td>3614</td>\n",
       "      <td>NaN</td>\n",
       "      <td>NaN</td>\n",
       "      <td>0.01</td>\n",
       "    </tr>\n",
       "    <tr>\n",
       "      <td>3636</td>\n",
       "      <td>NaN</td>\n",
       "      <td>NaN</td>\n",
       "      <td>0.01</td>\n",
       "    </tr>\n",
       "    <tr>\n",
       "      <td>3657</td>\n",
       "      <td>NaN</td>\n",
       "      <td>NaN</td>\n",
       "      <td>0.01</td>\n",
       "    </tr>\n",
       "    <tr>\n",
       "      <td>3663</td>\n",
       "      <td>NaN</td>\n",
       "      <td>NaN</td>\n",
       "      <td>0.01</td>\n",
       "    </tr>\n",
       "    <tr>\n",
       "      <td>3670</td>\n",
       "      <td>NaN</td>\n",
       "      <td>NaN</td>\n",
       "      <td>0.01</td>\n",
       "    </tr>\n",
       "  </tbody>\n",
       "</table>\n",
       "<p>659 rows × 3 columns</p>\n",
       "</div>"
      ],
      "text/plain": [
       "      critic_score  user_score  sum_sales\n",
       "0             97.0         8.2      21.05\n",
       "5             83.0         5.3      13.79\n",
       "7             88.0         3.2      13.33\n",
       "16            71.0         2.6       9.36\n",
       "21            88.0         6.6       8.17\n",
       "...            ...         ...        ...\n",
       "3614           NaN         NaN       0.01\n",
       "3636           NaN         NaN       0.01\n",
       "3657           NaN         NaN       0.01\n",
       "3663           NaN         NaN       0.01\n",
       "3670           NaN         NaN       0.01\n",
       "\n",
       "[659 rows x 3 columns]"
      ]
     },
     "execution_count": 24,
     "metadata": {},
     "output_type": "execute_result"
    }
   ],
   "source": [
    "ps3_table = data.loc[data['platform'] == 'PS3', ['critic_score', 'user_score', 'sum_sales']]\n",
    "ps3_table"
   ]
  },
  {
   "cell_type": "code",
   "execution_count": 25,
   "metadata": {},
   "outputs": [
    {
     "data": {
      "text/plain": [
       "<matplotlib.axes._subplots.AxesSubplot at 0x7fb5d7208d10>"
      ]
     },
     "execution_count": 25,
     "metadata": {},
     "output_type": "execute_result"
    },
    {
     "data": {
      "image/png": "[encoded data removed]",
      "text/plain": [
       "<Figure size 432x288 with 1 Axes>"
      ]
     },
     "metadata": {
      "needs_background": "light"
     },
     "output_type": "display_data"
    }
   ],
   "source": [
    "ps3_table.plot(kind='scatter',x='critic_score', y='sum_sales', title='Scatter sum_sales of critic_score')"
   ]
  },
  {
   "cell_type": "code",
   "execution_count": 26,
   "metadata": {},
   "outputs": [
    {
     "data": {
      "text/plain": [
       "<matplotlib.axes._subplots.AxesSubplot at 0x7fb5df2e3cd0>"
      ]
     },
     "execution_count": 26,
     "metadata": {},
     "output_type": "execute_result"
    },
    {
     "data": {
      "image/png": "[encoded data removed]",
      "text/plain": [
       "<Figure size 432x288 with 1 Axes>"
      ]
     },
     "metadata": {
      "needs_background": "light"
     },
     "output_type": "display_data"
    }
   ],
   "source": [
    "ps3_table.plot(kind='scatter',x='user_score', y='sum_sales', title='Scatter sum_sales of user_score')"
   ]
  },
  {
   "cell_type": "code",
   "execution_count": 27,
   "metadata": {},
   "outputs": [
    {
     "data": {
      "text/html": [
       "<div>\n",
       "<style scoped>\n",
       "    .dataframe tbody tr th:only-of-type {\n",
       "        vertical-align: middle;\n",
       "    }\n",
       "\n",
       "    .dataframe tbody tr th {\n",
       "        vertical-align: top;\n",
       "    }\n",
       "\n",
       "    .dataframe thead th {\n",
       "        text-align: right;\n",
       "    }\n",
       "</style>\n",
       "<table border=\"1\" class=\"dataframe\">\n",
       "  <thead>\n",
       "    <tr style=\"text-align: right;\">\n",
       "      <th></th>\n",
       "      <th>critic_score</th>\n",
       "      <th>user_score</th>\n",
       "      <th>sum_sales</th>\n",
       "    </tr>\n",
       "  </thead>\n",
       "  <tbody>\n",
       "    <tr>\n",
       "      <td>critic_score</td>\n",
       "      <td>1.000000</td>\n",
       "      <td>0.563315</td>\n",
       "      <td>0.376285</td>\n",
       "    </tr>\n",
       "    <tr>\n",
       "      <td>user_score</td>\n",
       "      <td>0.563315</td>\n",
       "      <td>1.000000</td>\n",
       "      <td>0.014089</td>\n",
       "    </tr>\n",
       "    <tr>\n",
       "      <td>sum_sales</td>\n",
       "      <td>0.376285</td>\n",
       "      <td>0.014089</td>\n",
       "      <td>1.000000</td>\n",
       "    </tr>\n",
       "  </tbody>\n",
       "</table>\n",
       "</div>"
      ],
      "text/plain": [
       "              critic_score  user_score  sum_sales\n",
       "critic_score      1.000000    0.563315   0.376285\n",
       "user_score        0.563315    1.000000   0.014089\n",
       "sum_sales         0.376285    0.014089   1.000000"
      ]
     },
     "execution_count": 27,
     "metadata": {},
     "output_type": "execute_result"
    }
   ],
   "source": [
    "ps3_table.corr()"
   ]
  },
  {
   "cell_type": "markdown",
   "metadata": {},
   "source": [
    "По графикам и посчитанным коэффициентам корелляции Пирсона можно сказать, что для ps3 продажи в средней степени зависят от отзывов критиков и почти не зависят от отзывов пользователей"
   ]
  },
  {
   "cell_type": "markdown",
   "metadata": {},
   "source": [
    "Исследование для ps4"
   ]
  },
  {
   "cell_type": "code",
   "execution_count": 28,
   "metadata": {},
   "outputs": [
    {
     "data": {
      "text/html": [
       "<div>\n",
       "<style scoped>\n",
       "    .dataframe tbody tr th:only-of-type {\n",
       "        vertical-align: middle;\n",
       "    }\n",
       "\n",
       "    .dataframe tbody tr th {\n",
       "        vertical-align: top;\n",
       "    }\n",
       "\n",
       "    .dataframe thead th {\n",
       "        text-align: right;\n",
       "    }\n",
       "</style>\n",
       "<table border=\"1\" class=\"dataframe\">\n",
       "  <thead>\n",
       "    <tr style=\"text-align: right;\">\n",
       "      <th></th>\n",
       "      <th>critic_score</th>\n",
       "      <th>user_score</th>\n",
       "      <th>sum_sales</th>\n",
       "    </tr>\n",
       "  </thead>\n",
       "  <tbody>\n",
       "    <tr>\n",
       "      <td>3</td>\n",
       "      <td>NaN</td>\n",
       "      <td>NaN</td>\n",
       "      <td>14.63</td>\n",
       "    </tr>\n",
       "    <tr>\n",
       "      <td>9</td>\n",
       "      <td>97.0</td>\n",
       "      <td>8.3</td>\n",
       "      <td>12.62</td>\n",
       "    </tr>\n",
       "    <tr>\n",
       "      <td>20</td>\n",
       "      <td>82.0</td>\n",
       "      <td>4.3</td>\n",
       "      <td>8.58</td>\n",
       "    </tr>\n",
       "    <tr>\n",
       "      <td>23</td>\n",
       "      <td>NaN</td>\n",
       "      <td>NaN</td>\n",
       "      <td>7.98</td>\n",
       "    </tr>\n",
       "    <tr>\n",
       "      <td>24</td>\n",
       "      <td>83.0</td>\n",
       "      <td>5.7</td>\n",
       "      <td>7.66</td>\n",
       "    </tr>\n",
       "    <tr>\n",
       "      <td>...</td>\n",
       "      <td>...</td>\n",
       "      <td>...</td>\n",
       "      <td>...</td>\n",
       "    </tr>\n",
       "    <tr>\n",
       "      <td>3583</td>\n",
       "      <td>69.0</td>\n",
       "      <td>7.5</td>\n",
       "      <td>0.01</td>\n",
       "    </tr>\n",
       "    <tr>\n",
       "      <td>3586</td>\n",
       "      <td>NaN</td>\n",
       "      <td>NaN</td>\n",
       "      <td>0.01</td>\n",
       "    </tr>\n",
       "    <tr>\n",
       "      <td>3595</td>\n",
       "      <td>61.0</td>\n",
       "      <td>7.9</td>\n",
       "      <td>0.01</td>\n",
       "    </tr>\n",
       "    <tr>\n",
       "      <td>3596</td>\n",
       "      <td>51.0</td>\n",
       "      <td>5.5</td>\n",
       "      <td>0.01</td>\n",
       "    </tr>\n",
       "    <tr>\n",
       "      <td>3618</td>\n",
       "      <td>NaN</td>\n",
       "      <td>NaN</td>\n",
       "      <td>0.01</td>\n",
       "    </tr>\n",
       "  </tbody>\n",
       "</table>\n",
       "<p>386 rows × 3 columns</p>\n",
       "</div>"
      ],
      "text/plain": [
       "      critic_score  user_score  sum_sales\n",
       "3              NaN         NaN      14.63\n",
       "9             97.0         8.3      12.62\n",
       "20            82.0         4.3       8.58\n",
       "23             NaN         NaN       7.98\n",
       "24            83.0         5.7       7.66\n",
       "...            ...         ...        ...\n",
       "3583          69.0         7.5       0.01\n",
       "3586           NaN         NaN       0.01\n",
       "3595          61.0         7.9       0.01\n",
       "3596          51.0         5.5       0.01\n",
       "3618           NaN         NaN       0.01\n",
       "\n",
       "[386 rows x 3 columns]"
      ]
     },
     "execution_count": 28,
     "metadata": {},
     "output_type": "execute_result"
    }
   ],
   "source": [
    "ps4_table = data.loc[data['platform'] == 'PS4', ['critic_score', 'user_score', 'sum_sales']]\n",
    "ps4_table"
   ]
  },
  {
   "cell_type": "code",
   "execution_count": 29,
   "metadata": {},
   "outputs": [
    {
     "data": {
      "text/plain": [
       "<matplotlib.axes._subplots.AxesSubplot at 0x7fb5d6b57550>"
      ]
     },
     "execution_count": 29,
     "metadata": {},
     "output_type": "execute_result"
    },
    {
     "data": {
      "image/png": "[encoded data removed]",
      "text/plain": [
       "<Figure size 432x288 with 1 Axes>"
      ]
     },
     "metadata": {
      "needs_background": "light"
     },
     "output_type": "display_data"
    }
   ],
   "source": [
    "ps4_table.plot(kind='scatter',x='critic_score', y='sum_sales', title='Scatter sum_sales of critic_score')"
   ]
  },
  {
   "cell_type": "code",
   "execution_count": 30,
   "metadata": {},
   "outputs": [
    {
     "data": {
      "text/plain": [
       "<matplotlib.axes._subplots.AxesSubplot at 0x7fb5d69ea490>"
      ]
     },
     "execution_count": 30,
     "metadata": {},
     "output_type": "execute_result"
    },
    {
     "data": {
      "image/png": "[encoded data removed]",
      "text/plain": [
       "<Figure size 432x288 with 1 Axes>"
      ]
     },
     "metadata": {
      "needs_background": "light"
     },
     "output_type": "display_data"
    }
   ],
   "source": [
    "ps4_table.plot(kind='scatter',x='user_score', y='sum_sales', title='Scatter sum_sales of user_score')"
   ]
  },
  {
   "cell_type": "code",
   "execution_count": 31,
   "metadata": {},
   "outputs": [
    {
     "data": {
      "text/html": [
       "<div>\n",
       "<style scoped>\n",
       "    .dataframe tbody tr th:only-of-type {\n",
       "        vertical-align: middle;\n",
       "    }\n",
       "\n",
       "    .dataframe tbody tr th {\n",
       "        vertical-align: top;\n",
       "    }\n",
       "\n",
       "    .dataframe thead th {\n",
       "        text-align: right;\n",
       "    }\n",
       "</style>\n",
       "<table border=\"1\" class=\"dataframe\">\n",
       "  <thead>\n",
       "    <tr style=\"text-align: right;\">\n",
       "      <th></th>\n",
       "      <th>critic_score</th>\n",
       "      <th>user_score</th>\n",
       "      <th>sum_sales</th>\n",
       "    </tr>\n",
       "  </thead>\n",
       "  <tbody>\n",
       "    <tr>\n",
       "      <td>critic_score</td>\n",
       "      <td>1.000000</td>\n",
       "      <td>0.557654</td>\n",
       "      <td>0.406469</td>\n",
       "    </tr>\n",
       "    <tr>\n",
       "      <td>user_score</td>\n",
       "      <td>0.557654</td>\n",
       "      <td>1.000000</td>\n",
       "      <td>-0.031957</td>\n",
       "    </tr>\n",
       "    <tr>\n",
       "      <td>sum_sales</td>\n",
       "      <td>0.406469</td>\n",
       "      <td>-0.031957</td>\n",
       "      <td>1.000000</td>\n",
       "    </tr>\n",
       "  </tbody>\n",
       "</table>\n",
       "</div>"
      ],
      "text/plain": [
       "              critic_score  user_score  sum_sales\n",
       "critic_score      1.000000    0.557654   0.406469\n",
       "user_score        0.557654    1.000000  -0.031957\n",
       "sum_sales         0.406469   -0.031957   1.000000"
      ]
     },
     "execution_count": 31,
     "metadata": {},
     "output_type": "execute_result"
    }
   ],
   "source": [
    "ps4_table.corr()"
   ]
  },
  {
   "cell_type": "markdown",
   "metadata": {},
   "source": [
    "По графикам и посчитанным коэффициентам корелляции Пирсона можно сказать, что для ps4 продажи в средней степени зависят от отзывов критиков и почти не зависят от отзывов пользователей"
   ]
  },
  {
   "cell_type": "code",
   "execution_count": 32,
   "metadata": {},
   "outputs": [
    {
     "data": {
      "text/html": [
       "<div>\n",
       "<style scoped>\n",
       "    .dataframe tbody tr th:only-of-type {\n",
       "        vertical-align: middle;\n",
       "    }\n",
       "\n",
       "    .dataframe tbody tr th {\n",
       "        vertical-align: top;\n",
       "    }\n",
       "\n",
       "    .dataframe thead th {\n",
       "        text-align: right;\n",
       "    }\n",
       "</style>\n",
       "<table border=\"1\" class=\"dataframe\">\n",
       "  <thead>\n",
       "    <tr style=\"text-align: right;\">\n",
       "      <th></th>\n",
       "      <th>critic_score</th>\n",
       "      <th>user_score</th>\n",
       "      <th>sum_sales</th>\n",
       "    </tr>\n",
       "  </thead>\n",
       "  <tbody>\n",
       "    <tr>\n",
       "      <td>1</td>\n",
       "      <td>97.0</td>\n",
       "      <td>8.1</td>\n",
       "      <td>16.27</td>\n",
       "    </tr>\n",
       "    <tr>\n",
       "      <td>2</td>\n",
       "      <td>88.0</td>\n",
       "      <td>3.4</td>\n",
       "      <td>14.73</td>\n",
       "    </tr>\n",
       "    <tr>\n",
       "      <td>6</td>\n",
       "      <td>83.0</td>\n",
       "      <td>4.8</td>\n",
       "      <td>13.68</td>\n",
       "    </tr>\n",
       "    <tr>\n",
       "      <td>12</td>\n",
       "      <td>73.0</td>\n",
       "      <td>2.6</td>\n",
       "      <td>10.24</td>\n",
       "    </tr>\n",
       "    <tr>\n",
       "      <td>15</td>\n",
       "      <td>87.0</td>\n",
       "      <td>7.0</td>\n",
       "      <td>9.71</td>\n",
       "    </tr>\n",
       "    <tr>\n",
       "      <td>...</td>\n",
       "      <td>...</td>\n",
       "      <td>...</td>\n",
       "      <td>...</td>\n",
       "    </tr>\n",
       "    <tr>\n",
       "      <td>3578</td>\n",
       "      <td>NaN</td>\n",
       "      <td>NaN</td>\n",
       "      <td>0.01</td>\n",
       "    </tr>\n",
       "    <tr>\n",
       "      <td>3600</td>\n",
       "      <td>NaN</td>\n",
       "      <td>NaN</td>\n",
       "      <td>0.01</td>\n",
       "    </tr>\n",
       "    <tr>\n",
       "      <td>3611</td>\n",
       "      <td>NaN</td>\n",
       "      <td>NaN</td>\n",
       "      <td>0.01</td>\n",
       "    </tr>\n",
       "    <tr>\n",
       "      <td>3631</td>\n",
       "      <td>49.0</td>\n",
       "      <td>2.1</td>\n",
       "      <td>0.01</td>\n",
       "    </tr>\n",
       "    <tr>\n",
       "      <td>3649</td>\n",
       "      <td>NaN</td>\n",
       "      <td>5.1</td>\n",
       "      <td>0.01</td>\n",
       "    </tr>\n",
       "  </tbody>\n",
       "</table>\n",
       "<p>460 rows × 3 columns</p>\n",
       "</div>"
      ],
      "text/plain": [
       "      critic_score  user_score  sum_sales\n",
       "1             97.0         8.1      16.27\n",
       "2             88.0         3.4      14.73\n",
       "6             83.0         4.8      13.68\n",
       "12            73.0         2.6      10.24\n",
       "15            87.0         7.0       9.71\n",
       "...            ...         ...        ...\n",
       "3578           NaN         NaN       0.01\n",
       "3600           NaN         NaN       0.01\n",
       "3611           NaN         NaN       0.01\n",
       "3631          49.0         2.1       0.01\n",
       "3649           NaN         5.1       0.01\n",
       "\n",
       "[460 rows x 3 columns]"
      ]
     },
     "execution_count": 32,
     "metadata": {},
     "output_type": "execute_result"
    }
   ],
   "source": [
    "x360_table = data.loc[data['platform'] == \"X360\", ['critic_score', 'user_score', 'sum_sales']]\n",
    "x360_table"
   ]
  },
  {
   "cell_type": "code",
   "execution_count": 33,
   "metadata": {},
   "outputs": [
    {
     "data": {
      "text/plain": [
       "<matplotlib.axes._subplots.AxesSubplot at 0x7fb5d6a5acd0>"
      ]
     },
     "execution_count": 33,
     "metadata": {},
     "output_type": "execute_result"
    },
    {
     "data": {
      "image/png": "[encoded data removed]",
      "text/plain": [
       "<Figure size 432x288 with 1 Axes>"
      ]
     },
     "metadata": {
      "needs_background": "light"
     },
     "output_type": "display_data"
    }
   ],
   "source": [
    "x360_table.plot(kind='scatter',x='critic_score', y='sum_sales', title='Scatter sum_sales of critic_score')"
   ]
  },
  {
   "cell_type": "code",
   "execution_count": 34,
   "metadata": {},
   "outputs": [
    {
     "data": {
      "text/plain": [
       "<matplotlib.axes._subplots.AxesSubplot at 0x7fb5d6986a50>"
      ]
     },
     "execution_count": 34,
     "metadata": {},
     "output_type": "execute_result"
    },
    {
     "data": {
      "image/png": "[encoded data removed]",
      "text/plain": [
       "<Figure size 432x288 with 1 Axes>"
      ]
     },
     "metadata": {
      "needs_background": "light"
     },
     "output_type": "display_data"
    }
   ],
   "source": [
    "x360_table.plot(kind='scatter',x='user_score', y='sum_sales',title='Scatter sum_sales of user_score')"
   ]
  },
  {
   "cell_type": "code",
   "execution_count": 35,
   "metadata": {},
   "outputs": [
    {
     "data": {
      "text/html": [
       "<div>\n",
       "<style scoped>\n",
       "    .dataframe tbody tr th:only-of-type {\n",
       "        vertical-align: middle;\n",
       "    }\n",
       "\n",
       "    .dataframe tbody tr th {\n",
       "        vertical-align: top;\n",
       "    }\n",
       "\n",
       "    .dataframe thead th {\n",
       "        text-align: right;\n",
       "    }\n",
       "</style>\n",
       "<table border=\"1\" class=\"dataframe\">\n",
       "  <thead>\n",
       "    <tr style=\"text-align: right;\">\n",
       "      <th></th>\n",
       "      <th>critic_score</th>\n",
       "      <th>user_score</th>\n",
       "      <th>sum_sales</th>\n",
       "    </tr>\n",
       "  </thead>\n",
       "  <tbody>\n",
       "    <tr>\n",
       "      <td>critic_score</td>\n",
       "      <td>1.000000</td>\n",
       "      <td>0.568386</td>\n",
       "      <td>0.390005</td>\n",
       "    </tr>\n",
       "    <tr>\n",
       "      <td>user_score</td>\n",
       "      <td>0.568386</td>\n",
       "      <td>1.000000</td>\n",
       "      <td>0.038918</td>\n",
       "    </tr>\n",
       "    <tr>\n",
       "      <td>sum_sales</td>\n",
       "      <td>0.390005</td>\n",
       "      <td>0.038918</td>\n",
       "      <td>1.000000</td>\n",
       "    </tr>\n",
       "  </tbody>\n",
       "</table>\n",
       "</div>"
      ],
      "text/plain": [
       "              critic_score  user_score  sum_sales\n",
       "critic_score      1.000000    0.568386   0.390005\n",
       "user_score        0.568386    1.000000   0.038918\n",
       "sum_sales         0.390005    0.038918   1.000000"
      ]
     },
     "execution_count": 35,
     "metadata": {},
     "output_type": "execute_result"
    }
   ],
   "source": [
    "x360_table.corr()"
   ]
  },
  {
   "cell_type": "markdown",
   "metadata": {},
   "source": [
    "Продажи опять же средне зависят от отзывов критиков, и почти не зависят от отзывов пользователей"
   ]
  },
  {
   "cell_type": "code",
   "execution_count": 36,
   "metadata": {},
   "outputs": [
    {
     "data": {
      "text/html": [
       "<div>\n",
       "<style scoped>\n",
       "    .dataframe tbody tr th:only-of-type {\n",
       "        vertical-align: middle;\n",
       "    }\n",
       "\n",
       "    .dataframe tbody tr th {\n",
       "        vertical-align: top;\n",
       "    }\n",
       "\n",
       "    .dataframe thead th {\n",
       "        text-align: right;\n",
       "    }\n",
       "</style>\n",
       "<table border=\"1\" class=\"dataframe\">\n",
       "  <thead>\n",
       "    <tr style=\"text-align: right;\">\n",
       "      <th></th>\n",
       "      <th>critic_score</th>\n",
       "      <th>user_score</th>\n",
       "      <th>sum_sales</th>\n",
       "    </tr>\n",
       "  </thead>\n",
       "  <tbody>\n",
       "    <tr>\n",
       "      <td>27</td>\n",
       "      <td>NaN</td>\n",
       "      <td>NaN</td>\n",
       "      <td>7.39</td>\n",
       "    </tr>\n",
       "    <tr>\n",
       "      <td>44</td>\n",
       "      <td>97.0</td>\n",
       "      <td>7.9</td>\n",
       "      <td>5.47</td>\n",
       "    </tr>\n",
       "    <tr>\n",
       "      <td>47</td>\n",
       "      <td>81.0</td>\n",
       "      <td>5.4</td>\n",
       "      <td>5.26</td>\n",
       "    </tr>\n",
       "    <tr>\n",
       "      <td>59</td>\n",
       "      <td>84.0</td>\n",
       "      <td>6.4</td>\n",
       "      <td>4.49</td>\n",
       "    </tr>\n",
       "    <tr>\n",
       "      <td>70</td>\n",
       "      <td>88.0</td>\n",
       "      <td>6.2</td>\n",
       "      <td>4.22</td>\n",
       "    </tr>\n",
       "    <tr>\n",
       "      <td>...</td>\n",
       "      <td>...</td>\n",
       "      <td>...</td>\n",
       "      <td>...</td>\n",
       "    </tr>\n",
       "    <tr>\n",
       "      <td>3623</td>\n",
       "      <td>65.0</td>\n",
       "      <td>6.0</td>\n",
       "      <td>0.01</td>\n",
       "    </tr>\n",
       "    <tr>\n",
       "      <td>3637</td>\n",
       "      <td>63.0</td>\n",
       "      <td>8.2</td>\n",
       "      <td>0.01</td>\n",
       "    </tr>\n",
       "    <tr>\n",
       "      <td>3641</td>\n",
       "      <td>NaN</td>\n",
       "      <td>6.6</td>\n",
       "      <td>0.01</td>\n",
       "    </tr>\n",
       "    <tr>\n",
       "      <td>3643</td>\n",
       "      <td>NaN</td>\n",
       "      <td>NaN</td>\n",
       "      <td>0.01</td>\n",
       "    </tr>\n",
       "    <tr>\n",
       "      <td>3653</td>\n",
       "      <td>74.0</td>\n",
       "      <td>6.7</td>\n",
       "      <td>0.01</td>\n",
       "    </tr>\n",
       "  </tbody>\n",
       "</table>\n",
       "<p>236 rows × 3 columns</p>\n",
       "</div>"
      ],
      "text/plain": [
       "      critic_score  user_score  sum_sales\n",
       "27             NaN         NaN       7.39\n",
       "44            97.0         7.9       5.47\n",
       "47            81.0         5.4       5.26\n",
       "59            84.0         6.4       4.49\n",
       "70            88.0         6.2       4.22\n",
       "...            ...         ...        ...\n",
       "3623          65.0         6.0       0.01\n",
       "3637          63.0         8.2       0.01\n",
       "3641           NaN         6.6       0.01\n",
       "3643           NaN         NaN       0.01\n",
       "3653          74.0         6.7       0.01\n",
       "\n",
       "[236 rows x 3 columns]"
      ]
     },
     "execution_count": 36,
     "metadata": {},
     "output_type": "execute_result"
    }
   ],
   "source": [
    "xOne_table = data.loc[data['platform'] == \"XOne\", ['critic_score', 'user_score', 'sum_sales']]\n",
    "xOne_table"
   ]
  },
  {
   "cell_type": "code",
   "execution_count": 37,
   "metadata": {},
   "outputs": [
    {
     "data": {
      "text/plain": [
       "<matplotlib.axes._subplots.AxesSubplot at 0x7fb5d6ac0c50>"
      ]
     },
     "execution_count": 37,
     "metadata": {},
     "output_type": "execute_result"
    },
    {
     "data": {
      "image/png": "[encoded data removed]",
      "text/plain": [
       "<Figure size 432x288 with 1 Axes>"
      ]
     },
     "metadata": {
      "needs_background": "light"
     },
     "output_type": "display_data"
    }
   ],
   "source": [
    "xOne_table.plot(kind='scatter',x='critic_score', y='sum_sales', title='Scatter sum_sales of critic_score')"
   ]
  },
  {
   "cell_type": "code",
   "execution_count": 38,
   "metadata": {},
   "outputs": [
    {
     "data": {
      "text/plain": [
       "<matplotlib.axes._subplots.AxesSubplot at 0x7fb5d6415b50>"
      ]
     },
     "execution_count": 38,
     "metadata": {},
     "output_type": "execute_result"
    },
    {
     "data": {
      "image/png": "[encoded data removed]",
      "text/plain": [
       "<Figure size 432x288 with 1 Axes>"
      ]
     },
     "metadata": {
      "needs_background": "light"
     },
     "output_type": "display_data"
    }
   ],
   "source": [
    "xOne_table.plot(kind='scatter',x='user_score', y='sum_sales',title='Scatter sum_sales of user_score')"
   ]
  },
  {
   "cell_type": "code",
   "execution_count": 39,
   "metadata": {},
   "outputs": [
    {
     "data": {
      "text/html": [
       "<div>\n",
       "<style scoped>\n",
       "    .dataframe tbody tr th:only-of-type {\n",
       "        vertical-align: middle;\n",
       "    }\n",
       "\n",
       "    .dataframe tbody tr th {\n",
       "        vertical-align: top;\n",
       "    }\n",
       "\n",
       "    .dataframe thead th {\n",
       "        text-align: right;\n",
       "    }\n",
       "</style>\n",
       "<table border=\"1\" class=\"dataframe\">\n",
       "  <thead>\n",
       "    <tr style=\"text-align: right;\">\n",
       "      <th></th>\n",
       "      <th>critic_score</th>\n",
       "      <th>user_score</th>\n",
       "      <th>sum_sales</th>\n",
       "    </tr>\n",
       "  </thead>\n",
       "  <tbody>\n",
       "    <tr>\n",
       "      <td>critic_score</td>\n",
       "      <td>1.000000</td>\n",
       "      <td>0.472462</td>\n",
       "      <td>0.412156</td>\n",
       "    </tr>\n",
       "    <tr>\n",
       "      <td>user_score</td>\n",
       "      <td>0.472462</td>\n",
       "      <td>1.000000</td>\n",
       "      <td>-0.068925</td>\n",
       "    </tr>\n",
       "    <tr>\n",
       "      <td>sum_sales</td>\n",
       "      <td>0.412156</td>\n",
       "      <td>-0.068925</td>\n",
       "      <td>1.000000</td>\n",
       "    </tr>\n",
       "  </tbody>\n",
       "</table>\n",
       "</div>"
      ],
      "text/plain": [
       "              critic_score  user_score  sum_sales\n",
       "critic_score      1.000000    0.472462   0.412156\n",
       "user_score        0.472462    1.000000  -0.068925\n",
       "sum_sales         0.412156   -0.068925   1.000000"
      ]
     },
     "execution_count": 39,
     "metadata": {},
     "output_type": "execute_result"
    }
   ],
   "source": [
    "xOne_table.corr()"
   ]
  },
  {
   "cell_type": "markdown",
   "metadata": {},
   "source": [
    "Для этой платформы результаты аналогичные"
   ]
  },
  {
   "cell_type": "markdown",
   "metadata": {},
   "source": [
    "В целом про все платформы можно сказать, что продажи не сильно зависят от каких-либо отзывов"
   ]
  },
  {
   "cell_type": "markdown",
   "metadata": {},
   "source": [
    "Исследование по жанрам"
   ]
  },
  {
   "cell_type": "code",
   "execution_count": 40,
   "metadata": {},
   "outputs": [
    {
     "data": {
      "text/html": [
       "<div>\n",
       "<style scoped>\n",
       "    .dataframe tbody tr th:only-of-type {\n",
       "        vertical-align: middle;\n",
       "    }\n",
       "\n",
       "    .dataframe tbody tr th {\n",
       "        vertical-align: top;\n",
       "    }\n",
       "\n",
       "    .dataframe thead th {\n",
       "        text-align: right;\n",
       "    }\n",
       "</style>\n",
       "<table border=\"1\" class=\"dataframe\">\n",
       "  <thead>\n",
       "    <tr style=\"text-align: right;\">\n",
       "      <th></th>\n",
       "      <th>genre</th>\n",
       "      <th>sum_sales</th>\n",
       "    </tr>\n",
       "  </thead>\n",
       "  <tbody>\n",
       "    <tr>\n",
       "      <td>0</td>\n",
       "      <td>Action</td>\n",
       "      <td>21.05</td>\n",
       "    </tr>\n",
       "    <tr>\n",
       "      <td>1</td>\n",
       "      <td>Action</td>\n",
       "      <td>16.27</td>\n",
       "    </tr>\n",
       "    <tr>\n",
       "      <td>2</td>\n",
       "      <td>Shooter</td>\n",
       "      <td>14.73</td>\n",
       "    </tr>\n",
       "    <tr>\n",
       "      <td>3</td>\n",
       "      <td>Shooter</td>\n",
       "      <td>14.63</td>\n",
       "    </tr>\n",
       "    <tr>\n",
       "      <td>4</td>\n",
       "      <td>Role-Playing</td>\n",
       "      <td>14.60</td>\n",
       "    </tr>\n",
       "    <tr>\n",
       "      <td>...</td>\n",
       "      <td>...</td>\n",
       "      <td>...</td>\n",
       "    </tr>\n",
       "    <tr>\n",
       "      <td>3668</td>\n",
       "      <td>Adventure</td>\n",
       "      <td>0.01</td>\n",
       "    </tr>\n",
       "    <tr>\n",
       "      <td>3669</td>\n",
       "      <td>Misc</td>\n",
       "      <td>0.01</td>\n",
       "    </tr>\n",
       "    <tr>\n",
       "      <td>3670</td>\n",
       "      <td>Action</td>\n",
       "      <td>0.01</td>\n",
       "    </tr>\n",
       "    <tr>\n",
       "      <td>3671</td>\n",
       "      <td>Adventure</td>\n",
       "      <td>0.01</td>\n",
       "    </tr>\n",
       "    <tr>\n",
       "      <td>3672</td>\n",
       "      <td>Simulation</td>\n",
       "      <td>0.01</td>\n",
       "    </tr>\n",
       "  </tbody>\n",
       "</table>\n",
       "<p>3673 rows × 2 columns</p>\n",
       "</div>"
      ],
      "text/plain": [
       "             genre  sum_sales\n",
       "0           Action      21.05\n",
       "1           Action      16.27\n",
       "2          Shooter      14.73\n",
       "3          Shooter      14.63\n",
       "4     Role-Playing      14.60\n",
       "...            ...        ...\n",
       "3668     Adventure       0.01\n",
       "3669          Misc       0.01\n",
       "3670        Action       0.01\n",
       "3671     Adventure       0.01\n",
       "3672    Simulation       0.01\n",
       "\n",
       "[3673 rows x 2 columns]"
      ]
     },
     "execution_count": 40,
     "metadata": {},
     "output_type": "execute_result"
    }
   ],
   "source": [
    "genre_data = data.loc[:,['genre', 'sum_sales']]\n",
    "genre_data"
   ]
  },
  {
   "cell_type": "code",
   "execution_count": 41,
   "metadata": {},
   "outputs": [
    {
     "data": {
      "text/html": [
       "<div>\n",
       "<style scoped>\n",
       "    .dataframe tbody tr th:only-of-type {\n",
       "        vertical-align: middle;\n",
       "    }\n",
       "\n",
       "    .dataframe tbody tr th {\n",
       "        vertical-align: top;\n",
       "    }\n",
       "\n",
       "    .dataframe thead th {\n",
       "        text-align: right;\n",
       "    }\n",
       "</style>\n",
       "<table border=\"1\" class=\"dataframe\">\n",
       "  <thead>\n",
       "    <tr style=\"text-align: right;\">\n",
       "      <th></th>\n",
       "      <th>sum_sales</th>\n",
       "    </tr>\n",
       "    <tr>\n",
       "      <th>genre</th>\n",
       "      <th></th>\n",
       "    </tr>\n",
       "  </thead>\n",
       "  <tbody>\n",
       "    <tr>\n",
       "      <td>Action</td>\n",
       "      <td>546.15</td>\n",
       "    </tr>\n",
       "    <tr>\n",
       "      <td>Shooter</td>\n",
       "      <td>402.27</td>\n",
       "    </tr>\n",
       "    <tr>\n",
       "      <td>Role-Playing</td>\n",
       "      <td>245.63</td>\n",
       "    </tr>\n",
       "    <tr>\n",
       "      <td>Sports</td>\n",
       "      <td>229.89</td>\n",
       "    </tr>\n",
       "    <tr>\n",
       "      <td>Misc</td>\n",
       "      <td>119.88</td>\n",
       "    </tr>\n",
       "    <tr>\n",
       "      <td>Platform</td>\n",
       "      <td>87.71</td>\n",
       "    </tr>\n",
       "    <tr>\n",
       "      <td>Racing</td>\n",
       "      <td>86.20</td>\n",
       "    </tr>\n",
       "    <tr>\n",
       "      <td>Fighting</td>\n",
       "      <td>66.78</td>\n",
       "    </tr>\n",
       "    <tr>\n",
       "      <td>Simulation</td>\n",
       "      <td>47.16</td>\n",
       "    </tr>\n",
       "    <tr>\n",
       "      <td>Adventure</td>\n",
       "      <td>43.24</td>\n",
       "    </tr>\n",
       "    <tr>\n",
       "      <td>Strategy</td>\n",
       "      <td>22.08</td>\n",
       "    </tr>\n",
       "    <tr>\n",
       "      <td>Puzzle</td>\n",
       "      <td>8.36</td>\n",
       "    </tr>\n",
       "  </tbody>\n",
       "</table>\n",
       "</div>"
      ],
      "text/plain": [
       "              sum_sales\n",
       "genre                  \n",
       "Action           546.15\n",
       "Shooter          402.27\n",
       "Role-Playing     245.63\n",
       "Sports           229.89\n",
       "Misc             119.88\n",
       "Platform          87.71\n",
       "Racing            86.20\n",
       "Fighting          66.78\n",
       "Simulation        47.16\n",
       "Adventure         43.24\n",
       "Strategy          22.08\n",
       "Puzzle             8.36"
      ]
     },
     "execution_count": 41,
     "metadata": {},
     "output_type": "execute_result"
    }
   ],
   "source": [
    "genre_data_grouped = genre_data.groupby('genre').agg({'sum_sales':'sum'})\n",
    "genre_data_grouped.sort_values(by='sum_sales', ascending=False)"
   ]
  },
  {
   "cell_type": "markdown",
   "metadata": {},
   "source": [
    "Самый популярный жанр-экшн, игры этого жанра продаются больше всего потому что большинство топовых игр именно такого жанра, это вносит большой вклад. Самый непопулярный жанр-пазлы. Мало кто производит игры такого жанра и мало кто покупает тоже, отсюда и результат-мало проданных копий"
   ]
  },
  {
   "cell_type": "markdown",
   "metadata": {},
   "source": [
    "Портрет пользователя для каждого региона"
   ]
  },
  {
   "cell_type": "code",
   "execution_count": 42,
   "metadata": {},
   "outputs": [
    {
     "data": {
      "text/html": [
       "<div>\n",
       "<style scoped>\n",
       "    .dataframe tbody tr th:only-of-type {\n",
       "        vertical-align: middle;\n",
       "    }\n",
       "\n",
       "    .dataframe tbody tr th {\n",
       "        vertical-align: top;\n",
       "    }\n",
       "\n",
       "    .dataframe thead th {\n",
       "        text-align: right;\n",
       "    }\n",
       "</style>\n",
       "<table border=\"1\" class=\"dataframe\">\n",
       "  <thead>\n",
       "    <tr style=\"text-align: right;\">\n",
       "      <th></th>\n",
       "      <th>name</th>\n",
       "      <th>platform</th>\n",
       "      <th>year_of_release</th>\n",
       "      <th>genre</th>\n",
       "      <th>na_sales</th>\n",
       "      <th>eu_sales</th>\n",
       "      <th>jp_sales</th>\n",
       "      <th>other_sales</th>\n",
       "      <th>critic_score</th>\n",
       "      <th>user_score</th>\n",
       "      <th>rating</th>\n",
       "      <th>sum_sales</th>\n",
       "    </tr>\n",
       "  </thead>\n",
       "  <tbody>\n",
       "    <tr>\n",
       "      <td>0</td>\n",
       "      <td>Grand Theft Auto V</td>\n",
       "      <td>PS3</td>\n",
       "      <td>2013</td>\n",
       "      <td>Action</td>\n",
       "      <td>7.02</td>\n",
       "      <td>9.09</td>\n",
       "      <td>0.98</td>\n",
       "      <td>3.96</td>\n",
       "      <td>97.0</td>\n",
       "      <td>8.2</td>\n",
       "      <td>M</td>\n",
       "      <td>21.05</td>\n",
       "    </tr>\n",
       "    <tr>\n",
       "      <td>1</td>\n",
       "      <td>Grand Theft Auto V</td>\n",
       "      <td>X360</td>\n",
       "      <td>2013</td>\n",
       "      <td>Action</td>\n",
       "      <td>9.66</td>\n",
       "      <td>5.14</td>\n",
       "      <td>0.06</td>\n",
       "      <td>1.41</td>\n",
       "      <td>97.0</td>\n",
       "      <td>8.1</td>\n",
       "      <td>M</td>\n",
       "      <td>16.27</td>\n",
       "    </tr>\n",
       "    <tr>\n",
       "      <td>2</td>\n",
       "      <td>Call of Duty: Modern Warfare 3</td>\n",
       "      <td>X360</td>\n",
       "      <td>2011</td>\n",
       "      <td>Shooter</td>\n",
       "      <td>9.04</td>\n",
       "      <td>4.24</td>\n",
       "      <td>0.13</td>\n",
       "      <td>1.32</td>\n",
       "      <td>88.0</td>\n",
       "      <td>3.4</td>\n",
       "      <td>M</td>\n",
       "      <td>14.73</td>\n",
       "    </tr>\n",
       "    <tr>\n",
       "      <td>3</td>\n",
       "      <td>Call of Duty: Black Ops 3</td>\n",
       "      <td>PS4</td>\n",
       "      <td>2015</td>\n",
       "      <td>Shooter</td>\n",
       "      <td>6.03</td>\n",
       "      <td>5.86</td>\n",
       "      <td>0.36</td>\n",
       "      <td>2.38</td>\n",
       "      <td>NaN</td>\n",
       "      <td>NaN</td>\n",
       "      <td>NaN</td>\n",
       "      <td>14.63</td>\n",
       "    </tr>\n",
       "    <tr>\n",
       "      <td>4</td>\n",
       "      <td>Pokemon X/Pokemon Y</td>\n",
       "      <td>3DS</td>\n",
       "      <td>2013</td>\n",
       "      <td>Role-Playing</td>\n",
       "      <td>5.28</td>\n",
       "      <td>4.19</td>\n",
       "      <td>4.35</td>\n",
       "      <td>0.78</td>\n",
       "      <td>NaN</td>\n",
       "      <td>NaN</td>\n",
       "      <td>NaN</td>\n",
       "      <td>14.60</td>\n",
       "    </tr>\n",
       "    <tr>\n",
       "      <td>...</td>\n",
       "      <td>...</td>\n",
       "      <td>...</td>\n",
       "      <td>...</td>\n",
       "      <td>...</td>\n",
       "      <td>...</td>\n",
       "      <td>...</td>\n",
       "      <td>...</td>\n",
       "      <td>...</td>\n",
       "      <td>...</td>\n",
       "      <td>...</td>\n",
       "      <td>...</td>\n",
       "      <td>...</td>\n",
       "    </tr>\n",
       "    <tr>\n",
       "      <td>3668</td>\n",
       "      <td>Strawberry Nauts</td>\n",
       "      <td>PSV</td>\n",
       "      <td>2016</td>\n",
       "      <td>Adventure</td>\n",
       "      <td>0.00</td>\n",
       "      <td>0.00</td>\n",
       "      <td>0.01</td>\n",
       "      <td>0.00</td>\n",
       "      <td>NaN</td>\n",
       "      <td>NaN</td>\n",
       "      <td>NaN</td>\n",
       "      <td>0.01</td>\n",
       "    </tr>\n",
       "    <tr>\n",
       "      <td>3669</td>\n",
       "      <td>Aiyoku no Eustia</td>\n",
       "      <td>PSV</td>\n",
       "      <td>2014</td>\n",
       "      <td>Misc</td>\n",
       "      <td>0.00</td>\n",
       "      <td>0.00</td>\n",
       "      <td>0.01</td>\n",
       "      <td>0.00</td>\n",
       "      <td>NaN</td>\n",
       "      <td>NaN</td>\n",
       "      <td>NaN</td>\n",
       "      <td>0.01</td>\n",
       "    </tr>\n",
       "    <tr>\n",
       "      <td>3670</td>\n",
       "      <td>Samurai Warriors: Sanada Maru</td>\n",
       "      <td>PS3</td>\n",
       "      <td>2016</td>\n",
       "      <td>Action</td>\n",
       "      <td>0.00</td>\n",
       "      <td>0.00</td>\n",
       "      <td>0.01</td>\n",
       "      <td>0.00</td>\n",
       "      <td>NaN</td>\n",
       "      <td>NaN</td>\n",
       "      <td>NaN</td>\n",
       "      <td>0.01</td>\n",
       "    </tr>\n",
       "    <tr>\n",
       "      <td>3671</td>\n",
       "      <td>Haitaka no Psychedelica</td>\n",
       "      <td>PSV</td>\n",
       "      <td>2016</td>\n",
       "      <td>Adventure</td>\n",
       "      <td>0.00</td>\n",
       "      <td>0.00</td>\n",
       "      <td>0.01</td>\n",
       "      <td>0.00</td>\n",
       "      <td>NaN</td>\n",
       "      <td>NaN</td>\n",
       "      <td>NaN</td>\n",
       "      <td>0.01</td>\n",
       "    </tr>\n",
       "    <tr>\n",
       "      <td>3672</td>\n",
       "      <td>Winning Post 8 2016</td>\n",
       "      <td>PSV</td>\n",
       "      <td>2016</td>\n",
       "      <td>Simulation</td>\n",
       "      <td>0.00</td>\n",
       "      <td>0.00</td>\n",
       "      <td>0.01</td>\n",
       "      <td>0.00</td>\n",
       "      <td>NaN</td>\n",
       "      <td>NaN</td>\n",
       "      <td>NaN</td>\n",
       "      <td>0.01</td>\n",
       "    </tr>\n",
       "  </tbody>\n",
       "</table>\n",
       "<p>3673 rows × 12 columns</p>\n",
       "</div>"
      ],
      "text/plain": [
       "                                name platform  year_of_release         genre  \\\n",
       "0                 Grand Theft Auto V      PS3             2013        Action   \n",
       "1                 Grand Theft Auto V     X360             2013        Action   \n",
       "2     Call of Duty: Modern Warfare 3     X360             2011       Shooter   \n",
       "3          Call of Duty: Black Ops 3      PS4             2015       Shooter   \n",
       "4                Pokemon X/Pokemon Y      3DS             2013  Role-Playing   \n",
       "...                              ...      ...              ...           ...   \n",
       "3668                Strawberry Nauts      PSV             2016     Adventure   \n",
       "3669                Aiyoku no Eustia      PSV             2014          Misc   \n",
       "3670   Samurai Warriors: Sanada Maru      PS3             2016        Action   \n",
       "3671         Haitaka no Psychedelica      PSV             2016     Adventure   \n",
       "3672             Winning Post 8 2016      PSV             2016    Simulation   \n",
       "\n",
       "      na_sales  eu_sales  jp_sales  other_sales  critic_score  user_score  \\\n",
       "0         7.02      9.09      0.98         3.96          97.0         8.2   \n",
       "1         9.66      5.14      0.06         1.41          97.0         8.1   \n",
       "2         9.04      4.24      0.13         1.32          88.0         3.4   \n",
       "3         6.03      5.86      0.36         2.38           NaN         NaN   \n",
       "4         5.28      4.19      4.35         0.78           NaN         NaN   \n",
       "...        ...       ...       ...          ...           ...         ...   \n",
       "3668      0.00      0.00      0.01         0.00           NaN         NaN   \n",
       "3669      0.00      0.00      0.01         0.00           NaN         NaN   \n",
       "3670      0.00      0.00      0.01         0.00           NaN         NaN   \n",
       "3671      0.00      0.00      0.01         0.00           NaN         NaN   \n",
       "3672      0.00      0.00      0.01         0.00           NaN         NaN   \n",
       "\n",
       "     rating  sum_sales  \n",
       "0         M      21.05  \n",
       "1         M      16.27  \n",
       "2         M      14.73  \n",
       "3       NaN      14.63  \n",
       "4       NaN      14.60  \n",
       "...     ...        ...  \n",
       "3668    NaN       0.01  \n",
       "3669    NaN       0.01  \n",
       "3670    NaN       0.01  \n",
       "3671    NaN       0.01  \n",
       "3672    NaN       0.01  \n",
       "\n",
       "[3673 rows x 12 columns]"
      ]
     },
     "execution_count": 42,
     "metadata": {},
     "output_type": "execute_result"
    }
   ],
   "source": [
    "data"
   ]
  },
  {
   "cell_type": "code",
   "execution_count": 43,
   "metadata": {},
   "outputs": [],
   "source": [
    "data['rating'] = data['rating'].fillna('nan')"
   ]
  },
  {
   "cell_type": "code",
   "execution_count": 44,
   "metadata": {},
   "outputs": [
    {
     "data": {
      "text/html": [
       "<div>\n",
       "<style scoped>\n",
       "    .dataframe tbody tr th:only-of-type {\n",
       "        vertical-align: middle;\n",
       "    }\n",
       "\n",
       "    .dataframe tbody tr th {\n",
       "        vertical-align: top;\n",
       "    }\n",
       "\n",
       "    .dataframe thead th {\n",
       "        text-align: right;\n",
       "    }\n",
       "</style>\n",
       "<table border=\"1\" class=\"dataframe\">\n",
       "  <thead>\n",
       "    <tr style=\"text-align: right;\">\n",
       "      <th></th>\n",
       "      <th>platform</th>\n",
       "      <th>genre</th>\n",
       "      <th>rating</th>\n",
       "      <th>na_sales</th>\n",
       "    </tr>\n",
       "  </thead>\n",
       "  <tbody>\n",
       "    <tr>\n",
       "      <td>0</td>\n",
       "      <td>PS3</td>\n",
       "      <td>Action</td>\n",
       "      <td>M</td>\n",
       "      <td>7.02</td>\n",
       "    </tr>\n",
       "    <tr>\n",
       "      <td>1</td>\n",
       "      <td>X360</td>\n",
       "      <td>Action</td>\n",
       "      <td>M</td>\n",
       "      <td>9.66</td>\n",
       "    </tr>\n",
       "    <tr>\n",
       "      <td>2</td>\n",
       "      <td>X360</td>\n",
       "      <td>Shooter</td>\n",
       "      <td>M</td>\n",
       "      <td>9.04</td>\n",
       "    </tr>\n",
       "    <tr>\n",
       "      <td>3</td>\n",
       "      <td>PS4</td>\n",
       "      <td>Shooter</td>\n",
       "      <td>nan</td>\n",
       "      <td>6.03</td>\n",
       "    </tr>\n",
       "    <tr>\n",
       "      <td>4</td>\n",
       "      <td>3DS</td>\n",
       "      <td>Role-Playing</td>\n",
       "      <td>nan</td>\n",
       "      <td>5.28</td>\n",
       "    </tr>\n",
       "    <tr>\n",
       "      <td>...</td>\n",
       "      <td>...</td>\n",
       "      <td>...</td>\n",
       "      <td>...</td>\n",
       "      <td>...</td>\n",
       "    </tr>\n",
       "    <tr>\n",
       "      <td>3668</td>\n",
       "      <td>PSV</td>\n",
       "      <td>Adventure</td>\n",
       "      <td>nan</td>\n",
       "      <td>0.00</td>\n",
       "    </tr>\n",
       "    <tr>\n",
       "      <td>3669</td>\n",
       "      <td>PSV</td>\n",
       "      <td>Misc</td>\n",
       "      <td>nan</td>\n",
       "      <td>0.00</td>\n",
       "    </tr>\n",
       "    <tr>\n",
       "      <td>3670</td>\n",
       "      <td>PS3</td>\n",
       "      <td>Action</td>\n",
       "      <td>nan</td>\n",
       "      <td>0.00</td>\n",
       "    </tr>\n",
       "    <tr>\n",
       "      <td>3671</td>\n",
       "      <td>PSV</td>\n",
       "      <td>Adventure</td>\n",
       "      <td>nan</td>\n",
       "      <td>0.00</td>\n",
       "    </tr>\n",
       "    <tr>\n",
       "      <td>3672</td>\n",
       "      <td>PSV</td>\n",
       "      <td>Simulation</td>\n",
       "      <td>nan</td>\n",
       "      <td>0.00</td>\n",
       "    </tr>\n",
       "  </tbody>\n",
       "</table>\n",
       "<p>3673 rows × 4 columns</p>\n",
       "</div>"
      ],
      "text/plain": [
       "     platform         genre rating  na_sales\n",
       "0         PS3        Action      M      7.02\n",
       "1        X360        Action      M      9.66\n",
       "2        X360       Shooter      M      9.04\n",
       "3         PS4       Shooter    nan      6.03\n",
       "4         3DS  Role-Playing    nan      5.28\n",
       "...       ...           ...    ...       ...\n",
       "3668      PSV     Adventure    nan      0.00\n",
       "3669      PSV          Misc    nan      0.00\n",
       "3670      PS3        Action    nan      0.00\n",
       "3671      PSV     Adventure    nan      0.00\n",
       "3672      PSV    Simulation    nan      0.00\n",
       "\n",
       "[3673 rows x 4 columns]"
      ]
     },
     "execution_count": 44,
     "metadata": {},
     "output_type": "execute_result"
    }
   ],
   "source": [
    "na_table = data.loc[:, ['platform', 'genre', 'rating', 'na_sales']]\n",
    "na_table"
   ]
  },
  {
   "cell_type": "code",
   "execution_count": 45,
   "metadata": {},
   "outputs": [
    {
     "data": {
      "text/html": [
       "<div>\n",
       "<style scoped>\n",
       "    .dataframe tbody tr th:only-of-type {\n",
       "        vertical-align: middle;\n",
       "    }\n",
       "\n",
       "    .dataframe tbody tr th {\n",
       "        vertical-align: top;\n",
       "    }\n",
       "\n",
       "    .dataframe thead th {\n",
       "        text-align: right;\n",
       "    }\n",
       "</style>\n",
       "<table border=\"1\" class=\"dataframe\">\n",
       "  <thead>\n",
       "    <tr style=\"text-align: right;\">\n",
       "      <th></th>\n",
       "      <th>na_sales</th>\n",
       "    </tr>\n",
       "    <tr>\n",
       "      <th>platform</th>\n",
       "      <th></th>\n",
       "    </tr>\n",
       "  </thead>\n",
       "  <tbody>\n",
       "    <tr>\n",
       "      <td>X360</td>\n",
       "      <td>222.92</td>\n",
       "    </tr>\n",
       "    <tr>\n",
       "      <td>PS3</td>\n",
       "      <td>166.42</td>\n",
       "    </tr>\n",
       "    <tr>\n",
       "      <td>PS4</td>\n",
       "      <td>108.62</td>\n",
       "    </tr>\n",
       "    <tr>\n",
       "      <td>XOne</td>\n",
       "      <td>92.77</td>\n",
       "    </tr>\n",
       "    <tr>\n",
       "      <td>3DS</td>\n",
       "      <td>80.13</td>\n",
       "    </tr>\n",
       "  </tbody>\n",
       "</table>\n",
       "</div>"
      ],
      "text/plain": [
       "          na_sales\n",
       "platform          \n",
       "X360        222.92\n",
       "PS3         166.42\n",
       "PS4         108.62\n",
       "XOne         92.77\n",
       "3DS          80.13"
      ]
     },
     "execution_count": 45,
     "metadata": {},
     "output_type": "execute_result"
    }
   ],
   "source": [
    "na_platforms_group = na_table.groupby('platform').agg({'na_sales':'sum'})\n",
    "na_platforms_group = na_platforms_group.sort_values(by='na_sales',ascending=False)\n",
    "na_platforms_group.head(5)"
   ]
  },
  {
   "cell_type": "code",
   "execution_count": 46,
   "metadata": {},
   "outputs": [
    {
     "data": {
      "image/png": "[encoded data removed]",
      "text/plain": [
       "<Figure size 432x288 with 1 Axes>"
      ]
     },
     "metadata": {
      "needs_background": "light"
     },
     "output_type": "display_data"
    },
    {
     "data": {
      "image/png": "[encoded data removed]",
      "text/plain": [
       "<Figure size 432x288 with 1 Axes>"
      ]
     },
     "metadata": {},
     "output_type": "display_data"
    }
   ],
   "source": [
    "for graph in ['bar', 'pie']:\n",
    "    na_platforms_group.head(5).plot(kind=graph, title='popular platform na',y='na_sales', legend=False)\n",
    "    plt.show()\n"
   ]
  },
  {
   "cell_type": "markdown",
   "metadata": {},
   "source": [
    "Продажи на xbox360 почти в 3 раза превышают продажи на 3ds"
   ]
  },
  {
   "cell_type": "code",
   "execution_count": 47,
   "metadata": {},
   "outputs": [
    {
     "data": {
      "text/html": [
       "<div>\n",
       "<style scoped>\n",
       "    .dataframe tbody tr th:only-of-type {\n",
       "        vertical-align: middle;\n",
       "    }\n",
       "\n",
       "    .dataframe tbody tr th {\n",
       "        vertical-align: top;\n",
       "    }\n",
       "\n",
       "    .dataframe thead th {\n",
       "        text-align: right;\n",
       "    }\n",
       "</style>\n",
       "<table border=\"1\" class=\"dataframe\">\n",
       "  <thead>\n",
       "    <tr style=\"text-align: right;\">\n",
       "      <th></th>\n",
       "      <th>na_sales</th>\n",
       "    </tr>\n",
       "    <tr>\n",
       "      <th>genre</th>\n",
       "      <th></th>\n",
       "    </tr>\n",
       "  </thead>\n",
       "  <tbody>\n",
       "    <tr>\n",
       "      <td>Action</td>\n",
       "      <td>224.91</td>\n",
       "    </tr>\n",
       "    <tr>\n",
       "      <td>Shooter</td>\n",
       "      <td>193.98</td>\n",
       "    </tr>\n",
       "    <tr>\n",
       "      <td>Sports</td>\n",
       "      <td>104.34</td>\n",
       "    </tr>\n",
       "    <tr>\n",
       "      <td>Role-Playing</td>\n",
       "      <td>83.78</td>\n",
       "    </tr>\n",
       "    <tr>\n",
       "      <td>Misc</td>\n",
       "      <td>57.00</td>\n",
       "    </tr>\n",
       "  </tbody>\n",
       "</table>\n",
       "</div>"
      ],
      "text/plain": [
       "              na_sales\n",
       "genre                 \n",
       "Action          224.91\n",
       "Shooter         193.98\n",
       "Sports          104.34\n",
       "Role-Playing     83.78\n",
       "Misc             57.00"
      ]
     },
     "execution_count": 47,
     "metadata": {},
     "output_type": "execute_result"
    }
   ],
   "source": [
    "na_genre_group = na_table.groupby('genre').agg({'na_sales':'sum'})\n",
    "na_genre_group = na_genre_group.sort_values(by='na_sales',ascending=False)\n",
    "na_genre_group.head(5)"
   ]
  },
  {
   "cell_type": "code",
   "execution_count": 48,
   "metadata": {},
   "outputs": [
    {
     "data": {
      "image/png": "[encoded data removed]",
      "text/plain": [
       "<Figure size 432x288 with 1 Axes>"
      ]
     },
     "metadata": {
      "needs_background": "light"
     },
     "output_type": "display_data"
    },
    {
     "data": {
      "image/png": "[encoded data removed]",
      "text/plain": [
       "<Figure size 432x288 with 1 Axes>"
      ]
     },
     "metadata": {},
     "output_type": "display_data"
    }
   ],
   "source": [
    "for graph in ['bar', 'pie']:\n",
    "    na_genre_group.head(5).plot(kind=graph, title='popular genres na',y='na_sales', legend=False)\n",
    "    plt.show()"
   ]
  },
  {
   "cell_type": "code",
   "execution_count": 49,
   "metadata": {},
   "outputs": [
    {
     "data": {
      "text/plain": [
       "<matplotlib.axes._subplots.AxesSubplot at 0x7fb5d6a32a90>"
      ]
     },
     "execution_count": 49,
     "metadata": {},
     "output_type": "execute_result"
    },
    {
     "data": {
      "image/png": "[encoded data removed]",
      "text/plain": [
       "<Figure size 432x288 with 1 Axes>"
      ]
     },
     "metadata": {
      "needs_background": "light"
     },
     "output_type": "display_data"
    }
   ],
   "source": [
    "na_table.pivot_table(index='rating', values='na_sales', aggfunc='sum').plot(kind='bar')"
   ]
  },
  {
   "cell_type": "markdown",
   "metadata": {},
   "source": [
    "Портрет типичного пользователя из Северной Америки:\n",
    "1. Платформа - xbox360\n",
    "2. Любимый жанр-экшн\n",
    "3. Играет в игры с возрастным рейтингом M\n"
   ]
  },
  {
   "cell_type": "markdown",
   "metadata": {},
   "source": [
    "Исследование для Европы"
   ]
  },
  {
   "cell_type": "code",
   "execution_count": 50,
   "metadata": {},
   "outputs": [
    {
     "data": {
      "text/html": [
       "<div>\n",
       "<style scoped>\n",
       "    .dataframe tbody tr th:only-of-type {\n",
       "        vertical-align: middle;\n",
       "    }\n",
       "\n",
       "    .dataframe tbody tr th {\n",
       "        vertical-align: top;\n",
       "    }\n",
       "\n",
       "    .dataframe thead th {\n",
       "        text-align: right;\n",
       "    }\n",
       "</style>\n",
       "<table border=\"1\" class=\"dataframe\">\n",
       "  <thead>\n",
       "    <tr style=\"text-align: right;\">\n",
       "      <th></th>\n",
       "      <th>platform</th>\n",
       "      <th>genre</th>\n",
       "      <th>rating</th>\n",
       "      <th>eu_sales</th>\n",
       "    </tr>\n",
       "  </thead>\n",
       "  <tbody>\n",
       "    <tr>\n",
       "      <td>0</td>\n",
       "      <td>PS3</td>\n",
       "      <td>Action</td>\n",
       "      <td>M</td>\n",
       "      <td>9.09</td>\n",
       "    </tr>\n",
       "    <tr>\n",
       "      <td>1</td>\n",
       "      <td>X360</td>\n",
       "      <td>Action</td>\n",
       "      <td>M</td>\n",
       "      <td>5.14</td>\n",
       "    </tr>\n",
       "    <tr>\n",
       "      <td>2</td>\n",
       "      <td>X360</td>\n",
       "      <td>Shooter</td>\n",
       "      <td>M</td>\n",
       "      <td>4.24</td>\n",
       "    </tr>\n",
       "    <tr>\n",
       "      <td>3</td>\n",
       "      <td>PS4</td>\n",
       "      <td>Shooter</td>\n",
       "      <td>nan</td>\n",
       "      <td>5.86</td>\n",
       "    </tr>\n",
       "    <tr>\n",
       "      <td>4</td>\n",
       "      <td>3DS</td>\n",
       "      <td>Role-Playing</td>\n",
       "      <td>nan</td>\n",
       "      <td>4.19</td>\n",
       "    </tr>\n",
       "    <tr>\n",
       "      <td>...</td>\n",
       "      <td>...</td>\n",
       "      <td>...</td>\n",
       "      <td>...</td>\n",
       "      <td>...</td>\n",
       "    </tr>\n",
       "    <tr>\n",
       "      <td>3668</td>\n",
       "      <td>PSV</td>\n",
       "      <td>Adventure</td>\n",
       "      <td>nan</td>\n",
       "      <td>0.00</td>\n",
       "    </tr>\n",
       "    <tr>\n",
       "      <td>3669</td>\n",
       "      <td>PSV</td>\n",
       "      <td>Misc</td>\n",
       "      <td>nan</td>\n",
       "      <td>0.00</td>\n",
       "    </tr>\n",
       "    <tr>\n",
       "      <td>3670</td>\n",
       "      <td>PS3</td>\n",
       "      <td>Action</td>\n",
       "      <td>nan</td>\n",
       "      <td>0.00</td>\n",
       "    </tr>\n",
       "    <tr>\n",
       "      <td>3671</td>\n",
       "      <td>PSV</td>\n",
       "      <td>Adventure</td>\n",
       "      <td>nan</td>\n",
       "      <td>0.00</td>\n",
       "    </tr>\n",
       "    <tr>\n",
       "      <td>3672</td>\n",
       "      <td>PSV</td>\n",
       "      <td>Simulation</td>\n",
       "      <td>nan</td>\n",
       "      <td>0.00</td>\n",
       "    </tr>\n",
       "  </tbody>\n",
       "</table>\n",
       "<p>3673 rows × 4 columns</p>\n",
       "</div>"
      ],
      "text/plain": [
       "     platform         genre rating  eu_sales\n",
       "0         PS3        Action      M      9.09\n",
       "1        X360        Action      M      5.14\n",
       "2        X360       Shooter      M      4.24\n",
       "3         PS4       Shooter    nan      5.86\n",
       "4         3DS  Role-Playing    nan      4.19\n",
       "...       ...           ...    ...       ...\n",
       "3668      PSV     Adventure    nan      0.00\n",
       "3669      PSV          Misc    nan      0.00\n",
       "3670      PS3        Action    nan      0.00\n",
       "3671      PSV     Adventure    nan      0.00\n",
       "3672      PSV    Simulation    nan      0.00\n",
       "\n",
       "[3673 rows x 4 columns]"
      ]
     },
     "execution_count": 50,
     "metadata": {},
     "output_type": "execute_result"
    }
   ],
   "source": [
    "eu_table = data.loc[:, ['platform', 'genre', 'rating', 'eu_sales']]\n",
    "eu_table"
   ]
  },
  {
   "cell_type": "code",
   "execution_count": 51,
   "metadata": {},
   "outputs": [
    {
     "data": {
      "text/html": [
       "<div>\n",
       "<style scoped>\n",
       "    .dataframe tbody tr th:only-of-type {\n",
       "        vertical-align: middle;\n",
       "    }\n",
       "\n",
       "    .dataframe tbody tr th {\n",
       "        vertical-align: top;\n",
       "    }\n",
       "\n",
       "    .dataframe thead th {\n",
       "        text-align: right;\n",
       "    }\n",
       "</style>\n",
       "<table border=\"1\" class=\"dataframe\">\n",
       "  <thead>\n",
       "    <tr style=\"text-align: right;\">\n",
       "      <th></th>\n",
       "      <th>eu_sales</th>\n",
       "    </tr>\n",
       "    <tr>\n",
       "      <th>platform</th>\n",
       "      <th></th>\n",
       "    </tr>\n",
       "  </thead>\n",
       "  <tbody>\n",
       "    <tr>\n",
       "      <td>PS3</td>\n",
       "      <td>161.79</td>\n",
       "    </tr>\n",
       "    <tr>\n",
       "      <td>PS4</td>\n",
       "      <td>141.09</td>\n",
       "    </tr>\n",
       "    <tr>\n",
       "      <td>X360</td>\n",
       "      <td>116.21</td>\n",
       "    </tr>\n",
       "    <tr>\n",
       "      <td>3DS</td>\n",
       "      <td>59.77</td>\n",
       "    </tr>\n",
       "    <tr>\n",
       "      <td>PC</td>\n",
       "      <td>56.31</td>\n",
       "    </tr>\n",
       "  </tbody>\n",
       "</table>\n",
       "</div>"
      ],
      "text/plain": [
       "          eu_sales\n",
       "platform          \n",
       "PS3         161.79\n",
       "PS4         141.09\n",
       "X360        116.21\n",
       "3DS          59.77\n",
       "PC           56.31"
      ]
     },
     "execution_count": 51,
     "metadata": {},
     "output_type": "execute_result"
    }
   ],
   "source": [
    "eu_platforms_group = eu_table.groupby('platform').agg({'eu_sales':'sum'})\n",
    "eu_platforms_group = eu_platforms_group.sort_values(by='eu_sales',ascending=False)\n",
    "eu_platforms_group.head(5)"
   ]
  },
  {
   "cell_type": "code",
   "execution_count": 52,
   "metadata": {},
   "outputs": [
    {
     "data": {
      "image/png": "[encoded data removed]",
      "text/plain": [
       "<Figure size 432x288 with 1 Axes>"
      ]
     },
     "metadata": {
      "needs_background": "light"
     },
     "output_type": "display_data"
    },
    {
     "data": {
      "image/png": "[encoded data removed]",
      "text/plain": [
       "<Figure size 432x288 with 1 Axes>"
      ]
     },
     "metadata": {},
     "output_type": "display_data"
    }
   ],
   "source": [
    "for graph in ['bar', 'pie']:\n",
    "    eu_platforms_group.head(5).plot(kind=graph, title='popular platform eu',y='eu_sales', legend=False)\n",
    "    plt.show()"
   ]
  },
  {
   "cell_type": "markdown",
   "metadata": {},
   "source": [
    "Продажи на ps3 почти в 3 раза превышают продажи на pc"
   ]
  },
  {
   "cell_type": "code",
   "execution_count": 53,
   "metadata": {},
   "outputs": [
    {
     "data": {
      "text/html": [
       "<div>\n",
       "<style scoped>\n",
       "    .dataframe tbody tr th:only-of-type {\n",
       "        vertical-align: middle;\n",
       "    }\n",
       "\n",
       "    .dataframe tbody tr th {\n",
       "        vertical-align: top;\n",
       "    }\n",
       "\n",
       "    .dataframe thead th {\n",
       "        text-align: right;\n",
       "    }\n",
       "</style>\n",
       "<table border=\"1\" class=\"dataframe\">\n",
       "  <thead>\n",
       "    <tr style=\"text-align: right;\">\n",
       "      <th></th>\n",
       "      <th>eu_sales</th>\n",
       "    </tr>\n",
       "    <tr>\n",
       "      <th>genre</th>\n",
       "      <th></th>\n",
       "    </tr>\n",
       "  </thead>\n",
       "  <tbody>\n",
       "    <tr>\n",
       "      <td>Action</td>\n",
       "      <td>195.10</td>\n",
       "    </tr>\n",
       "    <tr>\n",
       "      <td>Shooter</td>\n",
       "      <td>147.87</td>\n",
       "    </tr>\n",
       "    <tr>\n",
       "      <td>Sports</td>\n",
       "      <td>86.57</td>\n",
       "    </tr>\n",
       "    <tr>\n",
       "      <td>Role-Playing</td>\n",
       "      <td>62.30</td>\n",
       "    </tr>\n",
       "    <tr>\n",
       "      <td>Racing</td>\n",
       "      <td>40.18</td>\n",
       "    </tr>\n",
       "  </tbody>\n",
       "</table>\n",
       "</div>"
      ],
      "text/plain": [
       "              eu_sales\n",
       "genre                 \n",
       "Action          195.10\n",
       "Shooter         147.87\n",
       "Sports           86.57\n",
       "Role-Playing     62.30\n",
       "Racing           40.18"
      ]
     },
     "execution_count": 53,
     "metadata": {},
     "output_type": "execute_result"
    }
   ],
   "source": [
    "eu_genre_group = eu_table.groupby('genre').agg({'eu_sales':'sum'})\n",
    "eu_genre_group = eu_genre_group.sort_values(by='eu_sales',ascending=False)\n",
    "eu_genre_group.head(5)"
   ]
  },
  {
   "cell_type": "code",
   "execution_count": 54,
   "metadata": {},
   "outputs": [
    {
     "data": {
      "image/png": "[encoded data removed]",
      "text/plain": [
       "<Figure size 432x288 with 1 Axes>"
      ]
     },
     "metadata": {
      "needs_background": "light"
     },
     "output_type": "display_data"
    },
    {
     "data": {
      "image/png": "[encoded data removed]",
      "text/plain": [
       "<Figure size 432x288 with 1 Axes>"
      ]
     },
     "metadata": {},
     "output_type": "display_data"
    }
   ],
   "source": [
    "for graph in ['bar', 'pie']:\n",
    "    eu_genre_group.head(5).plot(kind=graph, title='popular genres eu',y='eu_sales', legend=False)\n",
    "    plt.show()"
   ]
  },
  {
   "cell_type": "code",
   "execution_count": 55,
   "metadata": {},
   "outputs": [
    {
     "data": {
      "text/plain": [
       "<matplotlib.axes._subplots.AxesSubplot at 0x7fb5d686fe90>"
      ]
     },
     "execution_count": 55,
     "metadata": {},
     "output_type": "execute_result"
    },
    {
     "data": {
      "image/png": "[encoded data removed]",
      "text/plain": [
       "<Figure size 432x288 with 1 Axes>"
      ]
     },
     "metadata": {
      "needs_background": "light"
     },
     "output_type": "display_data"
    }
   ],
   "source": [
    "eu_table.pivot_table(index='rating', values='eu_sales', aggfunc='sum').plot(kind='bar')"
   ]
  },
  {
   "cell_type": "markdown",
   "metadata": {},
   "source": [
    "Портрет типичного пользователя из Европы\n",
    "1. Платформа - ps3\n",
    "2. Любимый жанр - action\n",
    "3. Играет в игры с возрастным рейтингом M"
   ]
  },
  {
   "cell_type": "markdown",
   "metadata": {},
   "source": [
    "Исследование для Японии"
   ]
  },
  {
   "cell_type": "code",
   "execution_count": 56,
   "metadata": {},
   "outputs": [
    {
     "data": {
      "text/html": [
       "<div>\n",
       "<style scoped>\n",
       "    .dataframe tbody tr th:only-of-type {\n",
       "        vertical-align: middle;\n",
       "    }\n",
       "\n",
       "    .dataframe tbody tr th {\n",
       "        vertical-align: top;\n",
       "    }\n",
       "\n",
       "    .dataframe thead th {\n",
       "        text-align: right;\n",
       "    }\n",
       "</style>\n",
       "<table border=\"1\" class=\"dataframe\">\n",
       "  <thead>\n",
       "    <tr style=\"text-align: right;\">\n",
       "      <th></th>\n",
       "      <th>platform</th>\n",
       "      <th>genre</th>\n",
       "      <th>rating</th>\n",
       "      <th>jp_sales</th>\n",
       "    </tr>\n",
       "  </thead>\n",
       "  <tbody>\n",
       "    <tr>\n",
       "      <td>0</td>\n",
       "      <td>PS3</td>\n",
       "      <td>Action</td>\n",
       "      <td>M</td>\n",
       "      <td>0.98</td>\n",
       "    </tr>\n",
       "    <tr>\n",
       "      <td>1</td>\n",
       "      <td>X360</td>\n",
       "      <td>Action</td>\n",
       "      <td>M</td>\n",
       "      <td>0.06</td>\n",
       "    </tr>\n",
       "    <tr>\n",
       "      <td>2</td>\n",
       "      <td>X360</td>\n",
       "      <td>Shooter</td>\n",
       "      <td>M</td>\n",
       "      <td>0.13</td>\n",
       "    </tr>\n",
       "    <tr>\n",
       "      <td>3</td>\n",
       "      <td>PS4</td>\n",
       "      <td>Shooter</td>\n",
       "      <td>nan</td>\n",
       "      <td>0.36</td>\n",
       "    </tr>\n",
       "    <tr>\n",
       "      <td>4</td>\n",
       "      <td>3DS</td>\n",
       "      <td>Role-Playing</td>\n",
       "      <td>nan</td>\n",
       "      <td>4.35</td>\n",
       "    </tr>\n",
       "    <tr>\n",
       "      <td>...</td>\n",
       "      <td>...</td>\n",
       "      <td>...</td>\n",
       "      <td>...</td>\n",
       "      <td>...</td>\n",
       "    </tr>\n",
       "    <tr>\n",
       "      <td>3668</td>\n",
       "      <td>PSV</td>\n",
       "      <td>Adventure</td>\n",
       "      <td>nan</td>\n",
       "      <td>0.01</td>\n",
       "    </tr>\n",
       "    <tr>\n",
       "      <td>3669</td>\n",
       "      <td>PSV</td>\n",
       "      <td>Misc</td>\n",
       "      <td>nan</td>\n",
       "      <td>0.01</td>\n",
       "    </tr>\n",
       "    <tr>\n",
       "      <td>3670</td>\n",
       "      <td>PS3</td>\n",
       "      <td>Action</td>\n",
       "      <td>nan</td>\n",
       "      <td>0.01</td>\n",
       "    </tr>\n",
       "    <tr>\n",
       "      <td>3671</td>\n",
       "      <td>PSV</td>\n",
       "      <td>Adventure</td>\n",
       "      <td>nan</td>\n",
       "      <td>0.01</td>\n",
       "    </tr>\n",
       "    <tr>\n",
       "      <td>3672</td>\n",
       "      <td>PSV</td>\n",
       "      <td>Simulation</td>\n",
       "      <td>nan</td>\n",
       "      <td>0.01</td>\n",
       "    </tr>\n",
       "  </tbody>\n",
       "</table>\n",
       "<p>3673 rows × 4 columns</p>\n",
       "</div>"
      ],
      "text/plain": [
       "     platform         genre rating  jp_sales\n",
       "0         PS3        Action      M      0.98\n",
       "1        X360        Action      M      0.06\n",
       "2        X360       Shooter      M      0.13\n",
       "3         PS4       Shooter    nan      0.36\n",
       "4         3DS  Role-Playing    nan      4.35\n",
       "...       ...           ...    ...       ...\n",
       "3668      PSV     Adventure    nan      0.01\n",
       "3669      PSV          Misc    nan      0.01\n",
       "3670      PS3        Action    nan      0.01\n",
       "3671      PSV     Adventure    nan      0.01\n",
       "3672      PSV    Simulation    nan      0.01\n",
       "\n",
       "[3673 rows x 4 columns]"
      ]
     },
     "execution_count": 56,
     "metadata": {},
     "output_type": "execute_result"
    }
   ],
   "source": [
    "jp_table = data.loc[:, ['platform', 'genre', 'rating', 'jp_sales']]\n",
    "jp_table"
   ]
  },
  {
   "cell_type": "code",
   "execution_count": 57,
   "metadata": {},
   "outputs": [
    {
     "data": {
      "text/html": [
       "<div>\n",
       "<style scoped>\n",
       "    .dataframe tbody tr th:only-of-type {\n",
       "        vertical-align: middle;\n",
       "    }\n",
       "\n",
       "    .dataframe tbody tr th {\n",
       "        vertical-align: top;\n",
       "    }\n",
       "\n",
       "    .dataframe thead th {\n",
       "        text-align: right;\n",
       "    }\n",
       "</style>\n",
       "<table border=\"1\" class=\"dataframe\">\n",
       "  <thead>\n",
       "    <tr style=\"text-align: right;\">\n",
       "      <th></th>\n",
       "      <th>jp_sales</th>\n",
       "    </tr>\n",
       "    <tr>\n",
       "      <th>platform</th>\n",
       "      <th></th>\n",
       "    </tr>\n",
       "  </thead>\n",
       "  <tbody>\n",
       "    <tr>\n",
       "      <td>3DS</td>\n",
       "      <td>100.39</td>\n",
       "    </tr>\n",
       "    <tr>\n",
       "      <td>PS3</td>\n",
       "      <td>49.02</td>\n",
       "    </tr>\n",
       "    <tr>\n",
       "      <td>PSP</td>\n",
       "      <td>23.86</td>\n",
       "    </tr>\n",
       "    <tr>\n",
       "      <td>PSV</td>\n",
       "      <td>21.73</td>\n",
       "    </tr>\n",
       "    <tr>\n",
       "      <td>PS4</td>\n",
       "      <td>15.96</td>\n",
       "    </tr>\n",
       "  </tbody>\n",
       "</table>\n",
       "</div>"
      ],
      "text/plain": [
       "          jp_sales\n",
       "platform          \n",
       "3DS         100.39\n",
       "PS3          49.02\n",
       "PSP          23.86\n",
       "PSV          21.73\n",
       "PS4          15.96"
      ]
     },
     "execution_count": 57,
     "metadata": {},
     "output_type": "execute_result"
    }
   ],
   "source": [
    "jp_platforms_group = jp_table.groupby('platform').agg({'jp_sales':'sum'})\n",
    "jp_platforms_group = jp_platforms_group.sort_values(by='jp_sales',ascending=False)\n",
    "jp_platforms_group.head(5)"
   ]
  },
  {
   "cell_type": "code",
   "execution_count": 58,
   "metadata": {},
   "outputs": [
    {
     "data": {
      "image/png": "[encoded data removed]",
      "text/plain": [
       "<Figure size 432x288 with 1 Axes>"
      ]
     },
     "metadata": {
      "needs_background": "light"
     },
     "output_type": "display_data"
    },
    {
     "data": {
      "image/png": "[encoded data removed]",
      "text/plain": [
       "<Figure size 432x288 with 1 Axes>"
      ]
     },
     "metadata": {},
     "output_type": "display_data"
    }
   ],
   "source": [
    "for graph in ['bar', 'pie']:\n",
    "    jp_platforms_group.head(5).plot(kind=graph, title='popular platform jp',y='jp_sales', legend=False)\n",
    "    plt.show()"
   ]
  },
  {
   "cell_type": "markdown",
   "metadata": {},
   "source": [
    "Продажи на 3ds почти в 7 раз превышают продажи на ps4"
   ]
  },
  {
   "cell_type": "code",
   "execution_count": 59,
   "metadata": {},
   "outputs": [
    {
     "data": {
      "text/html": [
       "<div>\n",
       "<style scoped>\n",
       "    .dataframe tbody tr th:only-of-type {\n",
       "        vertical-align: middle;\n",
       "    }\n",
       "\n",
       "    .dataframe tbody tr th {\n",
       "        vertical-align: top;\n",
       "    }\n",
       "\n",
       "    .dataframe thead th {\n",
       "        text-align: right;\n",
       "    }\n",
       "</style>\n",
       "<table border=\"1\" class=\"dataframe\">\n",
       "  <thead>\n",
       "    <tr style=\"text-align: right;\">\n",
       "      <th></th>\n",
       "      <th>jp_sales</th>\n",
       "    </tr>\n",
       "    <tr>\n",
       "      <th>genre</th>\n",
       "      <th></th>\n",
       "    </tr>\n",
       "  </thead>\n",
       "  <tbody>\n",
       "    <tr>\n",
       "      <td>Role-Playing</td>\n",
       "      <td>79.87</td>\n",
       "    </tr>\n",
       "    <tr>\n",
       "      <td>Action</td>\n",
       "      <td>63.14</td>\n",
       "    </tr>\n",
       "    <tr>\n",
       "      <td>Misc</td>\n",
       "      <td>17.60</td>\n",
       "    </tr>\n",
       "    <tr>\n",
       "      <td>Fighting</td>\n",
       "      <td>12.35</td>\n",
       "    </tr>\n",
       "    <tr>\n",
       "      <td>Platform</td>\n",
       "      <td>12.13</td>\n",
       "    </tr>\n",
       "  </tbody>\n",
       "</table>\n",
       "</div>"
      ],
      "text/plain": [
       "              jp_sales\n",
       "genre                 \n",
       "Role-Playing     79.87\n",
       "Action           63.14\n",
       "Misc             17.60\n",
       "Fighting         12.35\n",
       "Platform         12.13"
      ]
     },
     "execution_count": 59,
     "metadata": {},
     "output_type": "execute_result"
    }
   ],
   "source": [
    "jp_genre_group = jp_table.groupby('genre').agg({'jp_sales':'sum'})\n",
    "jp_genre_group = jp_genre_group.sort_values(by='jp_sales',ascending=False)\n",
    "jp_genre_group.head(5)"
   ]
  },
  {
   "cell_type": "code",
   "execution_count": 60,
   "metadata": {},
   "outputs": [
    {
     "data": {
      "image/png": "[encoded data removed]",
      "text/plain": [
       "<Figure size 432x288 with 1 Axes>"
      ]
     },
     "metadata": {
      "needs_background": "light"
     },
     "output_type": "display_data"
    },
    {
     "data": {
      "image/png": "[encoded data removed]",
      "text/plain": [
       "<Figure size 432x288 with 1 Axes>"
      ]
     },
     "metadata": {},
     "output_type": "display_data"
    }
   ],
   "source": [
    "for graph in ['bar', 'pie']:\n",
    "    jp_genre_group.head(5).plot(kind=graph, title='popular genres jp',y='jp_sales', legend=False)\n",
    "    plt.show()"
   ]
  },
  {
   "cell_type": "code",
   "execution_count": 61,
   "metadata": {},
   "outputs": [
    {
     "data": {
      "text/plain": [
       "<matplotlib.axes._subplots.AxesSubplot at 0x7fb5d668bb10>"
      ]
     },
     "execution_count": 61,
     "metadata": {},
     "output_type": "execute_result"
    },
    {
     "data": {
      "image/png": "[encoded data removed]",
      "text/plain": [
       "<Figure size 432x288 with 1 Axes>"
      ]
     },
     "metadata": {
      "needs_background": "light"
     },
     "output_type": "display_data"
    }
   ],
   "source": [
    "jp_table.pivot_table(index='rating', values='jp_sales', aggfunc='sum').plot(kind='bar')"
   ]
  },
  {
   "cell_type": "markdown",
   "metadata": {},
   "source": [
    "Портрет типичного пользователя из Японии\n",
    "1. Платформа 3ds\n",
    "2. Популярный жанр role_playing\n",
    "3. играет в игры с рейтингом E и T, но чаще всего в игры без рейтинга"
   ]
  },
  {
   "cell_type": "markdown",
   "metadata": {},
   "source": [
    "Для каждого региона необходима своя стратегия по продажама, ведь в каждом регионе разные популярные платформы, либо популярны игры с разным возрастным рейтингом"
   ]
  },
  {
   "cell_type": "markdown",
   "metadata": {},
   "source": [
    "Формулирование и проверка гипотез\n",
    "1. Нулевая гипотеза: Средние пользовательские рейтинги платформ Xbox One и PC одинаковые\n",
    "2. Альтернативная гипотеза: Средние пользовательские рейтинги платформ Xbox One и PC разные"
   ]
  },
  {
   "cell_type": "code",
   "execution_count": 62,
   "metadata": {},
   "outputs": [
    {
     "data": {
      "text/html": [
       "<div>\n",
       "<style scoped>\n",
       "    .dataframe tbody tr th:only-of-type {\n",
       "        vertical-align: middle;\n",
       "    }\n",
       "\n",
       "    .dataframe tbody tr th {\n",
       "        vertical-align: top;\n",
       "    }\n",
       "\n",
       "    .dataframe thead th {\n",
       "        text-align: right;\n",
       "    }\n",
       "</style>\n",
       "<table border=\"1\" class=\"dataframe\">\n",
       "  <thead>\n",
       "    <tr style=\"text-align: right;\">\n",
       "      <th></th>\n",
       "      <th>name</th>\n",
       "      <th>platform</th>\n",
       "      <th>year_of_release</th>\n",
       "      <th>genre</th>\n",
       "      <th>na_sales</th>\n",
       "      <th>eu_sales</th>\n",
       "      <th>jp_sales</th>\n",
       "      <th>other_sales</th>\n",
       "      <th>critic_score</th>\n",
       "      <th>user_score</th>\n",
       "      <th>rating</th>\n",
       "      <th>sum_sales</th>\n",
       "    </tr>\n",
       "  </thead>\n",
       "  <tbody>\n",
       "    <tr>\n",
       "      <td>0</td>\n",
       "      <td>Grand Theft Auto V</td>\n",
       "      <td>PS3</td>\n",
       "      <td>2013</td>\n",
       "      <td>Action</td>\n",
       "      <td>7.02</td>\n",
       "      <td>9.09</td>\n",
       "      <td>0.98</td>\n",
       "      <td>3.96</td>\n",
       "      <td>97.0</td>\n",
       "      <td>8.2</td>\n",
       "      <td>M</td>\n",
       "      <td>21.05</td>\n",
       "    </tr>\n",
       "    <tr>\n",
       "      <td>1</td>\n",
       "      <td>Grand Theft Auto V</td>\n",
       "      <td>X360</td>\n",
       "      <td>2013</td>\n",
       "      <td>Action</td>\n",
       "      <td>9.66</td>\n",
       "      <td>5.14</td>\n",
       "      <td>0.06</td>\n",
       "      <td>1.41</td>\n",
       "      <td>97.0</td>\n",
       "      <td>8.1</td>\n",
       "      <td>M</td>\n",
       "      <td>16.27</td>\n",
       "    </tr>\n",
       "    <tr>\n",
       "      <td>2</td>\n",
       "      <td>Call of Duty: Modern Warfare 3</td>\n",
       "      <td>X360</td>\n",
       "      <td>2011</td>\n",
       "      <td>Shooter</td>\n",
       "      <td>9.04</td>\n",
       "      <td>4.24</td>\n",
       "      <td>0.13</td>\n",
       "      <td>1.32</td>\n",
       "      <td>88.0</td>\n",
       "      <td>3.4</td>\n",
       "      <td>M</td>\n",
       "      <td>14.73</td>\n",
       "    </tr>\n",
       "    <tr>\n",
       "      <td>3</td>\n",
       "      <td>Call of Duty: Black Ops 3</td>\n",
       "      <td>PS4</td>\n",
       "      <td>2015</td>\n",
       "      <td>Shooter</td>\n",
       "      <td>6.03</td>\n",
       "      <td>5.86</td>\n",
       "      <td>0.36</td>\n",
       "      <td>2.38</td>\n",
       "      <td>NaN</td>\n",
       "      <td>NaN</td>\n",
       "      <td>nan</td>\n",
       "      <td>14.63</td>\n",
       "    </tr>\n",
       "    <tr>\n",
       "      <td>4</td>\n",
       "      <td>Pokemon X/Pokemon Y</td>\n",
       "      <td>3DS</td>\n",
       "      <td>2013</td>\n",
       "      <td>Role-Playing</td>\n",
       "      <td>5.28</td>\n",
       "      <td>4.19</td>\n",
       "      <td>4.35</td>\n",
       "      <td>0.78</td>\n",
       "      <td>NaN</td>\n",
       "      <td>NaN</td>\n",
       "      <td>nan</td>\n",
       "      <td>14.60</td>\n",
       "    </tr>\n",
       "    <tr>\n",
       "      <td>...</td>\n",
       "      <td>...</td>\n",
       "      <td>...</td>\n",
       "      <td>...</td>\n",
       "      <td>...</td>\n",
       "      <td>...</td>\n",
       "      <td>...</td>\n",
       "      <td>...</td>\n",
       "      <td>...</td>\n",
       "      <td>...</td>\n",
       "      <td>...</td>\n",
       "      <td>...</td>\n",
       "      <td>...</td>\n",
       "    </tr>\n",
       "    <tr>\n",
       "      <td>3668</td>\n",
       "      <td>Strawberry Nauts</td>\n",
       "      <td>PSV</td>\n",
       "      <td>2016</td>\n",
       "      <td>Adventure</td>\n",
       "      <td>0.00</td>\n",
       "      <td>0.00</td>\n",
       "      <td>0.01</td>\n",
       "      <td>0.00</td>\n",
       "      <td>NaN</td>\n",
       "      <td>NaN</td>\n",
       "      <td>nan</td>\n",
       "      <td>0.01</td>\n",
       "    </tr>\n",
       "    <tr>\n",
       "      <td>3669</td>\n",
       "      <td>Aiyoku no Eustia</td>\n",
       "      <td>PSV</td>\n",
       "      <td>2014</td>\n",
       "      <td>Misc</td>\n",
       "      <td>0.00</td>\n",
       "      <td>0.00</td>\n",
       "      <td>0.01</td>\n",
       "      <td>0.00</td>\n",
       "      <td>NaN</td>\n",
       "      <td>NaN</td>\n",
       "      <td>nan</td>\n",
       "      <td>0.01</td>\n",
       "    </tr>\n",
       "    <tr>\n",
       "      <td>3670</td>\n",
       "      <td>Samurai Warriors: Sanada Maru</td>\n",
       "      <td>PS3</td>\n",
       "      <td>2016</td>\n",
       "      <td>Action</td>\n",
       "      <td>0.00</td>\n",
       "      <td>0.00</td>\n",
       "      <td>0.01</td>\n",
       "      <td>0.00</td>\n",
       "      <td>NaN</td>\n",
       "      <td>NaN</td>\n",
       "      <td>nan</td>\n",
       "      <td>0.01</td>\n",
       "    </tr>\n",
       "    <tr>\n",
       "      <td>3671</td>\n",
       "      <td>Haitaka no Psychedelica</td>\n",
       "      <td>PSV</td>\n",
       "      <td>2016</td>\n",
       "      <td>Adventure</td>\n",
       "      <td>0.00</td>\n",
       "      <td>0.00</td>\n",
       "      <td>0.01</td>\n",
       "      <td>0.00</td>\n",
       "      <td>NaN</td>\n",
       "      <td>NaN</td>\n",
       "      <td>nan</td>\n",
       "      <td>0.01</td>\n",
       "    </tr>\n",
       "    <tr>\n",
       "      <td>3672</td>\n",
       "      <td>Winning Post 8 2016</td>\n",
       "      <td>PSV</td>\n",
       "      <td>2016</td>\n",
       "      <td>Simulation</td>\n",
       "      <td>0.00</td>\n",
       "      <td>0.00</td>\n",
       "      <td>0.01</td>\n",
       "      <td>0.00</td>\n",
       "      <td>NaN</td>\n",
       "      <td>NaN</td>\n",
       "      <td>nan</td>\n",
       "      <td>0.01</td>\n",
       "    </tr>\n",
       "  </tbody>\n",
       "</table>\n",
       "<p>3673 rows × 12 columns</p>\n",
       "</div>"
      ],
      "text/plain": [
       "                                name platform  year_of_release         genre  \\\n",
       "0                 Grand Theft Auto V      PS3             2013        Action   \n",
       "1                 Grand Theft Auto V     X360             2013        Action   \n",
       "2     Call of Duty: Modern Warfare 3     X360             2011       Shooter   \n",
       "3          Call of Duty: Black Ops 3      PS4             2015       Shooter   \n",
       "4                Pokemon X/Pokemon Y      3DS             2013  Role-Playing   \n",
       "...                              ...      ...              ...           ...   \n",
       "3668                Strawberry Nauts      PSV             2016     Adventure   \n",
       "3669                Aiyoku no Eustia      PSV             2014          Misc   \n",
       "3670   Samurai Warriors: Sanada Maru      PS3             2016        Action   \n",
       "3671         Haitaka no Psychedelica      PSV             2016     Adventure   \n",
       "3672             Winning Post 8 2016      PSV             2016    Simulation   \n",
       "\n",
       "      na_sales  eu_sales  jp_sales  other_sales  critic_score  user_score  \\\n",
       "0         7.02      9.09      0.98         3.96          97.0         8.2   \n",
       "1         9.66      5.14      0.06         1.41          97.0         8.1   \n",
       "2         9.04      4.24      0.13         1.32          88.0         3.4   \n",
       "3         6.03      5.86      0.36         2.38           NaN         NaN   \n",
       "4         5.28      4.19      4.35         0.78           NaN         NaN   \n",
       "...        ...       ...       ...          ...           ...         ...   \n",
       "3668      0.00      0.00      0.01         0.00           NaN         NaN   \n",
       "3669      0.00      0.00      0.01         0.00           NaN         NaN   \n",
       "3670      0.00      0.00      0.01         0.00           NaN         NaN   \n",
       "3671      0.00      0.00      0.01         0.00           NaN         NaN   \n",
       "3672      0.00      0.00      0.01         0.00           NaN         NaN   \n",
       "\n",
       "     rating  sum_sales  \n",
       "0         M      21.05  \n",
       "1         M      16.27  \n",
       "2         M      14.73  \n",
       "3       nan      14.63  \n",
       "4       nan      14.60  \n",
       "...     ...        ...  \n",
       "3668    nan       0.01  \n",
       "3669    nan       0.01  \n",
       "3670    nan       0.01  \n",
       "3671    nan       0.01  \n",
       "3672    nan       0.01  \n",
       "\n",
       "[3673 rows x 12 columns]"
      ]
     },
     "execution_count": 62,
     "metadata": {},
     "output_type": "execute_result"
    }
   ],
   "source": [
    "data"
   ]
  },
  {
   "cell_type": "code",
   "execution_count": 63,
   "metadata": {},
   "outputs": [
    {
     "name": "stdout",
     "output_type": "stream",
     "text": [
      "p-значение: 0.6267602271422398\n",
      "Не получилось отвергнуть нулевую гипотезу\n"
     ]
    }
   ],
   "source": [
    "xOne_user_rating = data.query('not user_score.isna()').loc[data['platform'] == \"XOne\", 'user_score']\n",
    "pc_user_rating = data.query(' not user_score.isna()').loc[data['platform'] == \"PC\", 'user_score']\n",
    "alpha = 0.05\n",
    "results = st.ttest_ind(xOne_user_rating, pc_user_rating)\n",
    "\n",
    "print('p-значение:', results.pvalue)\n",
    "\n",
    "if results.pvalue < alpha:\n",
    "    print('Отвергаем нулевую гипотезу')\n",
    "else:\n",
    "    print('Не получилось отвергнуть нулевую гипотезу')"
   ]
  },
  {
   "cell_type": "markdown",
   "metadata": {},
   "source": [
    "Нулевая гипотеза не может быть отвергнута"
   ]
  },
  {
   "cell_type": "markdown",
   "metadata": {},
   "source": [
    "Формулирование и проверка гипотез\n",
    "1. Нулевая гипотеза: Средние пользовательские рейтинги жанров Action (англ. «действие», экшен-игры) и Sports (англ. «спортивные соревнования») одинаковые.\n",
    "2. Альтернативная гипотеза: Средние пользовательские рейтинги жанров Action (англ. «действие», экшен-игры) и Sports (англ. «спортивные соревнования») разные."
   ]
  },
  {
   "cell_type": "code",
   "execution_count": 64,
   "metadata": {},
   "outputs": [
    {
     "name": "stdout",
     "output_type": "stream",
     "text": [
      "p-значение: 5.1974550252152054e-24\n",
      "Отвергаем нулевую гипотезу\n"
     ]
    }
   ],
   "source": [
    "action = data.query('not user_score.isna()').loc[data['genre'] == 'Action', 'user_score']\n",
    "sports = data.query('not user_score.isna()').loc[data['genre'] == 'Sports', 'user_score']\n",
    "alpha = 0.05\n",
    "results = st.ttest_ind(action, sports)\n",
    "\n",
    "print('p-значение:', results.pvalue)\n",
    "\n",
    "if results.pvalue < alpha:\n",
    "    print('Отвергаем нулевую гипотезу')\n",
    "else:\n",
    "    print('Не получилось отвергнуть нулевую гипотезу')"
   ]
  },
  {
   "cell_type": "markdown",
   "metadata": {},
   "source": [
    "Нулевая гипотеза отвергается"
   ]
  },
  {
   "cell_type": "markdown",
   "metadata": {},
   "source": [
    "Общий вывод:\n",
    "По данным за 2011-2016 год определены потенциально популярные продукты для разных регионов. Определены потенциально популярные платформы и жанры.Проверена зависимость объема продаж от отзывов пользователей."
   ]
  },
  {
   "cell_type": "markdown",
   "metadata": {},
   "source": [
    "Полученные результаты по регионам:\n",
    "1. Северная Америка:\n",
    " 1. Рейтинг платформ\n",
    "      1. xbox360 На нее продано 223 миллиона копий разных игр\n",
    "      2. ps3 На нее продано 166 миллионов копий разных игр\n",
    "      3. ps4 На нее продано 166 миллионов копий разных игр\n",
    " 2. Рейтинг жанров\n",
    "      1. action - продано 225 миллионов копий разных игр\n",
    "      2. shooter - продано 193 миллионов копий разных игр\n",
    "      3. Sports - продано 104 миллионов копий разных игр\n",
    " 3. Пользователи предпочитают возрастной рейтинг M\n",
    "2. Европа\n",
    "  1. Рейтинг платформ\n",
    "      1. ps3 На нее продано 162 миллиона копий разных игр\n",
    "      2. ps4 На нее продано 141 миллионов копий разных игр\n",
    "      3. xbox360 На нее продано 116 миллионов копий разных игр\n",
    " 2. Рейтинг жанров\n",
    "      1. action - продано 195 миллионов копий разных игр\n",
    "      2. shooter - продано 148 миллионов копий разных игр\n",
    "      3. Sports - продано 87 миллионов копий разных игр\n",
    " 3. Пользователи предпочитают возрастной рейтинг M\n",
    "3. Япония\n",
    " 1. Рейтинг платформ\n",
    "      1. 3ds На нее продано 100 миллиона копий разных игр\n",
    "      2. ps3 На нее продано 49 миллионов копий разных игр\n",
    "      3. psp На нее продано 24 миллионов копий разных игр\n",
    " 2. Рейтинг жанров\n",
    "      1. role_playing - продано 80 миллионов копий разных игр\n",
    "      2. action - продано 63 миллионов копий разных игр\n",
    "      3. misc - продано 18 миллионов копий разных игр\n",
    " 3. Пользователи предпочитают игры, на которые еще не установлен возрастной рейнтинг, либо с рейтингом Е или Т"
   ]
  },
  {
   "cell_type": "markdown",
   "metadata": {},
   "source": [
    "Кроме того, была опровергнута гипотеза о равенстве средних пользовательских рейтингов жанров action и sport"
   ]
  }
 ],
 "metadata": {
  "ExecuteTimeLog": [
   {
    "duration": 672,
    "start_time": "2021-10-17T16:45:05.264Z"
   },
   {
    "duration": 54,
    "start_time": "2021-10-17T16:45:05.938Z"
   },
   {
    "duration": 18,
    "start_time": "2021-10-17T16:45:05.996Z"
   },
   {
    "duration": 11,
    "start_time": "2021-10-17T16:45:06.015Z"
   },
   {
    "duration": 14,
    "start_time": "2021-10-17T16:45:06.027Z"
   },
   {
    "duration": 272,
    "start_time": "2021-10-17T16:45:06.042Z"
   },
   {
    "duration": 8,
    "start_time": "2021-10-17T16:45:06.317Z"
   },
   {
    "duration": 10,
    "start_time": "2021-10-17T16:45:06.327Z"
   },
   {
    "duration": 56,
    "start_time": "2021-10-17T16:45:06.338Z"
   },
   {
    "duration": 5,
    "start_time": "2021-10-17T16:45:06.396Z"
   },
   {
    "duration": 22,
    "start_time": "2021-10-17T16:45:06.403Z"
   },
   {
    "duration": 17,
    "start_time": "2021-10-17T16:45:06.427Z"
   },
   {
    "duration": 15,
    "start_time": "2021-10-17T16:45:06.445Z"
   },
   {
    "duration": 49,
    "start_time": "2021-10-17T16:45:06.461Z"
   },
   {
    "duration": 9,
    "start_time": "2021-10-17T16:45:06.512Z"
   },
   {
    "duration": 9,
    "start_time": "2021-10-17T16:45:06.523Z"
   },
   {
    "duration": 8,
    "start_time": "2021-10-17T16:45:06.534Z"
   },
   {
    "duration": 51,
    "start_time": "2021-10-17T16:45:06.544Z"
   },
   {
    "duration": 14,
    "start_time": "2021-10-17T16:45:06.597Z"
   },
   {
    "duration": 1128,
    "start_time": "2021-10-17T16:45:06.612Z"
   },
   {
    "duration": 21,
    "start_time": "2021-10-17T16:45:07.741Z"
   },
   {
    "duration": 28,
    "start_time": "2021-10-17T16:45:07.764Z"
   },
   {
    "duration": 2140,
    "start_time": "2021-10-17T16:45:07.794Z"
   },
   {
    "duration": 239,
    "start_time": "2021-10-17T16:49:40.201Z"
   },
   {
    "duration": 169,
    "start_time": "2021-10-17T16:49:53.259Z"
   },
   {
    "duration": 563,
    "start_time": "2021-10-17T16:50:20.734Z"
   },
   {
    "duration": 52,
    "start_time": "2021-10-17T16:50:21.299Z"
   },
   {
    "duration": 17,
    "start_time": "2021-10-17T16:50:21.353Z"
   },
   {
    "duration": 21,
    "start_time": "2021-10-17T16:50:21.371Z"
   },
   {
    "duration": 13,
    "start_time": "2021-10-17T16:50:21.394Z"
   },
   {
    "duration": 231,
    "start_time": "2021-10-17T16:50:21.408Z"
   },
   {
    "duration": 9,
    "start_time": "2021-10-17T16:50:21.641Z"
   },
   {
    "duration": 13,
    "start_time": "2021-10-17T16:50:21.652Z"
   },
   {
    "duration": 39,
    "start_time": "2021-10-17T16:50:21.667Z"
   },
   {
    "duration": 5,
    "start_time": "2021-10-17T16:50:21.707Z"
   },
   {
    "duration": 25,
    "start_time": "2021-10-17T16:50:21.714Z"
   },
   {
    "duration": 17,
    "start_time": "2021-10-17T16:50:21.740Z"
   },
   {
    "duration": 39,
    "start_time": "2021-10-17T16:50:21.758Z"
   },
   {
    "duration": 20,
    "start_time": "2021-10-17T16:50:21.799Z"
   },
   {
    "duration": 10,
    "start_time": "2021-10-17T16:50:21.821Z"
   },
   {
    "duration": 9,
    "start_time": "2021-10-17T16:50:21.832Z"
   },
   {
    "duration": 8,
    "start_time": "2021-10-17T16:50:21.843Z"
   },
   {
    "duration": 53,
    "start_time": "2021-10-17T16:50:21.852Z"
   },
   {
    "duration": 14,
    "start_time": "2021-10-17T16:50:21.907Z"
   },
   {
    "duration": 1131,
    "start_time": "2021-10-17T16:50:21.922Z"
   },
   {
    "duration": 20,
    "start_time": "2021-10-17T16:50:23.054Z"
   },
   {
    "duration": 27,
    "start_time": "2021-10-17T16:50:23.076Z"
   },
   {
    "duration": 2202,
    "start_time": "2021-10-17T16:50:23.106Z"
   },
   {
    "duration": 236,
    "start_time": "2021-10-17T16:50:25.310Z"
   },
   {
    "duration": 1838,
    "start_time": "2021-10-17T16:51:35.353Z"
   },
   {
    "duration": 169,
    "start_time": "2021-10-17T16:52:09.540Z"
   },
   {
    "duration": 163,
    "start_time": "2021-10-17T16:52:35.504Z"
   },
   {
    "duration": 168,
    "start_time": "2021-10-17T16:54:25.496Z"
   },
   {
    "duration": 364,
    "start_time": "2021-10-17T16:54:32.912Z"
   },
   {
    "duration": 358,
    "start_time": "2021-10-17T16:54:59.065Z"
   },
   {
    "duration": 1650,
    "start_time": "2021-10-17T16:55:20.231Z"
   },
   {
    "duration": 1633,
    "start_time": "2021-10-17T16:55:44.152Z"
   },
   {
    "duration": 425,
    "start_time": "2021-10-17T16:55:53.276Z"
   },
   {
    "duration": 326,
    "start_time": "2021-10-17T16:56:14.004Z"
   },
   {
    "duration": 1631,
    "start_time": "2021-10-17T16:56:26.887Z"
   },
   {
    "duration": 1673,
    "start_time": "2021-10-17T16:59:24.804Z"
   },
   {
    "duration": 22,
    "start_time": "2021-10-17T17:07:47.957Z"
   },
   {
    "duration": 278,
    "start_time": "2021-10-17T17:09:14.633Z"
   },
   {
    "duration": 274,
    "start_time": "2021-10-17T17:09:47.271Z"
   },
   {
    "duration": 6,
    "start_time": "2021-10-17T17:10:30.432Z"
   },
   {
    "duration": 7,
    "start_time": "2021-10-17T17:10:41.289Z"
   },
   {
    "duration": 5,
    "start_time": "2021-10-17T17:12:45.321Z"
   },
   {
    "duration": 13,
    "start_time": "2021-10-17T17:14:33.329Z"
   },
   {
    "duration": 327,
    "start_time": "2021-10-17T17:14:44.184Z"
   },
   {
    "duration": 12,
    "start_time": "2021-10-17T17:14:58.385Z"
   },
   {
    "duration": 277,
    "start_time": "2021-10-17T17:15:52.401Z"
   },
   {
    "duration": 12,
    "start_time": "2021-10-17T17:19:51.827Z"
   },
   {
    "duration": 285,
    "start_time": "2021-10-17T17:20:13.125Z"
   },
   {
    "duration": 300,
    "start_time": "2021-10-17T17:20:32.484Z"
   },
   {
    "duration": 9,
    "start_time": "2021-10-17T17:20:48.101Z"
   },
   {
    "duration": 14,
    "start_time": "2021-10-17T17:23:07.896Z"
   },
   {
    "duration": 315,
    "start_time": "2021-10-17T17:23:29.581Z"
   },
   {
    "duration": 358,
    "start_time": "2021-10-17T17:23:46.333Z"
   },
   {
    "duration": 294,
    "start_time": "2021-10-17T17:24:36.399Z"
   },
   {
    "duration": 263,
    "start_time": "2021-10-17T17:25:06.753Z"
   },
   {
    "duration": 270,
    "start_time": "2021-10-17T17:25:42.849Z"
   },
   {
    "duration": 319,
    "start_time": "2021-10-17T17:26:11.183Z"
   },
   {
    "duration": 321,
    "start_time": "2021-10-17T17:26:39.577Z"
   },
   {
    "duration": 294,
    "start_time": "2021-10-17T17:27:24.613Z"
   },
   {
    "duration": 8,
    "start_time": "2021-10-17T17:27:35.401Z"
   },
   {
    "duration": 5060,
    "start_time": "2021-10-17T17:31:27.654Z"
   },
   {
    "duration": 12,
    "start_time": "2021-10-17T17:31:43.062Z"
   },
   {
    "duration": 270,
    "start_time": "2021-10-17T17:32:28.245Z"
   },
   {
    "duration": 309,
    "start_time": "2021-10-17T17:32:32.484Z"
   },
   {
    "duration": 8,
    "start_time": "2021-10-17T17:32:43.407Z"
   },
   {
    "duration": 573,
    "start_time": "2021-10-17T17:38:34.654Z"
   },
   {
    "duration": 54,
    "start_time": "2021-10-17T17:38:35.229Z"
   },
   {
    "duration": 20,
    "start_time": "2021-10-17T17:38:35.285Z"
   },
   {
    "duration": 10,
    "start_time": "2021-10-17T17:38:35.307Z"
   },
   {
    "duration": 14,
    "start_time": "2021-10-17T17:38:35.318Z"
   },
   {
    "duration": 245,
    "start_time": "2021-10-17T17:38:35.334Z"
   },
   {
    "duration": 13,
    "start_time": "2021-10-17T17:38:35.581Z"
   },
   {
    "duration": 9,
    "start_time": "2021-10-17T17:38:35.596Z"
   },
   {
    "duration": 21,
    "start_time": "2021-10-17T17:38:35.607Z"
   },
   {
    "duration": 5,
    "start_time": "2021-10-17T17:38:35.629Z"
   },
   {
    "duration": 23,
    "start_time": "2021-10-17T17:38:35.635Z"
   },
   {
    "duration": 45,
    "start_time": "2021-10-17T17:38:35.659Z"
   },
   {
    "duration": 14,
    "start_time": "2021-10-17T17:38:35.705Z"
   },
   {
    "duration": 19,
    "start_time": "2021-10-17T17:38:35.721Z"
   },
   {
    "duration": 10,
    "start_time": "2021-10-17T17:38:35.741Z"
   },
   {
    "duration": 10,
    "start_time": "2021-10-17T17:38:35.752Z"
   },
   {
    "duration": 8,
    "start_time": "2021-10-17T17:38:35.792Z"
   },
   {
    "duration": 23,
    "start_time": "2021-10-17T17:38:35.802Z"
   },
   {
    "duration": 14,
    "start_time": "2021-10-17T17:38:35.827Z"
   },
   {
    "duration": 1125,
    "start_time": "2021-10-17T17:38:35.842Z"
   },
   {
    "duration": 28,
    "start_time": "2021-10-17T17:38:36.968Z"
   },
   {
    "duration": 14,
    "start_time": "2021-10-17T17:38:36.998Z"
   },
   {
    "duration": 2131,
    "start_time": "2021-10-17T17:38:37.015Z"
   },
   {
    "duration": 1614,
    "start_time": "2021-10-17T17:38:39.148Z"
   },
   {
    "duration": 12,
    "start_time": "2021-10-17T17:38:40.764Z"
   },
   {
    "duration": 302,
    "start_time": "2021-10-17T17:38:40.778Z"
   },
   {
    "duration": 337,
    "start_time": "2021-10-17T17:38:41.082Z"
   },
   {
    "duration": 8,
    "start_time": "2021-10-17T17:38:41.421Z"
   },
   {
    "duration": 13,
    "start_time": "2021-10-17T17:38:41.431Z"
   },
   {
    "duration": 274,
    "start_time": "2021-10-17T17:38:41.446Z"
   },
   {
    "duration": 284,
    "start_time": "2021-10-17T17:38:41.722Z"
   },
   {
    "duration": 8,
    "start_time": "2021-10-17T17:38:42.007Z"
   },
   {
    "duration": 13,
    "start_time": "2021-10-17T17:38:42.016Z"
   },
   {
    "duration": 292,
    "start_time": "2021-10-17T17:38:42.030Z"
   },
   {
    "duration": 285,
    "start_time": "2021-10-17T17:38:42.324Z"
   },
   {
    "duration": 8,
    "start_time": "2021-10-17T17:38:42.610Z"
   },
   {
    "duration": 13,
    "start_time": "2021-10-17T17:38:42.619Z"
   },
   {
    "duration": 279,
    "start_time": "2021-10-17T17:38:42.634Z"
   },
   {
    "duration": 301,
    "start_time": "2021-10-17T17:38:42.915Z"
   },
   {
    "duration": 9,
    "start_time": "2021-10-17T17:38:43.217Z"
   },
   {
    "duration": 10,
    "start_time": "2021-10-17T17:39:28.247Z"
   },
   {
    "duration": 10,
    "start_time": "2021-10-17T17:40:32.384Z"
   },
   {
    "duration": 232,
    "start_time": "2021-10-17T17:41:50.636Z"
   },
   {
    "duration": 10,
    "start_time": "2021-10-17T17:42:06.411Z"
   },
   {
    "duration": 10,
    "start_time": "2021-10-17T17:42:20.821Z"
   },
   {
    "duration": 20,
    "start_time": "2021-10-17T17:47:35.470Z"
   },
   {
    "duration": 13,
    "start_time": "2021-10-17T17:48:41.157Z"
   },
   {
    "duration": 4,
    "start_time": "2021-10-17T17:50:36.212Z"
   },
   {
    "duration": 15,
    "start_time": "2021-10-17T17:50:48.128Z"
   },
   {
    "duration": 9,
    "start_time": "2021-10-17T17:52:06.882Z"
   },
   {
    "duration": 12,
    "start_time": "2021-10-17T17:52:19.908Z"
   },
   {
    "duration": 11,
    "start_time": "2021-10-17T17:53:00.731Z"
   },
   {
    "duration": 11,
    "start_time": "2021-10-17T17:53:24.020Z"
   },
   {
    "duration": 10,
    "start_time": "2021-10-17T17:54:06.156Z"
   },
   {
    "duration": 10,
    "start_time": "2021-10-17T17:54:15.196Z"
   },
   {
    "duration": 172,
    "start_time": "2021-10-17T17:55:41.212Z"
   },
   {
    "duration": 326,
    "start_time": "2021-10-17T17:57:03.076Z"
   },
   {
    "duration": 7,
    "start_time": "2021-10-17T17:57:17.320Z"
   },
   {
    "duration": 7,
    "start_time": "2021-10-17T17:59:06.884Z"
   },
   {
    "duration": 6,
    "start_time": "2021-10-17T17:59:47.620Z"
   },
   {
    "duration": 762,
    "start_time": "2021-10-17T18:00:19.241Z"
   },
   {
    "duration": 6,
    "start_time": "2021-10-17T18:00:52.105Z"
   },
   {
    "duration": 712,
    "start_time": "2021-10-17T18:00:54.442Z"
   },
   {
    "duration": 465,
    "start_time": "2021-10-17T18:01:07.355Z"
   },
   {
    "duration": 4346,
    "start_time": "2021-10-17T18:02:01.661Z"
   },
   {
    "duration": 20567,
    "start_time": "2021-10-17T18:02:20.728Z"
   },
   {
    "duration": 179,
    "start_time": "2021-10-17T18:04:57.058Z"
   },
   {
    "duration": 55,
    "start_time": "2021-10-17T18:05:08.390Z"
   },
   {
    "duration": 168,
    "start_time": "2021-10-17T18:05:14.265Z"
   },
   {
    "duration": 5,
    "start_time": "2021-10-17T18:07:22.871Z"
   },
   {
    "duration": 1147,
    "start_time": "2021-10-17T18:08:50.099Z"
   },
   {
    "duration": 23570,
    "start_time": "2021-10-17T18:09:01.445Z"
   },
   {
    "duration": 13,
    "start_time": "2021-10-17T18:10:47.753Z"
   },
   {
    "duration": 164,
    "start_time": "2021-10-17T18:11:11.064Z"
   },
   {
    "duration": 12,
    "start_time": "2021-10-17T18:14:43.655Z"
   },
   {
    "duration": 10,
    "start_time": "2021-10-17T18:15:54.012Z"
   },
   {
    "duration": 10,
    "start_time": "2021-10-17T18:17:02.296Z"
   },
   {
    "duration": 182,
    "start_time": "2021-10-17T18:18:25.281Z"
   },
   {
    "duration": 12,
    "start_time": "2021-10-17T18:23:42.757Z"
   },
   {
    "duration": 10,
    "start_time": "2021-10-17T18:24:33.635Z"
   },
   {
    "duration": 10,
    "start_time": "2021-10-17T18:25:26.492Z"
   },
   {
    "duration": 159,
    "start_time": "2021-10-17T18:25:50.428Z"
   },
   {
    "duration": 1055,
    "start_time": "2021-10-17T18:32:01.910Z"
   },
   {
    "duration": 54,
    "start_time": "2021-10-17T18:32:02.967Z"
   },
   {
    "duration": 18,
    "start_time": "2021-10-17T18:32:03.022Z"
   },
   {
    "duration": 10,
    "start_time": "2021-10-17T18:32:03.042Z"
   },
   {
    "duration": 14,
    "start_time": "2021-10-17T18:32:03.054Z"
   },
   {
    "duration": 232,
    "start_time": "2021-10-17T18:32:03.091Z"
   },
   {
    "duration": 8,
    "start_time": "2021-10-17T18:32:03.324Z"
   },
   {
    "duration": 11,
    "start_time": "2021-10-17T18:32:03.334Z"
   },
   {
    "duration": 43,
    "start_time": "2021-10-17T18:32:03.348Z"
   },
   {
    "duration": 6,
    "start_time": "2021-10-17T18:32:03.394Z"
   },
   {
    "duration": 22,
    "start_time": "2021-10-17T18:32:03.402Z"
   },
   {
    "duration": 17,
    "start_time": "2021-10-17T18:32:03.426Z"
   },
   {
    "duration": 47,
    "start_time": "2021-10-17T18:32:03.445Z"
   },
   {
    "duration": 22,
    "start_time": "2021-10-17T18:32:03.495Z"
   },
   {
    "duration": 11,
    "start_time": "2021-10-17T18:32:03.519Z"
   },
   {
    "duration": 11,
    "start_time": "2021-10-17T18:32:03.532Z"
   },
   {
    "duration": 9,
    "start_time": "2021-10-17T18:32:03.545Z"
   },
   {
    "duration": 57,
    "start_time": "2021-10-17T18:32:03.556Z"
   },
   {
    "duration": 14,
    "start_time": "2021-10-17T18:32:03.615Z"
   },
   {
    "duration": 1098,
    "start_time": "2021-10-17T18:32:03.631Z"
   },
   {
    "duration": 21,
    "start_time": "2021-10-17T18:32:04.731Z"
   },
   {
    "duration": 15,
    "start_time": "2021-10-17T18:32:04.753Z"
   },
   {
    "duration": 2211,
    "start_time": "2021-10-17T18:32:04.769Z"
   },
   {
    "duration": 1617,
    "start_time": "2021-10-17T18:32:06.981Z"
   },
   {
    "duration": 12,
    "start_time": "2021-10-17T18:32:08.600Z"
   },
   {
    "duration": 281,
    "start_time": "2021-10-17T18:32:08.613Z"
   },
   {
    "duration": 284,
    "start_time": "2021-10-17T18:32:08.898Z"
   },
   {
    "duration": 13,
    "start_time": "2021-10-17T18:32:09.184Z"
   },
   {
    "duration": 13,
    "start_time": "2021-10-17T18:32:09.199Z"
   },
   {
    "duration": 304,
    "start_time": "2021-10-17T18:32:09.213Z"
   },
   {
    "duration": 287,
    "start_time": "2021-10-17T18:32:09.518Z"
   },
   {
    "duration": 8,
    "start_time": "2021-10-17T18:32:09.806Z"
   },
   {
    "duration": 13,
    "start_time": "2021-10-17T18:32:09.816Z"
   },
   {
    "duration": 296,
    "start_time": "2021-10-17T18:32:09.830Z"
   },
   {
    "duration": 283,
    "start_time": "2021-10-17T18:32:10.127Z"
   },
   {
    "duration": 8,
    "start_time": "2021-10-17T18:32:10.412Z"
   },
   {
    "duration": 14,
    "start_time": "2021-10-17T18:32:10.421Z"
   },
   {
    "duration": 288,
    "start_time": "2021-10-17T18:32:10.437Z"
   },
   {
    "duration": 287,
    "start_time": "2021-10-17T18:32:10.727Z"
   },
   {
    "duration": 8,
    "start_time": "2021-10-17T18:32:11.015Z"
   },
   {
    "duration": 12,
    "start_time": "2021-10-17T18:32:11.024Z"
   },
   {
    "duration": 11,
    "start_time": "2021-10-17T18:32:11.037Z"
   },
   {
    "duration": 43,
    "start_time": "2021-10-17T18:32:11.050Z"
   },
   {
    "duration": 14,
    "start_time": "2021-10-17T18:32:11.096Z"
   },
   {
    "duration": 100,
    "start_time": "2021-10-17T18:32:11.112Z"
   },
   {
    "duration": 10,
    "start_time": "2021-10-17T18:32:11.214Z"
   },
   {
    "duration": 184,
    "start_time": "2021-10-17T18:32:11.226Z"
   },
   {
    "duration": 13,
    "start_time": "2021-10-17T18:32:11.412Z"
   },
   {
    "duration": 11,
    "start_time": "2021-10-17T18:32:11.427Z"
   },
   {
    "duration": 10,
    "start_time": "2021-10-17T18:32:11.440Z"
   },
   {
    "duration": 186,
    "start_time": "2021-10-17T18:32:11.451Z"
   },
   {
    "duration": 13,
    "start_time": "2021-10-17T18:32:11.639Z"
   },
   {
    "duration": 10,
    "start_time": "2021-10-17T18:32:11.654Z"
   },
   {
    "duration": 32,
    "start_time": "2021-10-17T18:32:11.666Z"
   },
   {
    "duration": 179,
    "start_time": "2021-10-17T18:32:11.700Z"
   },
   {
    "duration": 4813,
    "start_time": "2021-10-17T18:34:18.720Z"
   },
   {
    "duration": 20,
    "start_time": "2021-10-17T18:34:37.745Z"
   },
   {
    "duration": 4,
    "start_time": "2021-10-17T18:34:51.447Z"
   },
   {
    "duration": 8,
    "start_time": "2021-10-17T18:35:49.764Z"
   },
   {
    "duration": 7,
    "start_time": "2021-10-17T18:35:56.634Z"
   },
   {
    "duration": 172,
    "start_time": "2021-10-17T18:36:41.667Z"
   },
   {
    "duration": 7,
    "start_time": "2021-10-17T18:37:12.725Z"
   },
   {
    "duration": 4803,
    "start_time": "2021-10-17T18:41:14.733Z"
   },
   {
    "duration": 8,
    "start_time": "2021-10-17T18:41:41.666Z"
   },
   {
    "duration": 2583,
    "start_time": "2021-10-17T19:14:14.872Z"
   },
   {
    "duration": 907,
    "start_time": "2021-10-17T19:14:17.456Z"
   },
   {
    "duration": 20,
    "start_time": "2021-10-17T19:14:18.365Z"
   },
   {
    "duration": 10,
    "start_time": "2021-10-17T19:14:18.387Z"
   },
   {
    "duration": 14,
    "start_time": "2021-10-17T19:14:18.399Z"
   },
   {
    "duration": 246,
    "start_time": "2021-10-17T19:14:18.414Z"
   },
   {
    "duration": 7,
    "start_time": "2021-10-17T19:14:18.662Z"
   },
   {
    "duration": 19,
    "start_time": "2021-10-17T19:14:18.672Z"
   },
   {
    "duration": 24,
    "start_time": "2021-10-17T19:14:18.693Z"
   },
   {
    "duration": 5,
    "start_time": "2021-10-17T19:14:18.719Z"
   },
   {
    "duration": 25,
    "start_time": "2021-10-17T19:14:18.725Z"
   },
   {
    "duration": 43,
    "start_time": "2021-10-17T19:14:18.751Z"
   },
   {
    "duration": 15,
    "start_time": "2021-10-17T19:14:18.796Z"
   },
   {
    "duration": 20,
    "start_time": "2021-10-17T19:14:18.812Z"
   },
   {
    "duration": 10,
    "start_time": "2021-10-17T19:14:18.833Z"
   },
   {
    "duration": 9,
    "start_time": "2021-10-17T19:14:18.844Z"
   },
   {
    "duration": 40,
    "start_time": "2021-10-17T19:14:18.855Z"
   },
   {
    "duration": 24,
    "start_time": "2021-10-17T19:14:18.897Z"
   },
   {
    "duration": 15,
    "start_time": "2021-10-17T19:14:18.923Z"
   },
   {
    "duration": 1154,
    "start_time": "2021-10-17T19:14:18.940Z"
   },
   {
    "duration": 24,
    "start_time": "2021-10-17T19:14:20.096Z"
   },
   {
    "duration": 17,
    "start_time": "2021-10-17T19:14:20.122Z"
   },
   {
    "duration": 2214,
    "start_time": "2021-10-17T19:14:20.144Z"
   },
   {
    "duration": 1669,
    "start_time": "2021-10-17T19:14:22.361Z"
   },
   {
    "duration": 15,
    "start_time": "2021-10-17T19:14:24.032Z"
   },
   {
    "duration": 284,
    "start_time": "2021-10-17T19:14:24.049Z"
   },
   {
    "duration": 265,
    "start_time": "2021-10-17T19:14:24.335Z"
   },
   {
    "duration": 8,
    "start_time": "2021-10-17T19:14:24.601Z"
   },
   {
    "duration": 13,
    "start_time": "2021-10-17T19:14:24.611Z"
   },
   {
    "duration": 302,
    "start_time": "2021-10-17T19:14:24.625Z"
   },
   {
    "duration": 307,
    "start_time": "2021-10-17T19:14:24.929Z"
   },
   {
    "duration": 9,
    "start_time": "2021-10-17T19:14:25.237Z"
   },
   {
    "duration": 13,
    "start_time": "2021-10-17T19:14:25.247Z"
   },
   {
    "duration": 337,
    "start_time": "2021-10-17T19:14:25.262Z"
   },
   {
    "duration": 300,
    "start_time": "2021-10-17T19:14:25.600Z"
   },
   {
    "duration": 8,
    "start_time": "2021-10-17T19:14:25.902Z"
   },
   {
    "duration": 11,
    "start_time": "2021-10-17T19:14:25.912Z"
   },
   {
    "duration": 292,
    "start_time": "2021-10-17T19:14:25.925Z"
   },
   {
    "duration": 298,
    "start_time": "2021-10-17T19:14:26.219Z"
   },
   {
    "duration": 8,
    "start_time": "2021-10-17T19:14:26.518Z"
   },
   {
    "duration": 12,
    "start_time": "2021-10-17T19:14:26.528Z"
   },
   {
    "duration": 10,
    "start_time": "2021-10-17T19:14:26.542Z"
   },
   {
    "duration": 45,
    "start_time": "2021-10-17T19:14:26.554Z"
   },
   {
    "duration": 12,
    "start_time": "2021-10-17T19:14:26.601Z"
   },
   {
    "duration": 89,
    "start_time": "2021-10-17T19:14:26.615Z"
   },
   {
    "duration": 10,
    "start_time": "2021-10-17T19:14:26.706Z"
   },
   {
    "duration": 198,
    "start_time": "2021-10-17T19:14:26.718Z"
   },
   {
    "duration": 15,
    "start_time": "2021-10-17T19:14:26.918Z"
   },
   {
    "duration": 12,
    "start_time": "2021-10-17T19:14:26.935Z"
   },
   {
    "duration": 11,
    "start_time": "2021-10-17T19:14:26.948Z"
   },
   {
    "duration": 201,
    "start_time": "2021-10-17T19:14:26.961Z"
   },
   {
    "duration": 11,
    "start_time": "2021-10-17T19:14:27.164Z"
   },
   {
    "duration": 24,
    "start_time": "2021-10-17T19:14:27.177Z"
   },
   {
    "duration": 11,
    "start_time": "2021-10-17T19:14:27.203Z"
   },
   {
    "duration": 190,
    "start_time": "2021-10-17T19:14:27.216Z"
   },
   {
    "duration": 18,
    "start_time": "2021-10-17T19:14:27.408Z"
   },
   {
    "duration": 8,
    "start_time": "2021-10-17T19:14:27.429Z"
   },
   {
    "duration": 9,
    "start_time": "2021-10-17T19:14:27.439Z"
   },
   {
    "duration": 1363,
    "start_time": "2021-10-18T05:28:11.765Z"
   },
   {
    "duration": 75,
    "start_time": "2021-10-18T05:28:13.131Z"
   },
   {
    "duration": 29,
    "start_time": "2021-10-18T05:28:13.208Z"
   },
   {
    "duration": 34,
    "start_time": "2021-10-18T05:28:13.240Z"
   },
   {
    "duration": 20,
    "start_time": "2021-10-18T05:28:13.276Z"
   },
   {
    "duration": 509,
    "start_time": "2021-10-18T05:28:13.298Z"
   },
   {
    "duration": 11,
    "start_time": "2021-10-18T05:28:13.809Z"
   },
   {
    "duration": 14,
    "start_time": "2021-10-18T05:28:13.824Z"
   },
   {
    "duration": 60,
    "start_time": "2021-10-18T05:28:13.841Z"
   },
   {
    "duration": 6,
    "start_time": "2021-10-18T05:28:13.903Z"
   },
   {
    "duration": 66,
    "start_time": "2021-10-18T05:28:13.912Z"
   },
   {
    "duration": 28,
    "start_time": "2021-10-18T05:28:13.980Z"
   },
   {
    "duration": 23,
    "start_time": "2021-10-18T05:28:14.011Z"
   },
   {
    "duration": 62,
    "start_time": "2021-10-18T05:28:14.036Z"
   },
   {
    "duration": 16,
    "start_time": "2021-10-18T05:28:14.100Z"
   },
   {
    "duration": 15,
    "start_time": "2021-10-18T05:28:14.118Z"
   },
   {
    "duration": 39,
    "start_time": "2021-10-18T05:28:14.135Z"
   },
   {
    "duration": 38,
    "start_time": "2021-10-18T05:28:14.177Z"
   },
   {
    "duration": 53,
    "start_time": "2021-10-18T05:28:14.217Z"
   },
   {
    "duration": 1836,
    "start_time": "2021-10-18T05:28:14.272Z"
   },
   {
    "duration": 33,
    "start_time": "2021-10-18T05:28:16.110Z"
   },
   {
    "duration": 42,
    "start_time": "2021-10-18T05:28:16.146Z"
   },
   {
    "duration": 3907,
    "start_time": "2021-10-18T05:28:16.193Z"
   },
   {
    "duration": 2752,
    "start_time": "2021-10-18T05:28:20.103Z"
   },
   {
    "duration": 26,
    "start_time": "2021-10-18T05:28:22.857Z"
   },
   {
    "duration": 378,
    "start_time": "2021-10-18T05:28:22.885Z"
   },
   {
    "duration": 386,
    "start_time": "2021-10-18T05:28:23.265Z"
   },
   {
    "duration": 20,
    "start_time": "2021-10-18T05:28:23.654Z"
   },
   {
    "duration": 18,
    "start_time": "2021-10-18T05:28:23.676Z"
   },
   {
    "duration": 401,
    "start_time": "2021-10-18T05:28:23.697Z"
   },
   {
    "duration": 401,
    "start_time": "2021-10-18T05:28:24.101Z"
   },
   {
    "duration": 11,
    "start_time": "2021-10-18T05:28:24.504Z"
   },
   {
    "duration": 19,
    "start_time": "2021-10-18T05:28:24.518Z"
   },
   {
    "duration": 448,
    "start_time": "2021-10-18T05:28:24.539Z"
   },
   {
    "duration": 396,
    "start_time": "2021-10-18T05:28:24.990Z"
   },
   {
    "duration": 12,
    "start_time": "2021-10-18T05:28:25.388Z"
   },
   {
    "duration": 19,
    "start_time": "2021-10-18T05:28:25.403Z"
   },
   {
    "duration": 460,
    "start_time": "2021-10-18T05:28:25.424Z"
   },
   {
    "duration": 404,
    "start_time": "2021-10-18T05:28:25.887Z"
   },
   {
    "duration": 14,
    "start_time": "2021-10-18T05:28:26.295Z"
   },
   {
    "duration": 15,
    "start_time": "2021-10-18T05:28:26.312Z"
   },
   {
    "duration": 46,
    "start_time": "2021-10-18T05:28:26.330Z"
   },
   {
    "duration": 32,
    "start_time": "2021-10-18T05:28:26.378Z"
   },
   {
    "duration": 20,
    "start_time": "2021-10-18T05:28:26.412Z"
   },
   {
    "duration": 108,
    "start_time": "2021-10-18T05:28:26.435Z"
   },
   {
    "duration": 30,
    "start_time": "2021-10-18T05:28:26.545Z"
   },
   {
    "duration": 301,
    "start_time": "2021-10-18T05:28:26.577Z"
   },
   {
    "duration": 17,
    "start_time": "2021-10-18T05:28:26.880Z"
   },
   {
    "duration": 14,
    "start_time": "2021-10-18T05:28:26.900Z"
   },
   {
    "duration": 13,
    "start_time": "2021-10-18T05:28:26.917Z"
   },
   {
    "duration": 279,
    "start_time": "2021-10-18T05:28:26.968Z"
   },
   {
    "duration": 26,
    "start_time": "2021-10-18T05:28:27.249Z"
   },
   {
    "duration": 16,
    "start_time": "2021-10-18T05:28:27.277Z"
   },
   {
    "duration": 13,
    "start_time": "2021-10-18T05:28:27.295Z"
   },
   {
    "duration": 299,
    "start_time": "2021-10-18T05:28:27.311Z"
   },
   {
    "duration": 32,
    "start_time": "2021-10-18T05:28:27.612Z"
   },
   {
    "duration": 26,
    "start_time": "2021-10-18T05:28:27.646Z"
   },
   {
    "duration": 18,
    "start_time": "2021-10-18T05:28:27.674Z"
   },
   {
    "duration": 1254,
    "start_time": "2021-10-18T07:06:06.328Z"
   },
   {
    "duration": 70,
    "start_time": "2021-10-18T07:06:07.585Z"
   },
   {
    "duration": 360,
    "start_time": "2021-10-18T07:06:07.658Z"
   },
   {
    "duration": -369,
    "start_time": "2021-10-18T07:06:08.393Z"
   },
   {
    "duration": -377,
    "start_time": "2021-10-18T07:06:08.402Z"
   },
   {
    "duration": -410,
    "start_time": "2021-10-18T07:06:08.437Z"
   },
   {
    "duration": -415,
    "start_time": "2021-10-18T07:06:08.443Z"
   },
   {
    "duration": -418,
    "start_time": "2021-10-18T07:06:08.447Z"
   },
   {
    "duration": -421,
    "start_time": "2021-10-18T07:06:08.452Z"
   },
   {
    "duration": -425,
    "start_time": "2021-10-18T07:06:08.457Z"
   },
   {
    "duration": -427,
    "start_time": "2021-10-18T07:06:08.461Z"
   },
   {
    "duration": -429,
    "start_time": "2021-10-18T07:06:08.464Z"
   },
   {
    "duration": -430,
    "start_time": "2021-10-18T07:06:08.467Z"
   },
   {
    "duration": -432,
    "start_time": "2021-10-18T07:06:08.470Z"
   },
   {
    "duration": -433,
    "start_time": "2021-10-18T07:06:08.472Z"
   },
   {
    "duration": -433,
    "start_time": "2021-10-18T07:06:08.474Z"
   },
   {
    "duration": -434,
    "start_time": "2021-10-18T07:06:08.476Z"
   },
   {
    "duration": -439,
    "start_time": "2021-10-18T07:06:08.482Z"
   },
   {
    "duration": -441,
    "start_time": "2021-10-18T07:06:08.486Z"
   },
   {
    "duration": -443,
    "start_time": "2021-10-18T07:06:08.489Z"
   },
   {
    "duration": -445,
    "start_time": "2021-10-18T07:06:08.492Z"
   },
   {
    "duration": -447,
    "start_time": "2021-10-18T07:06:08.495Z"
   },
   {
    "duration": -448,
    "start_time": "2021-10-18T07:06:08.498Z"
   },
   {
    "duration": -450,
    "start_time": "2021-10-18T07:06:08.501Z"
   },
   {
    "duration": -451,
    "start_time": "2021-10-18T07:06:08.504Z"
   },
   {
    "duration": -452,
    "start_time": "2021-10-18T07:06:08.506Z"
   },
   {
    "duration": -453,
    "start_time": "2021-10-18T07:06:08.509Z"
   },
   {
    "duration": -454,
    "start_time": "2021-10-18T07:06:08.511Z"
   },
   {
    "duration": -455,
    "start_time": "2021-10-18T07:06:08.513Z"
   },
   {
    "duration": -456,
    "start_time": "2021-10-18T07:06:08.516Z"
   },
   {
    "duration": -436,
    "start_time": "2021-10-18T07:06:08.518Z"
   },
   {
    "duration": -438,
    "start_time": "2021-10-18T07:06:08.521Z"
   },
   {
    "duration": -438,
    "start_time": "2021-10-18T07:06:08.523Z"
   },
   {
    "duration": -439,
    "start_time": "2021-10-18T07:06:08.525Z"
   },
   {
    "duration": -439,
    "start_time": "2021-10-18T07:06:08.527Z"
   },
   {
    "duration": -440,
    "start_time": "2021-10-18T07:06:08.529Z"
   },
   {
    "duration": -460,
    "start_time": "2021-10-18T07:06:08.551Z"
   },
   {
    "duration": -462,
    "start_time": "2021-10-18T07:06:08.554Z"
   },
   {
    "duration": -463,
    "start_time": "2021-10-18T07:06:08.556Z"
   },
   {
    "duration": -463,
    "start_time": "2021-10-18T07:06:08.558Z"
   },
   {
    "duration": -464,
    "start_time": "2021-10-18T07:06:08.560Z"
   },
   {
    "duration": -464,
    "start_time": "2021-10-18T07:06:08.562Z"
   },
   {
    "duration": -475,
    "start_time": "2021-10-18T07:06:08.574Z"
   },
   {
    "duration": -476,
    "start_time": "2021-10-18T07:06:08.576Z"
   },
   {
    "duration": -477,
    "start_time": "2021-10-18T07:06:08.579Z"
   },
   {
    "duration": -478,
    "start_time": "2021-10-18T07:06:08.581Z"
   },
   {
    "duration": -479,
    "start_time": "2021-10-18T07:06:08.583Z"
   },
   {
    "duration": -480,
    "start_time": "2021-10-18T07:06:08.586Z"
   },
   {
    "duration": -481,
    "start_time": "2021-10-18T07:06:08.588Z"
   },
   {
    "duration": -483,
    "start_time": "2021-10-18T07:06:08.591Z"
   },
   {
    "duration": -485,
    "start_time": "2021-10-18T07:06:08.595Z"
   },
   {
    "duration": -490,
    "start_time": "2021-10-18T07:06:08.601Z"
   },
   {
    "duration": -490,
    "start_time": "2021-10-18T07:06:08.603Z"
   },
   {
    "duration": -491,
    "start_time": "2021-10-18T07:06:08.605Z"
   },
   {
    "duration": -491,
    "start_time": "2021-10-18T07:06:08.607Z"
   },
   {
    "duration": -492,
    "start_time": "2021-10-18T07:06:08.609Z"
   },
   {
    "duration": -492,
    "start_time": "2021-10-18T07:06:08.611Z"
   },
   {
    "duration": -493,
    "start_time": "2021-10-18T07:06:08.613Z"
   },
   {
    "duration": 1012,
    "start_time": "2021-10-18T07:06:31.852Z"
   },
   {
    "duration": 28,
    "start_time": "2021-10-18T07:06:50.391Z"
   },
   {
    "duration": 1449,
    "start_time": "2021-10-18T07:06:57.008Z"
   },
   {
    "duration": 74,
    "start_time": "2021-10-18T07:06:58.460Z"
   },
   {
    "duration": 45,
    "start_time": "2021-10-18T07:06:58.537Z"
   },
   {
    "duration": 14,
    "start_time": "2021-10-18T07:06:58.585Z"
   },
   {
    "duration": 21,
    "start_time": "2021-10-18T07:06:58.602Z"
   },
   {
    "duration": 413,
    "start_time": "2021-10-18T07:06:58.626Z"
   },
   {
    "duration": 15,
    "start_time": "2021-10-18T07:06:59.042Z"
   },
   {
    "duration": 14,
    "start_time": "2021-10-18T07:06:59.081Z"
   },
   {
    "duration": 36,
    "start_time": "2021-10-18T07:06:59.099Z"
   },
   {
    "duration": 6,
    "start_time": "2021-10-18T07:06:59.138Z"
   },
   {
    "duration": 64,
    "start_time": "2021-10-18T07:06:59.147Z"
   },
   {
    "duration": 26,
    "start_time": "2021-10-18T07:06:59.214Z"
   },
   {
    "duration": 47,
    "start_time": "2021-10-18T07:06:59.243Z"
   },
   {
    "duration": 32,
    "start_time": "2021-10-18T07:06:59.293Z"
   },
   {
    "duration": 13,
    "start_time": "2021-10-18T07:06:59.328Z"
   },
   {
    "duration": 47,
    "start_time": "2021-10-18T07:06:59.343Z"
   },
   {
    "duration": 14,
    "start_time": "2021-10-18T07:06:59.393Z"
   },
   {
    "duration": 41,
    "start_time": "2021-10-18T07:06:59.410Z"
   },
   {
    "duration": 59,
    "start_time": "2021-10-18T07:06:59.454Z"
   },
   {
    "duration": 1838,
    "start_time": "2021-10-18T07:06:59.516Z"
   },
   {
    "duration": 51,
    "start_time": "2021-10-18T07:07:01.356Z"
   },
   {
    "duration": 34,
    "start_time": "2021-10-18T07:07:01.410Z"
   },
   {
    "duration": 3812,
    "start_time": "2021-10-18T07:07:01.454Z"
   },
   {
    "duration": 2653,
    "start_time": "2021-10-18T07:07:05.270Z"
   },
   {
    "duration": 18,
    "start_time": "2021-10-18T07:07:07.926Z"
   },
   {
    "duration": 415,
    "start_time": "2021-10-18T07:07:07.947Z"
   },
   {
    "duration": 397,
    "start_time": "2021-10-18T07:07:08.364Z"
   },
   {
    "duration": 20,
    "start_time": "2021-10-18T07:07:08.764Z"
   },
   {
    "duration": 26,
    "start_time": "2021-10-18T07:07:08.787Z"
   },
   {
    "duration": 395,
    "start_time": "2021-10-18T07:07:08.816Z"
   },
   {
    "duration": 408,
    "start_time": "2021-10-18T07:07:09.214Z"
   },
   {
    "duration": 11,
    "start_time": "2021-10-18T07:07:09.624Z"
   },
   {
    "duration": 19,
    "start_time": "2021-10-18T07:07:09.637Z"
   },
   {
    "duration": 439,
    "start_time": "2021-10-18T07:07:09.658Z"
   },
   {
    "duration": 383,
    "start_time": "2021-10-18T07:07:10.099Z"
   },
   {
    "duration": 11,
    "start_time": "2021-10-18T07:07:10.485Z"
   },
   {
    "duration": 27,
    "start_time": "2021-10-18T07:07:10.498Z"
   },
   {
    "duration": 396,
    "start_time": "2021-10-18T07:07:10.527Z"
   },
   {
    "duration": 400,
    "start_time": "2021-10-18T07:07:10.926Z"
   },
   {
    "duration": 11,
    "start_time": "2021-10-18T07:07:11.329Z"
   },
   {
    "duration": 40,
    "start_time": "2021-10-18T07:07:11.343Z"
   },
   {
    "duration": 14,
    "start_time": "2021-10-18T07:07:11.386Z"
   },
   {
    "duration": 32,
    "start_time": "2021-10-18T07:07:11.402Z"
   },
   {
    "duration": 45,
    "start_time": "2021-10-18T07:07:11.437Z"
   },
   {
    "duration": 100,
    "start_time": "2021-10-18T07:07:11.484Z"
   },
   {
    "duration": 15,
    "start_time": "2021-10-18T07:07:11.586Z"
   },
   {
    "duration": 273,
    "start_time": "2021-10-18T07:07:11.603Z"
   },
   {
    "duration": 18,
    "start_time": "2021-10-18T07:07:11.878Z"
   },
   {
    "duration": 18,
    "start_time": "2021-10-18T07:07:11.899Z"
   },
   {
    "duration": 15,
    "start_time": "2021-10-18T07:07:11.920Z"
   },
   {
    "duration": 407,
    "start_time": "2021-10-18T07:07:11.938Z"
   },
   {
    "duration": 17,
    "start_time": "2021-10-18T07:07:12.348Z"
   },
   {
    "duration": 14,
    "start_time": "2021-10-18T07:07:12.383Z"
   },
   {
    "duration": 12,
    "start_time": "2021-10-18T07:07:12.399Z"
   },
   {
    "duration": 299,
    "start_time": "2021-10-18T07:07:12.413Z"
   },
   {
    "duration": 32,
    "start_time": "2021-10-18T07:07:12.715Z"
   },
   {
    "duration": 35,
    "start_time": "2021-10-18T07:07:12.750Z"
   },
   {
    "duration": 14,
    "start_time": "2021-10-18T07:07:12.787Z"
   },
   {
    "duration": 1346,
    "start_time": "2021-10-18T07:20:34.078Z"
   },
   {
    "duration": 73,
    "start_time": "2021-10-18T07:20:35.427Z"
   },
   {
    "duration": 28,
    "start_time": "2021-10-18T07:20:35.504Z"
   },
   {
    "duration": 18,
    "start_time": "2021-10-18T07:20:35.535Z"
   },
   {
    "duration": 51,
    "start_time": "2021-10-18T07:20:35.556Z"
   },
   {
    "duration": 8,
    "start_time": "2021-10-18T07:20:35.609Z"
   },
   {
    "duration": 30,
    "start_time": "2021-10-18T07:20:35.619Z"
   },
   {
    "duration": 32,
    "start_time": "2021-10-18T07:20:35.653Z"
   },
   {
    "duration": 36,
    "start_time": "2021-10-18T07:20:35.688Z"
   },
   {
    "duration": 7,
    "start_time": "2021-10-18T07:20:35.726Z"
   },
   {
    "duration": 60,
    "start_time": "2021-10-18T07:20:35.736Z"
   },
   {
    "duration": 27,
    "start_time": "2021-10-18T07:20:35.798Z"
   },
   {
    "duration": 21,
    "start_time": "2021-10-18T07:20:35.828Z"
   },
   {
    "duration": 60,
    "start_time": "2021-10-18T07:20:35.852Z"
   },
   {
    "duration": 20,
    "start_time": "2021-10-18T07:20:35.914Z"
   },
   {
    "duration": 13,
    "start_time": "2021-10-18T07:20:35.937Z"
   },
   {
    "duration": 37,
    "start_time": "2021-10-18T07:20:35.953Z"
   },
   {
    "duration": 49,
    "start_time": "2021-10-18T07:20:35.993Z"
   },
   {
    "duration": 22,
    "start_time": "2021-10-18T07:20:36.045Z"
   },
   {
    "duration": 1746,
    "start_time": "2021-10-18T07:20:36.082Z"
   },
   {
    "duration": 33,
    "start_time": "2021-10-18T07:20:37.831Z"
   },
   {
    "duration": 27,
    "start_time": "2021-10-18T07:20:37.882Z"
   },
   {
    "duration": 3855,
    "start_time": "2021-10-18T07:20:37.917Z"
   },
   {
    "duration": 2671,
    "start_time": "2021-10-18T07:20:41.776Z"
   },
   {
    "duration": 34,
    "start_time": "2021-10-18T07:20:44.450Z"
   },
   {
    "duration": 372,
    "start_time": "2021-10-18T07:20:44.486Z"
   },
   {
    "duration": 393,
    "start_time": "2021-10-18T07:20:44.861Z"
   },
   {
    "duration": 12,
    "start_time": "2021-10-18T07:20:45.256Z"
   },
   {
    "duration": 18,
    "start_time": "2021-10-18T07:20:45.282Z"
   },
   {
    "duration": 390,
    "start_time": "2021-10-18T07:20:45.302Z"
   },
   {
    "duration": 390,
    "start_time": "2021-10-18T07:20:45.694Z"
   },
   {
    "duration": 11,
    "start_time": "2021-10-18T07:20:46.087Z"
   },
   {
    "duration": 20,
    "start_time": "2021-10-18T07:20:46.100Z"
   },
   {
    "duration": 399,
    "start_time": "2021-10-18T07:20:46.122Z"
   },
   {
    "duration": 370,
    "start_time": "2021-10-18T07:20:46.524Z"
   },
   {
    "duration": 12,
    "start_time": "2021-10-18T07:20:46.896Z"
   },
   {
    "duration": 17,
    "start_time": "2021-10-18T07:20:46.911Z"
   },
   {
    "duration": 442,
    "start_time": "2021-10-18T07:20:46.930Z"
   },
   {
    "duration": 394,
    "start_time": "2021-10-18T07:20:47.375Z"
   },
   {
    "duration": 15,
    "start_time": "2021-10-18T07:20:47.772Z"
   },
   {
    "duration": 25,
    "start_time": "2021-10-18T07:20:47.790Z"
   },
   {
    "duration": 14,
    "start_time": "2021-10-18T07:20:47.818Z"
   },
   {
    "duration": 50,
    "start_time": "2021-10-18T07:20:47.835Z"
   },
   {
    "duration": 17,
    "start_time": "2021-10-18T07:20:47.888Z"
   },
   {
    "duration": 97,
    "start_time": "2021-10-18T07:20:47.908Z"
   },
   {
    "duration": 13,
    "start_time": "2021-10-18T07:20:48.007Z"
   },
   {
    "duration": 290,
    "start_time": "2021-10-18T07:20:48.023Z"
   },
   {
    "duration": 19,
    "start_time": "2021-10-18T07:20:48.316Z"
   },
   {
    "duration": 15,
    "start_time": "2021-10-18T07:20:48.337Z"
   },
   {
    "duration": 22,
    "start_time": "2021-10-18T07:20:48.392Z"
   },
   {
    "duration": 270,
    "start_time": "2021-10-18T07:20:48.417Z"
   },
   {
    "duration": 20,
    "start_time": "2021-10-18T07:20:48.690Z"
   },
   {
    "duration": 15,
    "start_time": "2021-10-18T07:20:48.713Z"
   },
   {
    "duration": 56,
    "start_time": "2021-10-18T07:20:48.731Z"
   },
   {
    "duration": 275,
    "start_time": "2021-10-18T07:20:48.790Z"
   },
   {
    "duration": 41,
    "start_time": "2021-10-18T07:20:49.068Z"
   },
   {
    "duration": 9,
    "start_time": "2021-10-18T07:20:49.112Z"
   },
   {
    "duration": 15,
    "start_time": "2021-10-18T07:20:49.123Z"
   },
   {
    "duration": 1334,
    "start_time": "2021-10-18T07:26:16.393Z"
   },
   {
    "duration": 72,
    "start_time": "2021-10-18T07:26:17.730Z"
   },
   {
    "duration": 29,
    "start_time": "2021-10-18T07:26:17.805Z"
   },
   {
    "duration": 13,
    "start_time": "2021-10-18T07:26:17.837Z"
   },
   {
    "duration": 46,
    "start_time": "2021-10-18T07:26:17.853Z"
   },
   {
    "duration": 3,
    "start_time": "2021-10-18T07:26:17.902Z"
   },
   {
    "duration": 12,
    "start_time": "2021-10-18T07:26:17.907Z"
   },
   {
    "duration": 14,
    "start_time": "2021-10-18T07:26:17.923Z"
   },
   {
    "duration": 77,
    "start_time": "2021-10-18T07:26:17.940Z"
   },
   {
    "duration": 7,
    "start_time": "2021-10-18T07:26:18.019Z"
   },
   {
    "duration": 56,
    "start_time": "2021-10-18T07:26:18.028Z"
   },
   {
    "duration": 27,
    "start_time": "2021-10-18T07:26:18.087Z"
   },
   {
    "duration": 21,
    "start_time": "2021-10-18T07:26:18.117Z"
   },
   {
    "duration": 62,
    "start_time": "2021-10-18T07:26:18.141Z"
   },
   {
    "duration": 14,
    "start_time": "2021-10-18T07:26:18.206Z"
   },
   {
    "duration": 15,
    "start_time": "2021-10-18T07:26:18.223Z"
   },
   {
    "duration": 42,
    "start_time": "2021-10-18T07:26:18.241Z"
   },
   {
    "duration": 33,
    "start_time": "2021-10-18T07:26:18.286Z"
   },
   {
    "duration": 20,
    "start_time": "2021-10-18T07:26:18.322Z"
   },
   {
    "duration": 1721,
    "start_time": "2021-10-18T07:26:18.345Z"
   },
   {
    "duration": 47,
    "start_time": "2021-10-18T07:26:20.068Z"
   },
   {
    "duration": 26,
    "start_time": "2021-10-18T07:26:20.117Z"
   },
   {
    "duration": 3506,
    "start_time": "2021-10-18T07:26:20.148Z"
   },
   {
    "duration": 2867,
    "start_time": "2021-10-18T07:26:23.657Z"
   },
   {
    "duration": 17,
    "start_time": "2021-10-18T07:26:26.527Z"
   },
   {
    "duration": 421,
    "start_time": "2021-10-18T07:26:26.546Z"
   },
   {
    "duration": 486,
    "start_time": "2021-10-18T07:26:26.970Z"
   },
   {
    "duration": 23,
    "start_time": "2021-10-18T07:26:27.459Z"
   },
   {
    "duration": 17,
    "start_time": "2021-10-18T07:26:27.485Z"
   },
   {
    "duration": 504,
    "start_time": "2021-10-18T07:26:27.505Z"
   },
   {
    "duration": 417,
    "start_time": "2021-10-18T07:26:28.012Z"
   },
   {
    "duration": 11,
    "start_time": "2021-10-18T07:26:28.431Z"
   },
   {
    "duration": 39,
    "start_time": "2021-10-18T07:26:28.445Z"
   },
   {
    "duration": 416,
    "start_time": "2021-10-18T07:26:28.486Z"
   },
   {
    "duration": 386,
    "start_time": "2021-10-18T07:26:28.906Z"
   },
   {
    "duration": 14,
    "start_time": "2021-10-18T07:26:29.295Z"
   },
   {
    "duration": 18,
    "start_time": "2021-10-18T07:26:29.312Z"
   },
   {
    "duration": 454,
    "start_time": "2021-10-18T07:26:29.332Z"
   },
   {
    "duration": 412,
    "start_time": "2021-10-18T07:26:29.788Z"
   },
   {
    "duration": 12,
    "start_time": "2021-10-18T07:26:30.202Z"
   },
   {
    "duration": 25,
    "start_time": "2021-10-18T07:26:30.217Z"
   },
   {
    "duration": 39,
    "start_time": "2021-10-18T07:26:30.245Z"
   },
   {
    "duration": 30,
    "start_time": "2021-10-18T07:26:30.286Z"
   },
   {
    "duration": 12,
    "start_time": "2021-10-18T07:26:30.319Z"
   },
   {
    "duration": 33,
    "start_time": "2021-10-18T07:26:30.334Z"
   },
   {
    "duration": 85,
    "start_time": "2021-10-18T07:26:30.383Z"
   },
   {
    "duration": 26,
    "start_time": "2021-10-18T07:26:30.470Z"
   },
   {
    "duration": 292,
    "start_time": "2021-10-18T07:26:30.499Z"
   },
   {
    "duration": 18,
    "start_time": "2021-10-18T07:26:30.794Z"
   },
   {
    "duration": 21,
    "start_time": "2021-10-18T07:26:30.814Z"
   },
   {
    "duration": 20,
    "start_time": "2021-10-18T07:26:30.838Z"
   },
   {
    "duration": 304,
    "start_time": "2021-10-18T07:26:30.860Z"
   },
   {
    "duration": 32,
    "start_time": "2021-10-18T07:26:31.168Z"
   },
   {
    "duration": 15,
    "start_time": "2021-10-18T07:26:31.202Z"
   },
   {
    "duration": 24,
    "start_time": "2021-10-18T07:26:31.220Z"
   },
   {
    "duration": 300,
    "start_time": "2021-10-18T07:26:31.246Z"
   },
   {
    "duration": 37,
    "start_time": "2021-10-18T07:26:31.548Z"
   },
   {
    "duration": 10,
    "start_time": "2021-10-18T07:26:31.587Z"
   },
   {
    "duration": 16,
    "start_time": "2021-10-18T07:26:31.600Z"
   },
   {
    "duration": 14,
    "start_time": "2021-10-18T07:30:07.683Z"
   },
   {
    "duration": 1321,
    "start_time": "2021-10-18T07:30:19.411Z"
   },
   {
    "duration": 78,
    "start_time": "2021-10-18T07:30:20.735Z"
   },
   {
    "duration": 31,
    "start_time": "2021-10-18T07:30:20.817Z"
   },
   {
    "duration": 42,
    "start_time": "2021-10-18T07:30:20.851Z"
   },
   {
    "duration": 27,
    "start_time": "2021-10-18T07:30:20.896Z"
   },
   {
    "duration": 3,
    "start_time": "2021-10-18T07:30:20.925Z"
   },
   {
    "duration": 25,
    "start_time": "2021-10-18T07:30:20.930Z"
   },
   {
    "duration": 40,
    "start_time": "2021-10-18T07:30:20.958Z"
   },
   {
    "duration": 15,
    "start_time": "2021-10-18T07:30:21.001Z"
   },
   {
    "duration": 8,
    "start_time": "2021-10-18T07:30:21.018Z"
   },
   {
    "duration": 60,
    "start_time": "2021-10-18T07:30:21.028Z"
   },
   {
    "duration": 31,
    "start_time": "2021-10-18T07:30:21.091Z"
   },
   {
    "duration": 24,
    "start_time": "2021-10-18T07:30:21.125Z"
   },
   {
    "duration": 63,
    "start_time": "2021-10-18T07:30:21.152Z"
   },
   {
    "duration": 17,
    "start_time": "2021-10-18T07:30:21.218Z"
   },
   {
    "duration": 54,
    "start_time": "2021-10-18T07:30:21.237Z"
   },
   {
    "duration": 15,
    "start_time": "2021-10-18T07:30:21.294Z"
   },
   {
    "duration": 42,
    "start_time": "2021-10-18T07:30:21.312Z"
   },
   {
    "duration": 23,
    "start_time": "2021-10-18T07:30:21.381Z"
   },
   {
    "duration": 1772,
    "start_time": "2021-10-18T07:30:21.407Z"
   },
   {
    "duration": 33,
    "start_time": "2021-10-18T07:30:23.182Z"
   },
   {
    "duration": 25,
    "start_time": "2021-10-18T07:30:23.217Z"
   },
   {
    "duration": 3774,
    "start_time": "2021-10-18T07:30:23.249Z"
   },
   {
    "duration": 2524,
    "start_time": "2021-10-18T07:30:27.027Z"
   },
   {
    "duration": 31,
    "start_time": "2021-10-18T07:30:29.553Z"
   },
   {
    "duration": 366,
    "start_time": "2021-10-18T07:30:29.587Z"
   },
   {
    "duration": 403,
    "start_time": "2021-10-18T07:30:29.956Z"
   },
   {
    "duration": 21,
    "start_time": "2021-10-18T07:30:30.362Z"
   },
   {
    "duration": 18,
    "start_time": "2021-10-18T07:30:30.386Z"
   },
   {
    "duration": 402,
    "start_time": "2021-10-18T07:30:30.406Z"
   },
   {
    "duration": 383,
    "start_time": "2021-10-18T07:30:30.811Z"
   },
   {
    "duration": 14,
    "start_time": "2021-10-18T07:30:31.197Z"
   },
   {
    "duration": 24,
    "start_time": "2021-10-18T07:30:31.213Z"
   },
   {
    "duration": 446,
    "start_time": "2021-10-18T07:30:31.239Z"
   },
   {
    "duration": 386,
    "start_time": "2021-10-18T07:30:31.687Z"
   },
   {
    "duration": 13,
    "start_time": "2021-10-18T07:30:32.083Z"
   },
   {
    "duration": 20,
    "start_time": "2021-10-18T07:30:32.099Z"
   },
   {
    "duration": 442,
    "start_time": "2021-10-18T07:30:32.122Z"
   },
   {
    "duration": 406,
    "start_time": "2021-10-18T07:30:32.567Z"
   },
   {
    "duration": 16,
    "start_time": "2021-10-18T07:30:32.976Z"
   },
   {
    "duration": 18,
    "start_time": "2021-10-18T07:30:32.994Z"
   },
   {
    "duration": 19,
    "start_time": "2021-10-18T07:30:33.015Z"
   },
   {
    "duration": 59,
    "start_time": "2021-10-18T07:30:33.037Z"
   },
   {
    "duration": 6,
    "start_time": "2021-10-18T07:30:33.099Z"
   },
   {
    "duration": 20,
    "start_time": "2021-10-18T07:30:33.107Z"
   },
   {
    "duration": 113,
    "start_time": "2021-10-18T07:30:33.129Z"
   },
   {
    "duration": 20,
    "start_time": "2021-10-18T07:30:33.244Z"
   },
   {
    "duration": 281,
    "start_time": "2021-10-18T07:30:33.266Z"
   },
   {
    "duration": 16,
    "start_time": "2021-10-18T07:30:33.549Z"
   },
   {
    "duration": 26,
    "start_time": "2021-10-18T07:30:33.567Z"
   },
   {
    "duration": 12,
    "start_time": "2021-10-18T07:30:33.595Z"
   },
   {
    "duration": 275,
    "start_time": "2021-10-18T07:30:33.610Z"
   },
   {
    "duration": 18,
    "start_time": "2021-10-18T07:30:33.887Z"
   },
   {
    "duration": 16,
    "start_time": "2021-10-18T07:30:33.907Z"
   },
   {
    "duration": 13,
    "start_time": "2021-10-18T07:30:33.925Z"
   },
   {
    "duration": 310,
    "start_time": "2021-10-18T07:30:33.940Z"
   },
   {
    "duration": 42,
    "start_time": "2021-10-18T07:30:34.252Z"
   },
   {
    "duration": 12,
    "start_time": "2021-10-18T07:30:34.296Z"
   },
   {
    "duration": 10,
    "start_time": "2021-10-18T07:30:34.310Z"
   },
   {
    "duration": 1330,
    "start_time": "2021-10-18T07:31:15.894Z"
   },
   {
    "duration": 69,
    "start_time": "2021-10-18T07:31:17.227Z"
   },
   {
    "duration": 28,
    "start_time": "2021-10-18T07:31:17.299Z"
   },
   {
    "duration": 18,
    "start_time": "2021-10-18T07:31:17.330Z"
   },
   {
    "duration": 43,
    "start_time": "2021-10-18T07:31:17.351Z"
   },
   {
    "duration": 3,
    "start_time": "2021-10-18T07:31:17.397Z"
   },
   {
    "duration": 19,
    "start_time": "2021-10-18T07:31:17.403Z"
   },
   {
    "duration": 14,
    "start_time": "2021-10-18T07:31:17.427Z"
   },
   {
    "duration": 37,
    "start_time": "2021-10-18T07:31:17.483Z"
   },
   {
    "duration": 8,
    "start_time": "2021-10-18T07:31:17.523Z"
   },
   {
    "duration": 63,
    "start_time": "2021-10-18T07:31:17.534Z"
   },
   {
    "duration": 28,
    "start_time": "2021-10-18T07:31:17.600Z"
   },
   {
    "duration": 53,
    "start_time": "2021-10-18T07:31:17.631Z"
   },
   {
    "duration": 34,
    "start_time": "2021-10-18T07:31:17.687Z"
   },
   {
    "duration": 16,
    "start_time": "2021-10-18T07:31:17.724Z"
   },
   {
    "duration": 59,
    "start_time": "2021-10-18T07:31:17.743Z"
   },
   {
    "duration": 16,
    "start_time": "2021-10-18T07:31:17.806Z"
   },
   {
    "duration": 37,
    "start_time": "2021-10-18T07:31:17.825Z"
   },
   {
    "duration": 36,
    "start_time": "2021-10-18T07:31:17.865Z"
   },
   {
    "duration": 1720,
    "start_time": "2021-10-18T07:31:17.903Z"
   },
   {
    "duration": 36,
    "start_time": "2021-10-18T07:31:19.626Z"
   },
   {
    "duration": 41,
    "start_time": "2021-10-18T07:31:19.665Z"
   },
   {
    "duration": 3824,
    "start_time": "2021-10-18T07:31:19.712Z"
   },
   {
    "duration": 2608,
    "start_time": "2021-10-18T07:31:23.539Z"
   },
   {
    "duration": 33,
    "start_time": "2021-10-18T07:31:26.150Z"
   },
   {
    "duration": 437,
    "start_time": "2021-10-18T07:31:26.185Z"
   },
   {
    "duration": 379,
    "start_time": "2021-10-18T07:31:26.625Z"
   },
   {
    "duration": 14,
    "start_time": "2021-10-18T07:31:27.007Z"
   },
   {
    "duration": 24,
    "start_time": "2021-10-18T07:31:27.023Z"
   },
   {
    "duration": 436,
    "start_time": "2021-10-18T07:31:27.049Z"
   },
   {
    "duration": 414,
    "start_time": "2021-10-18T07:31:27.488Z"
   },
   {
    "duration": 12,
    "start_time": "2021-10-18T07:31:27.905Z"
   },
   {
    "duration": 18,
    "start_time": "2021-10-18T07:31:27.920Z"
   },
   {
    "duration": 453,
    "start_time": "2021-10-18T07:31:27.941Z"
   },
   {
    "duration": 394,
    "start_time": "2021-10-18T07:31:28.396Z"
   },
   {
    "duration": 12,
    "start_time": "2021-10-18T07:31:28.792Z"
   },
   {
    "duration": 21,
    "start_time": "2021-10-18T07:31:28.807Z"
   },
   {
    "duration": 445,
    "start_time": "2021-10-18T07:31:28.831Z"
   },
   {
    "duration": 401,
    "start_time": "2021-10-18T07:31:29.281Z"
   },
   {
    "duration": 11,
    "start_time": "2021-10-18T07:31:29.684Z"
   },
   {
    "duration": 22,
    "start_time": "2021-10-18T07:31:29.698Z"
   },
   {
    "duration": 26,
    "start_time": "2021-10-18T07:31:29.722Z"
   },
   {
    "duration": 45,
    "start_time": "2021-10-18T07:31:29.750Z"
   },
   {
    "duration": 5,
    "start_time": "2021-10-18T07:31:29.797Z"
   },
   {
    "duration": 26,
    "start_time": "2021-10-18T07:31:29.805Z"
   },
   {
    "duration": 104,
    "start_time": "2021-10-18T07:31:29.833Z"
   },
   {
    "duration": 14,
    "start_time": "2021-10-18T07:31:29.939Z"
   },
   {
    "duration": 306,
    "start_time": "2021-10-18T07:31:29.956Z"
   },
   {
    "duration": 26,
    "start_time": "2021-10-18T07:31:30.264Z"
   },
   {
    "duration": 31,
    "start_time": "2021-10-18T07:31:30.292Z"
   },
   {
    "duration": 21,
    "start_time": "2021-10-18T07:31:30.326Z"
   },
   {
    "duration": 286,
    "start_time": "2021-10-18T07:31:30.349Z"
   },
   {
    "duration": 18,
    "start_time": "2021-10-18T07:31:30.638Z"
   },
   {
    "duration": 49,
    "start_time": "2021-10-18T07:31:30.659Z"
   },
   {
    "duration": 51,
    "start_time": "2021-10-18T07:31:30.711Z"
   },
   {
    "duration": 283,
    "start_time": "2021-10-18T07:31:30.765Z"
   },
   {
    "duration": 38,
    "start_time": "2021-10-18T07:31:31.050Z"
   },
   {
    "duration": 23,
    "start_time": "2021-10-18T07:31:31.091Z"
   },
   {
    "duration": 17,
    "start_time": "2021-10-18T07:31:31.117Z"
   },
   {
    "duration": 315,
    "start_time": "2021-10-18T08:04:36.761Z"
   },
   {
    "duration": 628,
    "start_time": "2021-10-18T08:07:24.504Z"
   },
   {
    "duration": 264,
    "start_time": "2021-10-18T08:07:57.418Z"
   },
   {
    "duration": 229,
    "start_time": "2021-10-18T08:08:14.791Z"
   },
   {
    "duration": 233,
    "start_time": "2021-10-18T08:08:41.646Z"
   },
   {
    "duration": 439,
    "start_time": "2021-10-18T08:08:57.608Z"
   },
   {
    "duration": 531,
    "start_time": "2021-10-18T08:09:34.498Z"
   },
   {
    "duration": 544,
    "start_time": "2021-10-18T08:10:45.413Z"
   },
   {
    "duration": 523,
    "start_time": "2021-10-18T08:11:13.096Z"
   },
   {
    "duration": 458,
    "start_time": "2021-10-18T08:11:25.674Z"
   },
   {
    "duration": 335,
    "start_time": "2021-10-18T08:12:08.032Z"
   },
   {
    "duration": 350,
    "start_time": "2021-10-18T08:12:22.849Z"
   },
   {
    "duration": 349,
    "start_time": "2021-10-18T08:13:20.736Z"
   },
   {
    "duration": 387,
    "start_time": "2021-10-18T08:14:03.135Z"
   },
   {
    "duration": 384,
    "start_time": "2021-10-18T08:14:27.383Z"
   },
   {
    "duration": 462,
    "start_time": "2021-10-18T08:15:20.878Z"
   },
   {
    "duration": 269,
    "start_time": "2021-10-18T08:15:58.575Z"
   },
   {
    "duration": 356,
    "start_time": "2021-10-18T08:16:16.944Z"
   },
   {
    "duration": 1758,
    "start_time": "2021-10-18T08:24:11.284Z"
   },
   {
    "duration": 74,
    "start_time": "2021-10-18T08:24:13.045Z"
   },
   {
    "duration": 29,
    "start_time": "2021-10-18T08:24:13.122Z"
   },
   {
    "duration": 34,
    "start_time": "2021-10-18T08:24:13.154Z"
   },
   {
    "duration": 22,
    "start_time": "2021-10-18T08:24:13.190Z"
   },
   {
    "duration": 3,
    "start_time": "2021-10-18T08:24:13.214Z"
   },
   {
    "duration": 18,
    "start_time": "2021-10-18T08:24:13.220Z"
   },
   {
    "duration": 40,
    "start_time": "2021-10-18T08:24:13.242Z"
   },
   {
    "duration": 18,
    "start_time": "2021-10-18T08:24:13.286Z"
   },
   {
    "duration": 448,
    "start_time": "2021-10-18T08:24:13.307Z"
   },
   {
    "duration": -474,
    "start_time": "2021-10-18T08:24:14.235Z"
   },
   {
    "duration": -486,
    "start_time": "2021-10-18T08:24:14.249Z"
   },
   {
    "duration": -500,
    "start_time": "2021-10-18T08:24:14.264Z"
   },
   {
    "duration": -504,
    "start_time": "2021-10-18T08:24:14.270Z"
   },
   {
    "duration": -521,
    "start_time": "2021-10-18T08:24:14.288Z"
   },
   {
    "duration": -531,
    "start_time": "2021-10-18T08:24:14.300Z"
   },
   {
    "duration": -542,
    "start_time": "2021-10-18T08:24:14.313Z"
   },
   {
    "duration": -548,
    "start_time": "2021-10-18T08:24:14.320Z"
   },
   {
    "duration": -558,
    "start_time": "2021-10-18T08:24:14.331Z"
   },
   {
    "duration": -558,
    "start_time": "2021-10-18T08:24:14.333Z"
   },
   {
    "duration": -569,
    "start_time": "2021-10-18T08:24:14.345Z"
   },
   {
    "duration": -570,
    "start_time": "2021-10-18T08:24:14.348Z"
   },
   {
    "duration": -574,
    "start_time": "2021-10-18T08:24:14.353Z"
   },
   {
    "duration": -581,
    "start_time": "2021-10-18T08:24:14.362Z"
   },
   {
    "duration": -583,
    "start_time": "2021-10-18T08:24:14.365Z"
   },
   {
    "duration": -584,
    "start_time": "2021-10-18T08:24:14.368Z"
   },
   {
    "duration": -593,
    "start_time": "2021-10-18T08:24:14.378Z"
   },
   {
    "duration": -594,
    "start_time": "2021-10-18T08:24:14.381Z"
   },
   {
    "duration": -596,
    "start_time": "2021-10-18T08:24:14.384Z"
   },
   {
    "duration": -605,
    "start_time": "2021-10-18T08:24:14.395Z"
   },
   {
    "duration": -607,
    "start_time": "2021-10-18T08:24:14.398Z"
   },
   {
    "duration": -607,
    "start_time": "2021-10-18T08:24:14.400Z"
   },
   {
    "duration": -618,
    "start_time": "2021-10-18T08:24:14.412Z"
   },
   {
    "duration": -619,
    "start_time": "2021-10-18T08:24:14.415Z"
   },
   {
    "duration": -621,
    "start_time": "2021-10-18T08:24:14.418Z"
   },
   {
    "duration": -629,
    "start_time": "2021-10-18T08:24:14.428Z"
   },
   {
    "duration": -631,
    "start_time": "2021-10-18T08:24:14.431Z"
   },
   {
    "duration": -632,
    "start_time": "2021-10-18T08:24:14.433Z"
   },
   {
    "duration": -636,
    "start_time": "2021-10-18T08:24:14.438Z"
   },
   {
    "duration": -639,
    "start_time": "2021-10-18T08:24:14.443Z"
   },
   {
    "duration": -641,
    "start_time": "2021-10-18T08:24:14.446Z"
   },
   {
    "duration": -642,
    "start_time": "2021-10-18T08:24:14.448Z"
   },
   {
    "duration": -644,
    "start_time": "2021-10-18T08:24:14.452Z"
   },
   {
    "duration": -648,
    "start_time": "2021-10-18T08:24:14.457Z"
   },
   {
    "duration": -648,
    "start_time": "2021-10-18T08:24:14.459Z"
   },
   {
    "duration": -650,
    "start_time": "2021-10-18T08:24:14.462Z"
   },
   {
    "duration": -651,
    "start_time": "2021-10-18T08:24:14.464Z"
   },
   {
    "duration": -652,
    "start_time": "2021-10-18T08:24:14.467Z"
   },
   {
    "duration": -655,
    "start_time": "2021-10-18T08:24:14.471Z"
   },
   {
    "duration": -656,
    "start_time": "2021-10-18T08:24:14.474Z"
   },
   {
    "duration": -657,
    "start_time": "2021-10-18T08:24:14.476Z"
   },
   {
    "duration": -659,
    "start_time": "2021-10-18T08:24:14.479Z"
   },
   {
    "duration": -659,
    "start_time": "2021-10-18T08:24:14.481Z"
   },
   {
    "duration": -596,
    "start_time": "2021-10-18T08:24:14.483Z"
   },
   {
    "duration": -599,
    "start_time": "2021-10-18T08:24:14.487Z"
   },
   {
    "duration": -601,
    "start_time": "2021-10-18T08:24:14.490Z"
   },
   {
    "duration": -603,
    "start_time": "2021-10-18T08:24:14.493Z"
   },
   {
    "duration": -604,
    "start_time": "2021-10-18T08:24:14.495Z"
   },
   {
    "duration": -604,
    "start_time": "2021-10-18T08:24:14.497Z"
   },
   {
    "duration": -605,
    "start_time": "2021-10-18T08:24:14.499Z"
   },
   {
    "duration": -607,
    "start_time": "2021-10-18T08:24:14.503Z"
   },
   {
    "duration": -610,
    "start_time": "2021-10-18T08:24:14.507Z"
   },
   {
    "duration": -612,
    "start_time": "2021-10-18T08:24:14.510Z"
   },
   {
    "duration": -612,
    "start_time": "2021-10-18T08:24:14.512Z"
   },
   {
    "duration": -613,
    "start_time": "2021-10-18T08:24:14.514Z"
   },
   {
    "duration": 31,
    "start_time": "2021-10-18T08:24:46.525Z"
   },
   {
    "duration": 9,
    "start_time": "2021-10-18T08:25:01.058Z"
   },
   {
    "duration": 6,
    "start_time": "2021-10-18T08:25:06.601Z"
   },
   {
    "duration": 32,
    "start_time": "2021-10-18T08:25:09.680Z"
   },
   {
    "duration": 1347,
    "start_time": "2021-10-18T08:25:14.297Z"
   },
   {
    "duration": 71,
    "start_time": "2021-10-18T08:25:15.647Z"
   },
   {
    "duration": 29,
    "start_time": "2021-10-18T08:25:15.722Z"
   },
   {
    "duration": 33,
    "start_time": "2021-10-18T08:25:15.755Z"
   },
   {
    "duration": 30,
    "start_time": "2021-10-18T08:25:15.791Z"
   },
   {
    "duration": 7,
    "start_time": "2021-10-18T08:25:15.823Z"
   },
   {
    "duration": 14,
    "start_time": "2021-10-18T08:25:15.833Z"
   },
   {
    "duration": 41,
    "start_time": "2021-10-18T08:25:15.852Z"
   },
   {
    "duration": 11,
    "start_time": "2021-10-18T08:25:15.896Z"
   },
   {
    "duration": 7,
    "start_time": "2021-10-18T08:25:15.909Z"
   },
   {
    "duration": 66,
    "start_time": "2021-10-18T08:25:15.919Z"
   },
   {
    "duration": 30,
    "start_time": "2021-10-18T08:25:15.988Z"
   },
   {
    "duration": 23,
    "start_time": "2021-10-18T08:25:16.021Z"
   },
   {
    "duration": 68,
    "start_time": "2021-10-18T08:25:16.047Z"
   },
   {
    "duration": 16,
    "start_time": "2021-10-18T08:25:16.118Z"
   },
   {
    "duration": 53,
    "start_time": "2021-10-18T08:25:16.137Z"
   },
   {
    "duration": 14,
    "start_time": "2021-10-18T08:25:16.193Z"
   },
   {
    "duration": 37,
    "start_time": "2021-10-18T08:25:16.210Z"
   },
   {
    "duration": 50,
    "start_time": "2021-10-18T08:25:16.250Z"
   },
   {
    "duration": 1727,
    "start_time": "2021-10-18T08:25:16.303Z"
   },
   {
    "duration": 51,
    "start_time": "2021-10-18T08:25:18.032Z"
   },
   {
    "duration": 24,
    "start_time": "2021-10-18T08:25:18.085Z"
   },
   {
    "duration": 3490,
    "start_time": "2021-10-18T08:25:18.116Z"
   },
   {
    "duration": 2660,
    "start_time": "2021-10-18T08:25:21.609Z"
   },
   {
    "duration": 25,
    "start_time": "2021-10-18T08:25:24.271Z"
   },
   {
    "duration": 368,
    "start_time": "2021-10-18T08:25:24.298Z"
   },
   {
    "duration": 384,
    "start_time": "2021-10-18T08:25:24.669Z"
   },
   {
    "duration": 12,
    "start_time": "2021-10-18T08:25:25.056Z"
   },
   {
    "duration": 18,
    "start_time": "2021-10-18T08:25:25.083Z"
   },
   {
    "duration": 392,
    "start_time": "2021-10-18T08:25:25.104Z"
   },
   {
    "duration": 379,
    "start_time": "2021-10-18T08:25:25.498Z"
   },
   {
    "duration": 11,
    "start_time": "2021-10-18T08:25:25.880Z"
   },
   {
    "duration": 20,
    "start_time": "2021-10-18T08:25:25.893Z"
   },
   {
    "duration": 408,
    "start_time": "2021-10-18T08:25:25.915Z"
   },
   {
    "duration": 377,
    "start_time": "2021-10-18T08:25:26.325Z"
   },
   {
    "duration": 11,
    "start_time": "2021-10-18T08:25:26.705Z"
   },
   {
    "duration": 39,
    "start_time": "2021-10-18T08:25:26.718Z"
   },
   {
    "duration": 416,
    "start_time": "2021-10-18T08:25:26.759Z"
   },
   {
    "duration": 400,
    "start_time": "2021-10-18T08:25:27.178Z"
   },
   {
    "duration": 12,
    "start_time": "2021-10-18T08:25:27.580Z"
   },
   {
    "duration": 18,
    "start_time": "2021-10-18T08:25:27.594Z"
   },
   {
    "duration": 25,
    "start_time": "2021-10-18T08:25:27.614Z"
   },
   {
    "duration": 53,
    "start_time": "2021-10-18T08:25:27.641Z"
   },
   {
    "duration": 6,
    "start_time": "2021-10-18T08:25:27.698Z"
   },
   {
    "duration": 35,
    "start_time": "2021-10-18T08:25:27.707Z"
   },
   {
    "duration": 138,
    "start_time": "2021-10-18T08:25:27.746Z"
   },
   {
    "duration": 407,
    "start_time": "2021-10-18T08:25:27.887Z"
   },
   {
    "duration": 13,
    "start_time": "2021-10-18T08:25:28.297Z"
   },
   {
    "duration": 354,
    "start_time": "2021-10-18T08:25:28.312Z"
   },
   {
    "duration": 269,
    "start_time": "2021-10-18T08:25:28.669Z"
   },
   {
    "duration": 18,
    "start_time": "2021-10-18T08:25:28.940Z"
   },
   {
    "duration": 31,
    "start_time": "2021-10-18T08:25:28.960Z"
   },
   {
    "duration": 358,
    "start_time": "2021-10-18T08:25:28.993Z"
   },
   {
    "duration": 29,
    "start_time": "2021-10-18T08:25:29.353Z"
   },
   {
    "duration": 363,
    "start_time": "2021-10-18T08:25:29.384Z"
   },
   {
    "duration": 276,
    "start_time": "2021-10-18T08:25:29.750Z"
   },
   {
    "duration": 19,
    "start_time": "2021-10-18T08:25:30.029Z"
   },
   {
    "duration": 36,
    "start_time": "2021-10-18T08:25:30.051Z"
   },
   {
    "duration": 359,
    "start_time": "2021-10-18T08:25:30.089Z"
   },
   {
    "duration": 15,
    "start_time": "2021-10-18T08:25:30.450Z"
   },
   {
    "duration": 465,
    "start_time": "2021-10-18T08:25:30.483Z"
   },
   {
    "duration": 289,
    "start_time": "2021-10-18T08:25:30.950Z"
   },
   {
    "duration": 43,
    "start_time": "2021-10-18T08:25:31.242Z"
   },
   {
    "duration": 10,
    "start_time": "2021-10-18T08:25:31.288Z"
   },
   {
    "duration": 15,
    "start_time": "2021-10-18T08:25:31.301Z"
   },
   {
    "duration": 1377,
    "start_time": "2021-10-18T08:53:39.237Z"
   },
   {
    "duration": 77,
    "start_time": "2021-10-18T08:53:40.617Z"
   },
   {
    "duration": 32,
    "start_time": "2021-10-18T08:53:40.697Z"
   },
   {
    "duration": 19,
    "start_time": "2021-10-18T08:53:40.733Z"
   },
   {
    "duration": 22,
    "start_time": "2021-10-18T08:53:40.782Z"
   },
   {
    "duration": 11,
    "start_time": "2021-10-18T08:53:40.807Z"
   },
   {
    "duration": 13,
    "start_time": "2021-10-18T08:53:40.821Z"
   },
   {
    "duration": 44,
    "start_time": "2021-10-18T08:53:40.838Z"
   },
   {
    "duration": 7,
    "start_time": "2021-10-18T08:53:40.885Z"
   },
   {
    "duration": 40,
    "start_time": "2021-10-18T08:53:40.894Z"
   },
   {
    "duration": 56,
    "start_time": "2021-10-18T08:53:40.936Z"
   },
   {
    "duration": 22,
    "start_time": "2021-10-18T08:53:40.994Z"
   },
   {
    "duration": 34,
    "start_time": "2021-10-18T08:53:41.018Z"
   },
   {
    "duration": 39,
    "start_time": "2021-10-18T08:53:41.055Z"
   },
   {
    "duration": 15,
    "start_time": "2021-10-18T08:53:41.096Z"
   },
   {
    "duration": 12,
    "start_time": "2021-10-18T08:53:41.113Z"
   },
   {
    "duration": 69,
    "start_time": "2021-10-18T08:53:41.127Z"
   },
   {
    "duration": 21,
    "start_time": "2021-10-18T08:53:41.198Z"
   },
   {
    "duration": 1933,
    "start_time": "2021-10-18T08:53:41.221Z"
   },
   {
    "duration": 62,
    "start_time": "2021-10-18T08:53:43.157Z"
   },
   {
    "duration": 32,
    "start_time": "2021-10-18T08:53:43.222Z"
   },
   {
    "duration": 3544,
    "start_time": "2021-10-18T08:53:43.257Z"
   },
   {
    "duration": 2545,
    "start_time": "2021-10-18T08:53:46.807Z"
   },
   {
    "duration": 29,
    "start_time": "2021-10-18T08:53:49.355Z"
   },
   {
    "duration": 400,
    "start_time": "2021-10-18T08:53:49.387Z"
   },
   {
    "duration": 392,
    "start_time": "2021-10-18T08:53:49.790Z"
   },
   {
    "duration": 11,
    "start_time": "2021-10-18T08:53:50.185Z"
   },
   {
    "duration": 23,
    "start_time": "2021-10-18T08:53:50.198Z"
   },
   {
    "duration": 386,
    "start_time": "2021-10-18T08:53:50.223Z"
   },
   {
    "duration": 385,
    "start_time": "2021-10-18T08:53:50.612Z"
   },
   {
    "duration": 11,
    "start_time": "2021-10-18T08:53:51.000Z"
   },
   {
    "duration": 24,
    "start_time": "2021-10-18T08:53:51.013Z"
   },
   {
    "duration": 448,
    "start_time": "2021-10-18T08:53:51.039Z"
   },
   {
    "duration": 396,
    "start_time": "2021-10-18T08:53:51.489Z"
   },
   {
    "duration": 12,
    "start_time": "2021-10-18T08:53:51.888Z"
   },
   {
    "duration": 20,
    "start_time": "2021-10-18T08:53:51.903Z"
   },
   {
    "duration": 452,
    "start_time": "2021-10-18T08:53:51.926Z"
   },
   {
    "duration": 405,
    "start_time": "2021-10-18T08:53:52.383Z"
   },
   {
    "duration": 13,
    "start_time": "2021-10-18T08:53:52.790Z"
   },
   {
    "duration": 16,
    "start_time": "2021-10-18T08:53:52.806Z"
   },
   {
    "duration": 19,
    "start_time": "2021-10-18T08:53:52.825Z"
   },
   {
    "duration": 61,
    "start_time": "2021-10-18T08:53:52.847Z"
   },
   {
    "duration": 8,
    "start_time": "2021-10-18T08:53:52.910Z"
   },
   {
    "duration": 22,
    "start_time": "2021-10-18T08:53:52.921Z"
   },
   {
    "duration": 39,
    "start_time": "2021-10-18T08:53:52.946Z"
   },
   {
    "duration": 427,
    "start_time": "2021-10-18T08:53:52.987Z"
   },
   {
    "duration": 14,
    "start_time": "2021-10-18T08:53:53.416Z"
   },
   {
    "duration": 362,
    "start_time": "2021-10-18T08:53:53.433Z"
   },
   {
    "duration": 279,
    "start_time": "2021-10-18T08:53:53.797Z"
   },
   {
    "duration": 17,
    "start_time": "2021-10-18T08:53:54.082Z"
   },
   {
    "duration": 28,
    "start_time": "2021-10-18T08:53:54.101Z"
   },
   {
    "duration": 360,
    "start_time": "2021-10-18T08:53:54.131Z"
   },
   {
    "duration": 14,
    "start_time": "2021-10-18T08:53:54.493Z"
   },
   {
    "duration": 406,
    "start_time": "2021-10-18T08:53:54.510Z"
   },
   {
    "duration": 328,
    "start_time": "2021-10-18T08:53:54.919Z"
   },
   {
    "duration": 36,
    "start_time": "2021-10-18T08:53:55.249Z"
   },
   {
    "duration": 17,
    "start_time": "2021-10-18T08:53:55.288Z"
   },
   {
    "duration": 359,
    "start_time": "2021-10-18T08:53:55.308Z"
   },
   {
    "duration": 23,
    "start_time": "2021-10-18T08:53:55.670Z"
   },
   {
    "duration": 378,
    "start_time": "2021-10-18T08:53:55.695Z"
   },
   {
    "duration": 291,
    "start_time": "2021-10-18T08:53:56.076Z"
   },
   {
    "duration": 38,
    "start_time": "2021-10-18T08:53:56.370Z"
   },
   {
    "duration": 11,
    "start_time": "2021-10-18T08:53:56.410Z"
   },
   {
    "duration": 16,
    "start_time": "2021-10-18T08:53:56.423Z"
   },
   {
    "duration": 79,
    "start_time": "2021-10-18T08:57:12.204Z"
   },
   {
    "duration": 20,
    "start_time": "2021-10-18T08:57:38.865Z"
   },
   {
    "duration": 19,
    "start_time": "2021-10-18T08:58:32.666Z"
   },
   {
    "duration": 1433,
    "start_time": "2021-10-18T08:58:54.733Z"
   },
   {
    "duration": 75,
    "start_time": "2021-10-18T08:58:56.169Z"
   },
   {
    "duration": 46,
    "start_time": "2021-10-18T08:58:56.249Z"
   },
   {
    "duration": 38,
    "start_time": "2021-10-18T08:58:56.299Z"
   },
   {
    "duration": 27,
    "start_time": "2021-10-18T08:58:56.340Z"
   },
   {
    "duration": 18,
    "start_time": "2021-10-18T08:58:56.370Z"
   },
   {
    "duration": 24,
    "start_time": "2021-10-18T08:58:56.391Z"
   },
   {
    "duration": 8,
    "start_time": "2021-10-18T08:58:56.418Z"
   },
   {
    "duration": 10,
    "start_time": "2021-10-18T08:58:56.430Z"
   },
   {
    "duration": 58,
    "start_time": "2021-10-18T08:58:56.444Z"
   },
   {
    "duration": 28,
    "start_time": "2021-10-18T08:58:56.505Z"
   },
   {
    "duration": 49,
    "start_time": "2021-10-18T08:58:56.536Z"
   },
   {
    "duration": 39,
    "start_time": "2021-10-18T08:58:56.588Z"
   },
   {
    "duration": 15,
    "start_time": "2021-10-18T08:58:56.629Z"
   },
   {
    "duration": 43,
    "start_time": "2021-10-18T08:58:56.647Z"
   },
   {
    "duration": 13,
    "start_time": "2021-10-18T08:58:56.693Z"
   },
   {
    "duration": 37,
    "start_time": "2021-10-18T08:58:56.708Z"
   },
   {
    "duration": 40,
    "start_time": "2021-10-18T08:58:56.747Z"
   },
   {
    "duration": 1818,
    "start_time": "2021-10-18T08:58:56.789Z"
   },
   {
    "duration": 33,
    "start_time": "2021-10-18T08:58:58.610Z"
   },
   {
    "duration": 52,
    "start_time": "2021-10-18T08:58:58.646Z"
   },
   {
    "duration": 3510,
    "start_time": "2021-10-18T08:58:58.701Z"
   },
   {
    "duration": 2566,
    "start_time": "2021-10-18T08:59:02.215Z"
   },
   {
    "duration": 17,
    "start_time": "2021-10-18T08:59:04.783Z"
   },
   {
    "duration": 368,
    "start_time": "2021-10-18T08:59:04.803Z"
   },
   {
    "duration": 393,
    "start_time": "2021-10-18T08:59:05.174Z"
   },
   {
    "duration": 18,
    "start_time": "2021-10-18T08:59:05.572Z"
   },
   {
    "duration": 19,
    "start_time": "2021-10-18T08:59:05.594Z"
   },
   {
    "duration": 388,
    "start_time": "2021-10-18T08:59:05.615Z"
   },
   {
    "duration": 405,
    "start_time": "2021-10-18T08:59:06.006Z"
   },
   {
    "duration": 11,
    "start_time": "2021-10-18T08:59:06.414Z"
   },
   {
    "duration": 23,
    "start_time": "2021-10-18T08:59:06.427Z"
   },
   {
    "duration": 458,
    "start_time": "2021-10-18T08:59:06.452Z"
   },
   {
    "duration": 370,
    "start_time": "2021-10-18T08:59:06.912Z"
   },
   {
    "duration": 11,
    "start_time": "2021-10-18T08:59:07.285Z"
   },
   {
    "duration": 21,
    "start_time": "2021-10-18T08:59:07.299Z"
   },
   {
    "duration": 398,
    "start_time": "2021-10-18T08:59:07.322Z"
   },
   {
    "duration": 384,
    "start_time": "2021-10-18T08:59:07.723Z"
   },
   {
    "duration": 11,
    "start_time": "2021-10-18T08:59:08.110Z"
   },
   {
    "duration": 22,
    "start_time": "2021-10-18T08:59:08.124Z"
   },
   {
    "duration": 37,
    "start_time": "2021-10-18T08:59:08.149Z"
   },
   {
    "duration": 28,
    "start_time": "2021-10-18T08:59:08.189Z"
   },
   {
    "duration": 13,
    "start_time": "2021-10-18T08:59:08.220Z"
   },
   {
    "duration": 29,
    "start_time": "2021-10-18T08:59:08.236Z"
   },
   {
    "duration": 80,
    "start_time": "2021-10-18T08:59:08.283Z"
   },
   {
    "duration": 349,
    "start_time": "2021-10-18T08:59:08.382Z"
   },
   {
    "duration": 14,
    "start_time": "2021-10-18T08:59:08.734Z"
   },
   {
    "duration": 356,
    "start_time": "2021-10-18T08:59:08.751Z"
   },
   {
    "duration": 277,
    "start_time": "2021-10-18T08:59:09.109Z"
   },
   {
    "duration": 18,
    "start_time": "2021-10-18T08:59:09.389Z"
   },
   {
    "duration": 17,
    "start_time": "2021-10-18T08:59:09.409Z"
   },
   {
    "duration": 370,
    "start_time": "2021-10-18T08:59:09.428Z"
   },
   {
    "duration": 15,
    "start_time": "2021-10-18T08:59:09.801Z"
   },
   {
    "duration": 378,
    "start_time": "2021-10-18T08:59:09.818Z"
   },
   {
    "duration": 260,
    "start_time": "2021-10-18T08:59:10.198Z"
   },
   {
    "duration": 28,
    "start_time": "2021-10-18T08:59:10.460Z"
   },
   {
    "duration": 19,
    "start_time": "2021-10-18T08:59:10.490Z"
   },
   {
    "duration": 347,
    "start_time": "2021-10-18T08:59:10.511Z"
   },
   {
    "duration": 23,
    "start_time": "2021-10-18T08:59:10.861Z"
   },
   {
    "duration": 479,
    "start_time": "2021-10-18T08:59:10.886Z"
   },
   {
    "duration": 274,
    "start_time": "2021-10-18T08:59:11.368Z"
   },
   {
    "duration": 39,
    "start_time": "2021-10-18T08:59:11.645Z"
   },
   {
    "duration": 20,
    "start_time": "2021-10-18T08:59:11.686Z"
   },
   {
    "duration": 19,
    "start_time": "2021-10-18T08:59:11.709Z"
   },
   {
    "duration": 1369,
    "start_time": "2021-10-18T08:59:46.862Z"
   },
   {
    "duration": 86,
    "start_time": "2021-10-18T08:59:48.234Z"
   },
   {
    "duration": 28,
    "start_time": "2021-10-18T08:59:48.324Z"
   },
   {
    "duration": 37,
    "start_time": "2021-10-18T08:59:48.354Z"
   },
   {
    "duration": 31,
    "start_time": "2021-10-18T08:59:48.394Z"
   },
   {
    "duration": 17,
    "start_time": "2021-10-18T08:59:48.428Z"
   },
   {
    "duration": 39,
    "start_time": "2021-10-18T08:59:48.447Z"
   },
   {
    "duration": 10,
    "start_time": "2021-10-18T08:59:48.492Z"
   },
   {
    "duration": 12,
    "start_time": "2021-10-18T08:59:48.506Z"
   },
   {
    "duration": 69,
    "start_time": "2021-10-18T08:59:48.521Z"
   },
   {
    "duration": 26,
    "start_time": "2021-10-18T08:59:48.593Z"
   },
   {
    "duration": 20,
    "start_time": "2021-10-18T08:59:48.621Z"
   },
   {
    "duration": 59,
    "start_time": "2021-10-18T08:59:48.644Z"
   },
   {
    "duration": 16,
    "start_time": "2021-10-18T08:59:48.705Z"
   },
   {
    "duration": 13,
    "start_time": "2021-10-18T08:59:48.724Z"
   },
   {
    "duration": 44,
    "start_time": "2021-10-18T08:59:48.739Z"
   },
   {
    "duration": 33,
    "start_time": "2021-10-18T08:59:48.786Z"
   },
   {
    "duration": 25,
    "start_time": "2021-10-18T08:59:48.821Z"
   },
   {
    "duration": 1829,
    "start_time": "2021-10-18T08:59:48.848Z"
   },
   {
    "duration": 31,
    "start_time": "2021-10-18T08:59:50.683Z"
   },
   {
    "duration": 22,
    "start_time": "2021-10-18T08:59:50.716Z"
   },
   {
    "duration": 3487,
    "start_time": "2021-10-18T08:59:50.740Z"
   },
   {
    "duration": 2541,
    "start_time": "2021-10-18T08:59:54.232Z"
   },
   {
    "duration": 18,
    "start_time": "2021-10-18T08:59:56.784Z"
   },
   {
    "duration": 380,
    "start_time": "2021-10-18T08:59:56.805Z"
   },
   {
    "duration": 373,
    "start_time": "2021-10-18T08:59:57.187Z"
   },
   {
    "duration": 12,
    "start_time": "2021-10-18T08:59:57.562Z"
   },
   {
    "duration": 22,
    "start_time": "2021-10-18T08:59:57.583Z"
   },
   {
    "duration": 480,
    "start_time": "2021-10-18T08:59:57.608Z"
   },
   {
    "duration": 399,
    "start_time": "2021-10-18T08:59:58.090Z"
   },
   {
    "duration": 11,
    "start_time": "2021-10-18T08:59:58.492Z"
   },
   {
    "duration": 26,
    "start_time": "2021-10-18T08:59:58.505Z"
   },
   {
    "duration": 440,
    "start_time": "2021-10-18T08:59:58.534Z"
   },
   {
    "duration": 406,
    "start_time": "2021-10-18T08:59:58.976Z"
   },
   {
    "duration": 14,
    "start_time": "2021-10-18T08:59:59.385Z"
   },
   {
    "duration": 19,
    "start_time": "2021-10-18T08:59:59.402Z"
   },
   {
    "duration": 436,
    "start_time": "2021-10-18T08:59:59.424Z"
   },
   {
    "duration": 414,
    "start_time": "2021-10-18T08:59:59.863Z"
   },
   {
    "duration": 15,
    "start_time": "2021-10-18T09:00:00.283Z"
   },
   {
    "duration": 40,
    "start_time": "2021-10-18T09:00:00.300Z"
   },
   {
    "duration": 34,
    "start_time": "2021-10-18T09:00:00.343Z"
   },
   {
    "duration": 49,
    "start_time": "2021-10-18T09:00:00.380Z"
   },
   {
    "duration": 18,
    "start_time": "2021-10-18T09:00:00.432Z"
   },
   {
    "duration": 32,
    "start_time": "2021-10-18T09:00:00.452Z"
   },
   {
    "duration": 31,
    "start_time": "2021-10-18T09:00:00.486Z"
   },
   {
    "duration": 409,
    "start_time": "2021-10-18T09:00:00.519Z"
   },
   {
    "duration": 14,
    "start_time": "2021-10-18T09:00:00.930Z"
   },
   {
    "duration": 358,
    "start_time": "2021-10-18T09:00:00.947Z"
   },
   {
    "duration": 281,
    "start_time": "2021-10-18T09:00:01.308Z"
   },
   {
    "duration": 18,
    "start_time": "2021-10-18T09:00:01.591Z"
   },
   {
    "duration": 30,
    "start_time": "2021-10-18T09:00:01.612Z"
   },
   {
    "duration": 370,
    "start_time": "2021-10-18T09:00:01.645Z"
   },
   {
    "duration": 15,
    "start_time": "2021-10-18T09:00:02.017Z"
   },
   {
    "duration": 390,
    "start_time": "2021-10-18T09:00:02.034Z"
   },
   {
    "duration": 284,
    "start_time": "2021-10-18T09:00:02.426Z"
   },
   {
    "duration": 19,
    "start_time": "2021-10-18T09:00:02.712Z"
   },
   {
    "duration": 33,
    "start_time": "2021-10-18T09:00:02.734Z"
   },
   {
    "duration": 345,
    "start_time": "2021-10-18T09:00:02.770Z"
   },
   {
    "duration": 16,
    "start_time": "2021-10-18T09:00:03.117Z"
   },
   {
    "duration": 407,
    "start_time": "2021-10-18T09:00:03.135Z"
   },
   {
    "duration": 274,
    "start_time": "2021-10-18T09:00:03.544Z"
   },
   {
    "duration": 30,
    "start_time": "2021-10-18T09:00:03.820Z"
   },
   {
    "duration": 42,
    "start_time": "2021-10-18T09:00:03.852Z"
   },
   {
    "duration": 127,
    "start_time": "2021-10-18T09:00:03.896Z"
   },
   {
    "duration": 1399,
    "start_time": "2021-10-18T09:07:25.643Z"
   },
   {
    "duration": 75,
    "start_time": "2021-10-18T09:07:27.044Z"
   },
   {
    "duration": 30,
    "start_time": "2021-10-18T09:07:27.122Z"
   },
   {
    "duration": 35,
    "start_time": "2021-10-18T09:07:27.155Z"
   },
   {
    "duration": 36,
    "start_time": "2021-10-18T09:07:27.193Z"
   },
   {
    "duration": 14,
    "start_time": "2021-10-18T09:07:27.232Z"
   },
   {
    "duration": 35,
    "start_time": "2021-10-18T09:07:27.248Z"
   },
   {
    "duration": 32,
    "start_time": "2021-10-18T09:07:27.286Z"
   },
   {
    "duration": 16,
    "start_time": "2021-10-18T09:07:27.321Z"
   },
   {
    "duration": 50,
    "start_time": "2021-10-18T09:07:27.339Z"
   },
   {
    "duration": 26,
    "start_time": "2021-10-18T09:07:27.391Z"
   },
   {
    "duration": 20,
    "start_time": "2021-10-18T09:07:27.419Z"
   },
   {
    "duration": 53,
    "start_time": "2021-10-18T09:07:27.442Z"
   },
   {
    "duration": 15,
    "start_time": "2021-10-18T09:07:27.497Z"
   },
   {
    "duration": 24,
    "start_time": "2021-10-18T09:07:27.515Z"
   },
   {
    "duration": 42,
    "start_time": "2021-10-18T09:07:27.541Z"
   },
   {
    "duration": 33,
    "start_time": "2021-10-18T09:07:27.585Z"
   },
   {
    "duration": 20,
    "start_time": "2021-10-18T09:07:27.621Z"
   },
   {
    "duration": 1772,
    "start_time": "2021-10-18T09:07:27.643Z"
   },
   {
    "duration": 33,
    "start_time": "2021-10-18T09:07:29.417Z"
   },
   {
    "duration": 50,
    "start_time": "2021-10-18T09:07:29.452Z"
   },
   {
    "duration": 3700,
    "start_time": "2021-10-18T09:07:29.504Z"
   },
   {
    "duration": 2731,
    "start_time": "2021-10-18T09:07:33.210Z"
   },
   {
    "duration": 19,
    "start_time": "2021-10-18T09:07:35.945Z"
   },
   {
    "duration": 399,
    "start_time": "2021-10-18T09:07:35.966Z"
   },
   {
    "duration": 408,
    "start_time": "2021-10-18T09:07:36.368Z"
   },
   {
    "duration": 13,
    "start_time": "2021-10-18T09:07:36.778Z"
   },
   {
    "duration": 23,
    "start_time": "2021-10-18T09:07:36.793Z"
   },
   {
    "duration": 386,
    "start_time": "2021-10-18T09:07:36.819Z"
   },
   {
    "duration": 388,
    "start_time": "2021-10-18T09:07:37.208Z"
   },
   {
    "duration": 14,
    "start_time": "2021-10-18T09:07:37.599Z"
   },
   {
    "duration": 18,
    "start_time": "2021-10-18T09:07:37.616Z"
   },
   {
    "duration": 473,
    "start_time": "2021-10-18T09:07:37.637Z"
   },
   {
    "duration": 385,
    "start_time": "2021-10-18T09:07:38.114Z"
   },
   {
    "duration": 13,
    "start_time": "2021-10-18T09:07:38.502Z"
   },
   {
    "duration": 17,
    "start_time": "2021-10-18T09:07:38.518Z"
   },
   {
    "duration": 443,
    "start_time": "2021-10-18T09:07:38.537Z"
   },
   {
    "duration": 387,
    "start_time": "2021-10-18T09:07:38.982Z"
   },
   {
    "duration": 16,
    "start_time": "2021-10-18T09:07:39.371Z"
   },
   {
    "duration": 20,
    "start_time": "2021-10-18T09:07:39.389Z"
   },
   {
    "duration": 14,
    "start_time": "2021-10-18T09:07:39.412Z"
   },
   {
    "duration": 27,
    "start_time": "2021-10-18T09:07:39.429Z"
   },
   {
    "duration": 5,
    "start_time": "2021-10-18T09:07:39.483Z"
   },
   {
    "duration": 20,
    "start_time": "2021-10-18T09:07:39.491Z"
   },
   {
    "duration": 15,
    "start_time": "2021-10-18T09:07:39.513Z"
   },
   {
    "duration": 418,
    "start_time": "2021-10-18T09:07:39.530Z"
   },
   {
    "duration": 14,
    "start_time": "2021-10-18T09:07:39.950Z"
   },
   {
    "duration": 351,
    "start_time": "2021-10-18T09:07:39.982Z"
   },
   {
    "duration": 280,
    "start_time": "2021-10-18T09:07:40.336Z"
   },
   {
    "duration": 19,
    "start_time": "2021-10-18T09:07:40.618Z"
   },
   {
    "duration": 19,
    "start_time": "2021-10-18T09:07:40.640Z"
   },
   {
    "duration": 360,
    "start_time": "2021-10-18T09:07:40.683Z"
   },
   {
    "duration": 15,
    "start_time": "2021-10-18T09:07:41.046Z"
   },
   {
    "duration": 383,
    "start_time": "2021-10-18T09:07:41.063Z"
   },
   {
    "duration": 276,
    "start_time": "2021-10-18T09:07:41.449Z"
   },
   {
    "duration": 17,
    "start_time": "2021-10-18T09:07:41.728Z"
   },
   {
    "duration": 37,
    "start_time": "2021-10-18T09:07:41.747Z"
   },
   {
    "duration": 347,
    "start_time": "2021-10-18T09:07:41.787Z"
   },
   {
    "duration": 15,
    "start_time": "2021-10-18T09:07:42.136Z"
   },
   {
    "duration": 366,
    "start_time": "2021-10-18T09:07:42.153Z"
   },
   {
    "duration": 284,
    "start_time": "2021-10-18T09:07:42.522Z"
   },
   {
    "duration": 31,
    "start_time": "2021-10-18T09:07:42.808Z"
   },
   {
    "duration": 43,
    "start_time": "2021-10-18T09:07:42.842Z"
   },
   {
    "duration": 112,
    "start_time": "2021-10-18T09:07:42.887Z"
   },
   {
    "duration": 1329,
    "start_time": "2021-10-18T09:09:54.008Z"
   },
   {
    "duration": 72,
    "start_time": "2021-10-18T09:09:55.339Z"
   },
   {
    "duration": 30,
    "start_time": "2021-10-18T09:09:55.415Z"
   },
   {
    "duration": 35,
    "start_time": "2021-10-18T09:09:55.449Z"
   },
   {
    "duration": 23,
    "start_time": "2021-10-18T09:09:55.488Z"
   },
   {
    "duration": 13,
    "start_time": "2021-10-18T09:09:55.514Z"
   },
   {
    "duration": 63,
    "start_time": "2021-10-18T09:09:55.530Z"
   },
   {
    "duration": 10,
    "start_time": "2021-10-18T09:09:55.599Z"
   },
   {
    "duration": 7,
    "start_time": "2021-10-18T09:09:55.612Z"
   },
   {
    "duration": 63,
    "start_time": "2021-10-18T09:09:55.621Z"
   },
   {
    "duration": 29,
    "start_time": "2021-10-18T09:09:55.686Z"
   },
   {
    "duration": 28,
    "start_time": "2021-10-18T09:09:55.717Z"
   },
   {
    "duration": 58,
    "start_time": "2021-10-18T09:09:55.748Z"
   },
   {
    "duration": 14,
    "start_time": "2021-10-18T09:09:55.809Z"
   },
   {
    "duration": 14,
    "start_time": "2021-10-18T09:09:55.825Z"
   },
   {
    "duration": 43,
    "start_time": "2021-10-18T09:09:55.841Z"
   },
   {
    "duration": 41,
    "start_time": "2021-10-18T09:09:55.887Z"
   },
   {
    "duration": 20,
    "start_time": "2021-10-18T09:09:55.930Z"
   },
   {
    "duration": 1707,
    "start_time": "2021-10-18T09:09:55.952Z"
   },
   {
    "duration": 46,
    "start_time": "2021-10-18T09:09:57.662Z"
   },
   {
    "duration": 26,
    "start_time": "2021-10-18T09:09:57.710Z"
   },
   {
    "duration": 3488,
    "start_time": "2021-10-18T09:09:57.738Z"
   },
   {
    "duration": 2787,
    "start_time": "2021-10-18T09:10:01.234Z"
   },
   {
    "duration": 17,
    "start_time": "2021-10-18T09:10:04.025Z"
   },
   {
    "duration": 402,
    "start_time": "2021-10-18T09:10:04.045Z"
   },
   {
    "duration": 402,
    "start_time": "2021-10-18T09:10:04.450Z"
   },
   {
    "duration": 11,
    "start_time": "2021-10-18T09:10:04.855Z"
   },
   {
    "duration": 18,
    "start_time": "2021-10-18T09:10:04.883Z"
   },
   {
    "duration": 397,
    "start_time": "2021-10-18T09:10:04.904Z"
   },
   {
    "duration": 387,
    "start_time": "2021-10-18T09:10:05.304Z"
   },
   {
    "duration": 13,
    "start_time": "2021-10-18T09:10:05.693Z"
   },
   {
    "duration": 21,
    "start_time": "2021-10-18T09:10:05.708Z"
   },
   {
    "duration": 439,
    "start_time": "2021-10-18T09:10:05.732Z"
   },
   {
    "duration": 399,
    "start_time": "2021-10-18T09:10:06.173Z"
   },
   {
    "duration": 12,
    "start_time": "2021-10-18T09:10:06.582Z"
   },
   {
    "duration": 18,
    "start_time": "2021-10-18T09:10:06.597Z"
   },
   {
    "duration": 385,
    "start_time": "2021-10-18T09:10:06.617Z"
   },
   {
    "duration": 387,
    "start_time": "2021-10-18T09:10:07.006Z"
   },
   {
    "duration": 13,
    "start_time": "2021-10-18T09:10:07.396Z"
   },
   {
    "duration": 17,
    "start_time": "2021-10-18T09:10:07.412Z"
   },
   {
    "duration": 52,
    "start_time": "2021-10-18T09:10:07.432Z"
   },
   {
    "duration": 30,
    "start_time": "2021-10-18T09:10:07.487Z"
   },
   {
    "duration": 19,
    "start_time": "2021-10-18T09:10:07.520Z"
   },
   {
    "duration": 40,
    "start_time": "2021-10-18T09:10:07.542Z"
   },
   {
    "duration": 14,
    "start_time": "2021-10-18T09:10:07.584Z"
   },
   {
    "duration": 421,
    "start_time": "2021-10-18T09:10:07.601Z"
   },
   {
    "duration": 14,
    "start_time": "2021-10-18T09:10:08.025Z"
   },
   {
    "duration": 370,
    "start_time": "2021-10-18T09:10:08.041Z"
   },
   {
    "duration": 280,
    "start_time": "2021-10-18T09:10:08.413Z"
   },
   {
    "duration": 17,
    "start_time": "2021-10-18T09:10:08.695Z"
   },
   {
    "duration": 19,
    "start_time": "2021-10-18T09:10:08.714Z"
   },
   {
    "duration": 403,
    "start_time": "2021-10-18T09:10:08.736Z"
   },
   {
    "duration": 14,
    "start_time": "2021-10-18T09:10:09.142Z"
   },
   {
    "duration": 387,
    "start_time": "2021-10-18T09:10:09.159Z"
   },
   {
    "duration": 290,
    "start_time": "2021-10-18T09:10:09.548Z"
   },
   {
    "duration": 19,
    "start_time": "2021-10-18T09:10:09.841Z"
   },
   {
    "duration": 28,
    "start_time": "2021-10-18T09:10:09.862Z"
   },
   {
    "duration": 368,
    "start_time": "2021-10-18T09:10:09.892Z"
   },
   {
    "duration": 23,
    "start_time": "2021-10-18T09:10:10.263Z"
   },
   {
    "duration": 359,
    "start_time": "2021-10-18T09:10:10.288Z"
   },
   {
    "duration": 286,
    "start_time": "2021-10-18T09:10:10.650Z"
   },
   {
    "duration": 29,
    "start_time": "2021-10-18T09:10:10.939Z"
   },
   {
    "duration": 23,
    "start_time": "2021-10-18T09:10:10.984Z"
   },
   {
    "duration": 140,
    "start_time": "2021-10-18T09:10:11.010Z"
   },
   {
    "duration": 1154,
    "start_time": "2021-10-18T18:05:56.112Z"
   },
   {
    "duration": 57,
    "start_time": "2021-10-18T18:05:57.268Z"
   },
   {
    "duration": 20,
    "start_time": "2021-10-18T18:05:57.327Z"
   },
   {
    "duration": 19,
    "start_time": "2021-10-18T18:05:57.348Z"
   },
   {
    "duration": 17,
    "start_time": "2021-10-18T18:05:57.369Z"
   },
   {
    "duration": 9,
    "start_time": "2021-10-18T18:05:57.388Z"
   },
   {
    "duration": 11,
    "start_time": "2021-10-18T18:05:57.399Z"
   },
   {
    "duration": 7,
    "start_time": "2021-10-18T18:05:57.413Z"
   },
   {
    "duration": 5,
    "start_time": "2021-10-18T18:05:57.422Z"
   },
   {
    "duration": 57,
    "start_time": "2021-10-18T18:05:57.429Z"
   },
   {
    "duration": 17,
    "start_time": "2021-10-18T18:05:57.488Z"
   },
   {
    "duration": 17,
    "start_time": "2021-10-18T18:05:57.508Z"
   },
   {
    "duration": 54,
    "start_time": "2021-10-18T18:05:57.527Z"
   },
   {
    "duration": 13,
    "start_time": "2021-10-18T18:05:57.583Z"
   },
   {
    "duration": 11,
    "start_time": "2021-10-18T18:05:57.598Z"
   },
   {
    "duration": 11,
    "start_time": "2021-10-18T18:05:57.611Z"
   },
   {
    "duration": 56,
    "start_time": "2021-10-18T18:05:57.624Z"
   },
   {
    "duration": 17,
    "start_time": "2021-10-18T18:05:57.682Z"
   },
   {
    "duration": 1140,
    "start_time": "2021-10-18T18:05:57.701Z"
   },
   {
    "duration": 31,
    "start_time": "2021-10-18T18:05:58.842Z"
   },
   {
    "duration": 15,
    "start_time": "2021-10-18T18:05:58.875Z"
   },
   {
    "duration": 2333,
    "start_time": "2021-10-18T18:05:58.892Z"
   },
   {
    "duration": 1756,
    "start_time": "2021-10-18T18:06:01.230Z"
   },
   {
    "duration": 13,
    "start_time": "2021-10-18T18:06:02.989Z"
   },
   {
    "duration": 266,
    "start_time": "2021-10-18T18:06:03.004Z"
   },
   {
    "duration": 284,
    "start_time": "2021-10-18T18:06:03.272Z"
   },
   {
    "duration": 8,
    "start_time": "2021-10-18T18:06:03.563Z"
   },
   {
    "duration": 25,
    "start_time": "2021-10-18T18:06:03.573Z"
   },
   {
    "duration": 307,
    "start_time": "2021-10-18T18:06:03.600Z"
   },
   {
    "duration": 305,
    "start_time": "2021-10-18T18:06:03.909Z"
   },
   {
    "duration": 9,
    "start_time": "2021-10-18T18:06:04.215Z"
   },
   {
    "duration": 21,
    "start_time": "2021-10-18T18:06:04.225Z"
   },
   {
    "duration": 334,
    "start_time": "2021-10-18T18:06:04.248Z"
   },
   {
    "duration": 314,
    "start_time": "2021-10-18T18:06:04.584Z"
   },
   {
    "duration": 9,
    "start_time": "2021-10-18T18:06:04.900Z"
   },
   {
    "duration": 15,
    "start_time": "2021-10-18T18:06:04.910Z"
   },
   {
    "duration": 352,
    "start_time": "2021-10-18T18:06:04.927Z"
   },
   {
    "duration": 305,
    "start_time": "2021-10-18T18:06:05.281Z"
   },
   {
    "duration": 9,
    "start_time": "2021-10-18T18:06:05.587Z"
   },
   {
    "duration": 13,
    "start_time": "2021-10-18T18:06:05.597Z"
   },
   {
    "duration": 13,
    "start_time": "2021-10-18T18:06:05.612Z"
   },
   {
    "duration": 39,
    "start_time": "2021-10-18T18:06:05.627Z"
   },
   {
    "duration": 9,
    "start_time": "2021-10-18T18:06:05.668Z"
   },
   {
    "duration": 18,
    "start_time": "2021-10-18T18:06:05.679Z"
   },
   {
    "duration": 13,
    "start_time": "2021-10-18T18:06:05.699Z"
   },
   {
    "duration": 308,
    "start_time": "2021-10-18T18:06:05.714Z"
   },
   {
    "duration": 11,
    "start_time": "2021-10-18T18:06:06.024Z"
   },
   {
    "duration": 233,
    "start_time": "2021-10-18T18:06:06.037Z"
   },
   {
    "duration": 193,
    "start_time": "2021-10-18T18:06:06.272Z"
   },
   {
    "duration": 11,
    "start_time": "2021-10-18T18:06:06.467Z"
   },
   {
    "duration": 11,
    "start_time": "2021-10-18T18:06:06.480Z"
   },
   {
    "duration": 253,
    "start_time": "2021-10-18T18:06:06.493Z"
   },
   {
    "duration": 20,
    "start_time": "2021-10-18T18:06:06.747Z"
   },
   {
    "duration": 237,
    "start_time": "2021-10-18T18:06:06.769Z"
   },
   {
    "duration": 176,
    "start_time": "2021-10-18T18:06:07.008Z"
   },
   {
    "duration": 13,
    "start_time": "2021-10-18T18:06:07.186Z"
   },
   {
    "duration": 18,
    "start_time": "2021-10-18T18:06:07.201Z"
   },
   {
    "duration": 227,
    "start_time": "2021-10-18T18:06:07.221Z"
   },
   {
    "duration": 24,
    "start_time": "2021-10-18T18:06:07.450Z"
   },
   {
    "duration": 246,
    "start_time": "2021-10-18T18:06:07.475Z"
   },
   {
    "duration": 190,
    "start_time": "2021-10-18T18:06:07.723Z"
   },
   {
    "duration": 19,
    "start_time": "2021-10-18T18:06:07.915Z"
   },
   {
    "duration": 28,
    "start_time": "2021-10-18T18:06:07.936Z"
   },
   {
    "duration": 122,
    "start_time": "2021-10-18T18:06:07.966Z"
   }
  ],
  "kernelspec": {
   "display_name": "Python 3",
   "language": "python",
   "name": "python3"
  },
  "language_info": {
   "codemirror_mode": {
    "name": "ipython",
    "version": 3
   },
   "file_extension": ".py",
   "mimetype": "text/x-python",
   "name": "python",
   "nbconvert_exporter": "python",
   "pygments_lexer": "ipython3",
   "version": "3.8.8"
  },
  "toc": {
   "base_numbering": 1,
   "nav_menu": {},
   "number_sections": true,
   "sideBar": true,
   "skip_h1_title": true,
   "title_cell": "Table of Contents",
   "title_sidebar": "Contents",
   "toc_cell": false,
   "toc_position": {},
   "toc_section_display": true,
   "toc_window_display": false
  }
 },
 "nbformat": 4,
 "nbformat_minor": 2
}
